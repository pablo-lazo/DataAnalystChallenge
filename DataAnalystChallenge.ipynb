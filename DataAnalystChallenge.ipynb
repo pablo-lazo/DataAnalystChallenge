{
  "nbformat": 4,
  "nbformat_minor": 0,
  "metadata": {
    "colab": {
      "name": "DataAnalystChallenge.ipynb",
      "provenance": [],
      "collapsed_sections": [],
      "include_colab_link": true
    },
    "kernelspec": {
      "name": "python3",
      "display_name": "Python 3"
    }
  },
  "cells": [
    {
      "cell_type": "markdown",
      "metadata": {
        "id": "view-in-github",
        "colab_type": "text"
      },
      "source": [
        "<a href=\"https://colab.research.google.com/github/pablo-lazo/DataAnalystChallenge/blob/main/DataAnalystChallenge.ipynb\" target=\"_parent\"><img src=\"https://colab.research.google.com/assets/colab-badge.svg\" alt=\"Open In Colab\"/></a>"
      ]
    },
    {
      "cell_type": "markdown",
      "metadata": {
        "id": "9kIMl6JEt2A_"
      },
      "source": [
        "# Descripción de base de datos:\r\n",
        "Todos los datos han sido generados de manera aleatoria pero manteniendo cierta cercanía (de manera muy simplificada) con la estructura de bases de datos.\r\n",
        "\r\n",
        "Una cuenta es la entidad mayor que puede tener un cliente, esta cuenta puede tener asociadas una o varias suscripciones, la suscripción es lo que paga el cliente. Una cuenta también puede tener uno o varios usuarios los cuales a su vez pueden tener uno o varios dispositivos asociados. Los dispositivos son los equipos móviles que protegen los clientes.\r\n",
        "\r\n",
        "##Tabla **subscriptions:**\r\n",
        "\r\n",
        "Esta es una empresa SaaS, por lo que nuestro modelo se basa en suscripciones. Esta tabla ejemplifica algunos datos de una suscripción:\r\n",
        "\r\n",
        "**id:** El id de una suscripción.\r\n",
        "\r\n",
        "**customer_id:** El id de un usuario.\r\n",
        "\r\n",
        "**plan:** El tipo de plan que podría comprar un usuario, con su intervalo de pago.\r\n",
        "\r\n",
        "**plan_quantity:** La cantidad de dispositivos que los usuarios están pagando para proteger.\r\n",
        "\r\n",
        "\r\n",
        "**plan_unit_price:** El valor de un dispositivo en USD.\r\n",
        "\r\n",
        "**plan_amount:** El valor total que paga un cliente por período de facturación en USD.\r\n",
        "\r\n",
        "**billing_period:** La frecuencia del período de pago.\r\n",
        "\r\n",
        "**billing_period_unit:** La unidad del período de pago.\r\n",
        "\r\n",
        "**status:** El estado de una suscripción.\r\n",
        "\r\n",
        "**created_at:** La fecha de creación de la suscripción.\r\n",
        "\r\n",
        "**cancelled_at:** La fecha de cancelación de una suscripción, si es que ya no está activa.\r\n",
        "\r\n",
        "**mrr:** El Monthly Recurrent Revenue de una suscripción (el pago según período normalizado a meses).\r\n",
        "\r\n",
        "\r\n",
        "##Tabla **accounts**:\r\n",
        "\r\n",
        "Esta tabla sirve como tabla intermedia para ver el id de una cuenta a través del id de un cliente.\r\n",
        "\r\n",
        "**account_id:** El id de la cuenta.\r\n",
        "\r\n",
        "**customer_id:** El id de un cliente (asociado a una suscripción).\r\n",
        "\r\n",
        "##Tabla **users**:\r\n",
        "\r\n",
        "Una cuenta puede tener varios usuarios asociados. Aquí podemos ver a qué país pertenece un usuario, cuando fue creado y si está activo o no.\r\n",
        "\r\n",
        "**id:** Id del usuario.\r\n",
        "\r\n",
        "**created_at:** Fecha de creación del usuario.\r\n",
        "\r\n",
        "**country_name:** País al que pertenece el usuario.\r\n",
        "\r\n",
        "**state:** Estado del usuario.\r\n",
        "\r\n",
        "**account_id:** Id de la cuenta a la que pertenece el usuario.\r\n",
        "\r\n",
        "##Tabla **devices**:\r\n",
        "\r\n",
        "Esta tabla muestra información sobre los dispositivos que una cuenta tiene asociados, esta asociación va por usuarios.\r\n",
        "\r\n",
        "**id:** El id del dispositivo.\r\n",
        "\r\n",
        "**user_id:** El id del usuario al que está asociado ese dispositivo.\r\n",
        "\r\n",
        "**created_at:** La fecha en la que se asoció el dispositivo a la cuenta.\r\n",
        "\r\n",
        "**type:** El tipo de dispositivo.\r\n",
        "\r\n",
        "**os:** El sistema operativo del dispositivo.\r\n",
        "\r\n",
        "**state:** El estado en el que se encuentra el dispositivo en relación a la cuenta. El estado missing corresponde a dispositivos que se marcaron como perdidos en el software.\r\n",
        "\r\n",
        "\r\n",
        "\r\n"
      ]
    },
    {
      "cell_type": "markdown",
      "metadata": {
        "id": "RA0hDT_VX32z"
      },
      "source": [
        "# **CODIGO**"
      ]
    },
    {
      "cell_type": "markdown",
      "metadata": {
        "id": "rvGinAhRVf-G"
      },
      "source": [
        "## **Module imports**"
      ]
    },
    {
      "cell_type": "code",
      "metadata": {
        "colab": {
          "base_uri": "https://localhost:8080/"
        },
        "id": "8pikV-Ji_1rk",
        "outputId": "49e95da0-ae0f-49fd-9df9-2235d750f19f"
      },
      "source": [
        "import pandas as pd\r\n",
        "import numpy as np\r\n",
        "import matplotlib.pyplot as plt\r\n",
        "from mpl_toolkits.axes_grid1 import host_subplot\r\n",
        "import datetime\r\n",
        "from google.colab import drive\r\n",
        "from google.colab import files\r\n",
        "drive.mount('/content/gdrive')\r\n"
      ],
      "execution_count": null,
      "outputs": [
        {
          "output_type": "stream",
          "text": [
            "Drive already mounted at /content/gdrive; to attempt to forcibly remount, call drive.mount(\"/content/gdrive\", force_remount=True).\n"
          ],
          "name": "stdout"
        }
      ]
    },
    {
      "cell_type": "code",
      "metadata": {
        "id": "2N1aPzPwAu1b"
      },
      "source": [
        "data_dir = \"/content/gdrive/MyDrive/Colab Notebooks/DataAnalystChallenge/data\"\r\n",
        "styles_dir = \"/content/gdrive/MyDrive/Colab Notebooks/\\\r\n",
        "DataAnalystChallenge/mplstyles\"\r\n",
        "graphs_dir = \"/content/gdrive/MyDrive/Colab Notebooks/\\\r\n",
        "DataAnalystChallenge/graphs\"\r\n",
        "plt.style.use(f\"{styles_dir}/portfolio.mplstyle\")\r\n"
      ],
      "execution_count": null,
      "outputs": []
    },
    {
      "cell_type": "markdown",
      "metadata": {
        "id": "9ITWQaNRVs8e"
      },
      "source": [
        "## **Data Importing**"
      ]
    },
    {
      "cell_type": "code",
      "metadata": {
        "colab": {
          "base_uri": "https://localhost:8080/"
        },
        "id": "oAENr0NRm0DJ",
        "outputId": "675ddbef-df4c-4b02-cfcd-7b13fe28c7a6"
      },
      "source": [
        "# Importing files from gdrive folder\r\n",
        "subs = pd.read_csv(f\"{data_dir}/subscriptions.csv\",\r\n",
        "                   parse_dates=[\"created_at\", \"cancelled_at\"])\\\r\n",
        "                   .drop(\"Unnamed: 0\", axis=1)\r\n",
        "\r\n",
        "accs = pd.read_csv(f\"{data_dir}/accounts.csv\").drop(\"Unnamed: 0\", axis=1)\r\n",
        "\r\n",
        "usrs = pd.read_csv(f\"{data_dir}/users.csv\",\r\n",
        "                   parse_dates=[\"created_at\"]).drop(\"Unnamed: 0\", axis=1)\r\n",
        "\r\n",
        "dvcs = pd.read_csv(f\"{data_dir}/devices.csv\",\r\n",
        "                   parse_dates=[\"created_at\"]).drop(\"Unnamed: 0\", axis=1)\r\n",
        "\r\n",
        "print(subs.info(), accs.info(), usrs.info(), dvcs.info())"
      ],
      "execution_count": null,
      "outputs": [
        {
          "output_type": "stream",
          "text": [
            "<class 'pandas.core.frame.DataFrame'>\n",
            "RangeIndex: 1924 entries, 0 to 1923\n",
            "Data columns (total 12 columns):\n",
            " #   Column               Non-Null Count  Dtype         \n",
            "---  ------               --------------  -----         \n",
            " 0   id                   1924 non-null   object        \n",
            " 1   customer_id          1924 non-null   object        \n",
            " 2   plan                 1924 non-null   object        \n",
            " 3   plan_quantity        1924 non-null   int64         \n",
            " 4   plan_unit_price      1504 non-null   float64       \n",
            " 5   plan_amount          1504 non-null   float64       \n",
            " 6   billing_period       1924 non-null   int64         \n",
            " 7   billing_period_unit  1924 non-null   object        \n",
            " 8   status               1924 non-null   object        \n",
            " 9   created_at           1924 non-null   datetime64[ns]\n",
            " 10  cancelled_at         1053 non-null   datetime64[ns]\n",
            " 11  mrr                  1904 non-null   float64       \n",
            "dtypes: datetime64[ns](2), float64(3), int64(2), object(5)\n",
            "memory usage: 180.5+ KB\n",
            "<class 'pandas.core.frame.DataFrame'>\n",
            "RangeIndex: 1974 entries, 0 to 1973\n",
            "Data columns (total 2 columns):\n",
            " #   Column       Non-Null Count  Dtype \n",
            "---  ------       --------------  ----- \n",
            " 0   account_id   1974 non-null   object\n",
            " 1   customer_id  1974 non-null   object\n",
            "dtypes: object(2)\n",
            "memory usage: 31.0+ KB\n",
            "<class 'pandas.core.frame.DataFrame'>\n",
            "RangeIndex: 2828 entries, 0 to 2827\n",
            "Data columns (total 5 columns):\n",
            " #   Column        Non-Null Count  Dtype         \n",
            "---  ------        --------------  -----         \n",
            " 0   id            2828 non-null   object        \n",
            " 1   created_at    2828 non-null   datetime64[ns]\n",
            " 2   country_name  2576 non-null   object        \n",
            " 3   state         2828 non-null   object        \n",
            " 4   account_id    2828 non-null   object        \n",
            "dtypes: datetime64[ns](1), object(4)\n",
            "memory usage: 110.6+ KB\n",
            "<class 'pandas.core.frame.DataFrame'>\n",
            "RangeIndex: 56240 entries, 0 to 56239\n",
            "Data columns (total 6 columns):\n",
            " #   Column      Non-Null Count  Dtype         \n",
            "---  ------      --------------  -----         \n",
            " 0   id          56240 non-null  object        \n",
            " 1   user_id     56240 non-null  object        \n",
            " 2   created_at  56240 non-null  datetime64[ns]\n",
            " 3   type        56240 non-null  object        \n",
            " 4   os          56240 non-null  object        \n",
            " 5   state       56240 non-null  object        \n",
            "dtypes: datetime64[ns](1), object(5)\n",
            "memory usage: 2.6+ MB\n",
            "None None None None\n"
          ],
          "name": "stdout"
        }
      ]
    },
    {
      "cell_type": "markdown",
      "metadata": {
        "id": "kZYzHcSFV1Cp"
      },
      "source": [
        "## **EXPLORATORY/VISUAL DATA ANALISYS: SUBS TABLE**"
      ]
    },
    {
      "cell_type": "markdown",
      "metadata": {
        "id": "EbILJcP6ASVA"
      },
      "source": [
        "### **TL;DR SUBS TABLE EDA/VDA**\r\n",
        "\r\n",
        "Summary:\r\n",
        "+ Found 420 NaNs in **plan_unit_price** column. Values filled in by calculating the means of their respective plans associated.\r\n",
        "+ Found 420 NaNs in **plan_amount** columm. Values filled in by multiplying **plan_unit_price** x **plan_quantity**.\r\n",
        "+ Found 871 NaTs in **cancelled_at**. Values filled in with today's (today = whenever the nb is run) date.\r\n",
        "+ Found 20 NaNs in **mrr** column. Filled most of them with 0.\r\n",
        "+ Generated histograms to see data distribution."
      ]
    },
    {
      "cell_type": "markdown",
      "metadata": {
        "id": "i-YAjZpWATIU"
      },
      "source": [
        "### **SUBS TABLE EDA**"
      ]
    },
    {
      "cell_type": "code",
      "metadata": {
        "colab": {
          "base_uri": "https://localhost:8080/"
        },
        "id": "cpGn7kfzKkAP",
        "outputId": "fe15a0e7-6220-45e6-b600-dba31267ae48"
      },
      "source": [
        "print(f\"{subs.head()} \\n\\n{subs.info()}\")"
      ],
      "execution_count": null,
      "outputs": [
        {
          "output_type": "stream",
          "text": [
            "<class 'pandas.core.frame.DataFrame'>\n",
            "RangeIndex: 1924 entries, 0 to 1923\n",
            "Data columns (total 12 columns):\n",
            " #   Column               Non-Null Count  Dtype         \n",
            "---  ------               --------------  -----         \n",
            " 0   id                   1924 non-null   object        \n",
            " 1   customer_id          1924 non-null   object        \n",
            " 2   plan                 1924 non-null   object        \n",
            " 3   plan_quantity        1924 non-null   int64         \n",
            " 4   plan_unit_price      1504 non-null   float64       \n",
            " 5   plan_amount          1504 non-null   float64       \n",
            " 6   billing_period       1924 non-null   int64         \n",
            " 7   billing_period_unit  1924 non-null   object        \n",
            " 8   status               1924 non-null   object        \n",
            " 9   created_at           1924 non-null   datetime64[ns]\n",
            " 10  cancelled_at         1053 non-null   datetime64[ns]\n",
            " 11  mrr                  1904 non-null   float64       \n",
            "dtypes: datetime64[ns](2), float64(3), int64(2), object(5)\n",
            "memory usage: 180.5+ KB\n",
            "           id customer_id  ...        cancelled_at     mrr\n",
            "0  432b3039f9  fcfb0eb83c  ...                 NaT  1620.0\n",
            "1  69357f2a75  faf4000b11  ...                 NaT   450.0\n",
            "2  f609532873  0193c994c3  ...                 NaT   450.0\n",
            "3  84f5f0ca99  8bec648ce3  ... 2019-01-22 17:10:20     0.0\n",
            "4  cc827d512c  0cf4a05adc  ... 2020-04-27 13:29:02     0.0\n",
            "\n",
            "[5 rows x 12 columns] \n",
            "\n",
            "None\n"
          ],
          "name": "stdout"
        }
      ]
    },
    {
      "cell_type": "code",
      "metadata": {
        "colab": {
          "base_uri": "https://localhost:8080/"
        },
        "id": "cAsG-bhkLTrX",
        "outputId": "455b6092-bb99-4754-99ee-72eac0d317ae"
      },
      "source": [
        "#Checking NaT's that are not related to active status\r\n",
        "grp_count = subs.groupby([\"status\"])[\"cancelled_at\"].count()\r\n",
        "\r\n",
        "#Checking active and future status\r\n",
        "act_count = subs.loc[subs[\"status\"] == \"active\"][\"status\"].count()\r\n",
        "fut_count = subs.loc[subs[\"status\"] == \"future\"][\"status\"].count()\r\n",
        "\r\n",
        "print(f\"{grp_count}\\n\\n Groupby result shows distribution of non NaT's in \\\r\n",
        "**cancelled_at** column; at the other hand active **status** count of \\\r\n",
        "{act_count} and future **status** count of {fut_count} sum up the remaining \\\r\n",
        "amount to complete 1924 observations.\")\r\n"
      ],
      "execution_count": null,
      "outputs": [
        {
          "output_type": "stream",
          "text": [
            "status\n",
            "active             0\n",
            "cancelled       1045\n",
            "future             0\n",
            "in_trial           6\n",
            "non_renewing       2\n",
            "Name: cancelled_at, dtype: int64\n",
            "\n",
            " Groupby result shows distribution of non NaT's in **cancelled_at** column; at the other hand active **status** count of 857 and future **status** count of 11 sum up the remaining amount to complete 1924 observations.\n"
          ],
          "name": "stdout"
        }
      ]
    },
    {
      "cell_type": "markdown",
      "metadata": {
        "id": "HMrpQthnDImY"
      },
      "source": [
        "Null elements detected in: subscritptions, users.\r\n",
        "\r\n",
        "Null elements in **subscriptions** table are located at:\r\n",
        "+ **plan_unit_price:** float type. Null elements most probably can be interpolated by calculating the means of their respective plans.\r\n",
        "+ **plan_amount:** float type. It seems that plan_amount is calculated as plan_quantity times plan_unit_price, so interpolating **plan_unit_price** should be enough to find null values in this column.\r\n",
        "+ **cancelled_at:** this values are probably missing because they indicate when a plan has been (or will be) cancelled. From the groupby it is posible to see that Nat's are divided on two categories: active, future. Active status count is 857, so the other 14 NaT's count should be allocated at \"future\" status.\r\n",
        "+ **mrr**: since it's a calculation it will be calculated as means per similar plans."
      ]
    },
    {
      "cell_type": "code",
      "metadata": {
        "colab": {
          "base_uri": "https://localhost:8080/"
        },
        "id": "E57jMuXkyvtb",
        "outputId": "50a45394-293b-4a7a-8df9-1b614e8f6894"
      },
      "source": [
        "# counting plan categories\r\n",
        "plan_count = subs.groupby([\"plan\"])[\"plan_unit_price\"].count()\r\n",
        "\r\n",
        "# counting not-null plan_unit_price plan categories\r\n",
        "notnull = subs[subs[\"plan_unit_price\"].notna()]\r\n",
        "notnull_count = notnull.groupby(\"plan\")[\"plan_unit_price\"].mean()\r\n",
        "\r\n",
        "print(f\"plan_count has {plan_count.count()} elements, while notnull_count \\\r\n",
        "has {notnull_count.count()} elements. There are \\\r\n",
        "{abs(plan_count.count() - notnull_count.count())} missing elements\")\r\n"
      ],
      "execution_count": null,
      "outputs": [
        {
          "output_type": "stream",
          "text": [
            "plan_count has 17 elements, while notnull_count has 14 elements. There are 3 missing elements\n"
          ],
          "name": "stdout"
        }
      ]
    },
    {
      "cell_type": "code",
      "metadata": {
        "colab": {
          "base_uri": "https://localhost:8080/"
        },
        "id": "-lIWXG0uOYhu",
        "outputId": "e2a6c912-ac51-418b-a922-ce0dee2919c2"
      },
      "source": [
        "# checking missing categories\r\n",
        "l1 = plan_count.reset_index().plan.to_list()\r\n",
        "l2 = notnull_count.reset_index().plan.to_list()\r\n",
        "\r\n",
        "miss_cat = []\r\n",
        "for l in l1:\r\n",
        "    if l not in l2:\r\n",
        "        miss_cat.append(l)\r\n",
        "\r\n",
        "print(f\"Missing categories with plan_unit_price are cointained in {miss_cat}. \\\r\n",
        "This should be obvious since no price would be assigned to a free or trial \\\r\n",
        "plan.\\n\\nThis three categories will have assigned to them the value of 0 to \\\r\n",
        "their plan_unit_price\")"
      ],
      "execution_count": null,
      "outputs": [
        {
          "output_type": "stream",
          "text": [
            "Missing categories with plan_unit_price are cointained in ['free-yearly', 'regalo-yearly', 'trial-daily']. This should be obvious since no price would be assigned to a free or trial plan.\n",
            "\n",
            "This three categories will have assigned to them the value of 0 to their plan_unit_price\n"
          ],
          "name": "stdout"
        }
      ]
    },
    {
      "cell_type": "code",
      "metadata": {
        "colab": {
          "base_uri": "https://localhost:8080/"
        },
        "id": "m0ZfeHRzQeeu",
        "outputId": "4bfcfd30-080a-4751-81e4-869e39851b55"
      },
      "source": [
        "# Converting non null unit prices to means using plan as grouping criteria\r\n",
        "# pup: plan unit price\r\n",
        "mean_pup = notnull.groupby([\"plan\"])[\"plan_unit_price\"].mean()\r\n",
        "mean_pup = mean_pup.to_dict()\r\n",
        "\r\n",
        "# mean_pup onverted to dict to properly use it to map new values in NaN's\r\n",
        "# will manually add the values for the free categories\r\n",
        "for miss in miss_cat:\r\n",
        "    mean_pup[miss] = 0\r\n",
        "\r\n",
        "mean_pup"
      ],
      "execution_count": null,
      "outputs": [
        {
          "output_type": "execute_result",
          "data": {
            "text/plain": [
              "{'empresa-monthly': 1.6460000000000001,\n",
              " 'empresa-yearly': 16.802345679012344,\n",
              " 'empresa-yearly-2': 34.852727272727265,\n",
              " 'empresa-yearly-3': 35.695,\n",
              " 'empresa-yearly-4': 46.809285714285714,\n",
              " 'familia-monthly': 15.0,\n",
              " 'familia-yearly': 162.0,\n",
              " 'free-yearly': 0,\n",
              " 'individual-monthly': 5.0,\n",
              " 'individual-yearly': 54.0,\n",
              " 'nonprofit-monthly': 0.9799999999999999,\n",
              " 'nonprofit-yearly': 9.865000000000004,\n",
              " 'nonprofit-yearly-2': 17.5,\n",
              " 'nonprofit-yearly-3': 21.115000000000002,\n",
              " 'nonprofit-yearly-4': 24.132,\n",
              " 'regalo-yearly': 0,\n",
              " 'trial-daily': 0}"
            ]
          },
          "metadata": {
            "tags": []
          },
          "execution_count": 55
        }
      ]
    },
    {
      "cell_type": "code",
      "metadata": {
        "colab": {
          "base_uri": "https://localhost:8080/"
        },
        "id": "U_f_LGaYV7kB",
        "outputId": "7bc18834-f55b-4359-fd20-4f61a6a285ed"
      },
      "source": [
        "# Mapping dict values into plan_unit_price NaNs\r\n",
        "subs[\"plan_unit_price\"] = subs.plan_unit_price.fillna(subs.plan.map(mean_pup))\r\n",
        "\r\n",
        "# Calculating plan_amount NaNs as: plan_unit_price * plan_quantity\r\n",
        "subs[\"plan_amount\"] = subs.plan_amount.fillna(\r\n",
        "    subs.plan_quantity * subs.plan_unit_price)\r\n",
        "\r\n",
        "# Rounding to two decimals\r\n",
        "subs[[\"plan_unit_price\", \"plan_amount\"]] = subs[[\"plan_unit_price\",\r\n",
        "                                                 \"plan_amount\"]].round(2)\r\n",
        "\r\n",
        "print(f\"{subs.info()})\\n\\nThe result from .info() method shows a successful \\\r\n",
        "fillna process at both **plan_unit_price** and **plan_amount columns**\")"
      ],
      "execution_count": null,
      "outputs": [
        {
          "output_type": "stream",
          "text": [
            "<class 'pandas.core.frame.DataFrame'>\n",
            "RangeIndex: 1924 entries, 0 to 1923\n",
            "Data columns (total 12 columns):\n",
            " #   Column               Non-Null Count  Dtype         \n",
            "---  ------               --------------  -----         \n",
            " 0   id                   1924 non-null   object        \n",
            " 1   customer_id          1924 non-null   object        \n",
            " 2   plan                 1924 non-null   object        \n",
            " 3   plan_quantity        1924 non-null   int64         \n",
            " 4   plan_unit_price      1924 non-null   float64       \n",
            " 5   plan_amount          1924 non-null   float64       \n",
            " 6   billing_period       1924 non-null   int64         \n",
            " 7   billing_period_unit  1924 non-null   object        \n",
            " 8   status               1924 non-null   object        \n",
            " 9   created_at           1924 non-null   datetime64[ns]\n",
            " 10  cancelled_at         1053 non-null   datetime64[ns]\n",
            " 11  mrr                  1904 non-null   float64       \n",
            "dtypes: datetime64[ns](2), float64(3), int64(2), object(5)\n",
            "memory usage: 180.5+ KB\n",
            "None)\n",
            "\n",
            "The result from .info() method shows a successful fillna process at both **plan_unit_price** and **plan_amount columns**\n"
          ],
          "name": "stdout"
        }
      ]
    },
    {
      "cell_type": "markdown",
      "metadata": {
        "id": "QxkbmF6Kci_m"
      },
      "source": [
        "As explained before, NaTs values in **cancelled_at** column will be filled with today's date in order to perform future data examination regarding to subscriptions lasting time.\r\n",
        "\r\n",
        "Since datetime will be used to fillna, today's date will always be today's date when the notebook is opened and run."
      ]
    },
    {
      "cell_type": "code",
      "metadata": {
        "colab": {
          "base_uri": "https://localhost:8080/"
        },
        "id": "EQYCnkfgRouQ",
        "outputId": "4cb65f57-c29d-4db6-b045-3261071f3439"
      },
      "source": [
        "subs[\"cancelled_at\"] = subs.cancelled_at.fillna(pd.to_datetime(\"today\"))\r\n",
        "subs.info()"
      ],
      "execution_count": null,
      "outputs": [
        {
          "output_type": "stream",
          "text": [
            "<class 'pandas.core.frame.DataFrame'>\n",
            "RangeIndex: 1924 entries, 0 to 1923\n",
            "Data columns (total 12 columns):\n",
            " #   Column               Non-Null Count  Dtype         \n",
            "---  ------               --------------  -----         \n",
            " 0   id                   1924 non-null   object        \n",
            " 1   customer_id          1924 non-null   object        \n",
            " 2   plan                 1924 non-null   object        \n",
            " 3   plan_quantity        1924 non-null   int64         \n",
            " 4   plan_unit_price      1924 non-null   float64       \n",
            " 5   plan_amount          1924 non-null   float64       \n",
            " 6   billing_period       1924 non-null   int64         \n",
            " 7   billing_period_unit  1924 non-null   object        \n",
            " 8   status               1924 non-null   object        \n",
            " 9   created_at           1924 non-null   datetime64[ns]\n",
            " 10  cancelled_at         1924 non-null   datetime64[ns]\n",
            " 11  mrr                  1904 non-null   float64       \n",
            "dtypes: datetime64[ns](2), float64(3), int64(2), object(5)\n",
            "memory usage: 180.5+ KB\n"
          ],
          "name": "stdout"
        }
      ]
    },
    {
      "cell_type": "code",
      "metadata": {
        "colab": {
          "base_uri": "https://localhost:8080/"
        },
        "id": "o_hFtk-rST4J",
        "outputId": "55cfa16a-ab7a-455e-995f-eaf038766233"
      },
      "source": [
        "# subset shows that mrr NaNs are mainly composed of \"trial-daily\" plans\r\n",
        "mrr_na = subs[subs[\"mrr\"].isna()].groupby(\"plan\")[\"created_at\"].count()\r\n",
        "\r\n",
        "# Trying to figure out a way to determine mrr for the missing value\r\n",
        "subs[\"ratio\"] = subs[\"mrr\"] / subs[\"plan_amount\"]\r\n",
        "\r\n",
        "mrr_nonprofit = subs[subs[\"plan\"] == \"nonprofit-yearly-4\"][[\"plan\", \"mrr\",\r\n",
        "                                                            \"ratio\"]]\r\n",
        "mrr_trialdaily = subs[subs[\"plan\"] == \"trial-daily\"][[\"mrr\", \"ratio\"]]\r\n",
        "\r\n",
        "nnprft_mrrmean = mrr_nonprofit.groupby([\"plan\"])[\"ratio\"].mean()\r\n",
        "nnprft_mrrmean = nnprft_mrrmean.values.round(2)\r\n",
        "\r\n",
        "print(f\"Acoording to mrr_na, there are {mrr_na[1]} NaNs associated to \\\r\n",
        "trial-daily plans, and {mrr_na[0]} associated to a nonprofit-yearly-4 plan. \\\r\n",
        "\\n\\nFrom the looks of mrr_trialdaily, these NaN values will be filled with 0 \\\r\n",
        "and for the case of the missing nonprofit-yearly-4 \\nplan it will filled using \\\r\n",
        "plan_amount times {nnprft_mrrmean} which is the mean of the mrr/plan_amount \\\r\n",
        "ratio for that plan\")\r\n"
      ],
      "execution_count": null,
      "outputs": [
        {
          "output_type": "stream",
          "text": [
            "Acoording to mrr_na, there are 19 NaNs associated to trial-daily plans, and 1 associated to a nonprofit-yearly-4 plan. \n",
            "\n",
            "From the looks of mrr_trialdaily, these NaN values will be filled with 0 and for the case of the missing nonprofit-yearly-4 \n",
            "plan it will filled using plan_amount times [1.79] which is the mean of the mrr/plan_amount ratio for that plan\n"
          ],
          "name": "stdout"
        }
      ]
    },
    {
      "cell_type": "code",
      "metadata": {
        "colab": {
          "base_uri": "https://localhost:8080/"
        },
        "id": "1He2GMAg7kMf",
        "outputId": "1be48b75-bd14-47e6-a842-209c535c2dab"
      },
      "source": [
        "# dict for mrr filling NaNs\r\n",
        "mrr_dict = {'trial-daily': 0, 'nonprofit-yearly-4': nnprft_mrrmean}\r\n",
        "\r\n",
        "# mapping dict values\r\n",
        "subs[\"mrr\"] = subs.mrr.fillna(subs.plan.map(mrr_dict) * subs.plan_amount)\r\n",
        "\r\n",
        "# checking current state of DF\r\n",
        "subs[subs[\"plan\"] == \"nonprofit-yearly-4\"][[\"plan\", \"mrr\", \"ratio\"]]\r\n",
        "\r\n",
        "# converting subs.mrr into int type\r\n",
        "subs[\"mrr\"] = subs.mrr.astype(\"int\")\r\n",
        "subs.info()"
      ],
      "execution_count": null,
      "outputs": [
        {
          "output_type": "stream",
          "text": [
            "<class 'pandas.core.frame.DataFrame'>\n",
            "RangeIndex: 1924 entries, 0 to 1923\n",
            "Data columns (total 13 columns):\n",
            " #   Column               Non-Null Count  Dtype         \n",
            "---  ------               --------------  -----         \n",
            " 0   id                   1924 non-null   object        \n",
            " 1   customer_id          1924 non-null   object        \n",
            " 2   plan                 1924 non-null   object        \n",
            " 3   plan_quantity        1924 non-null   int64         \n",
            " 4   plan_unit_price      1924 non-null   float64       \n",
            " 5   plan_amount          1924 non-null   float64       \n",
            " 6   billing_period       1924 non-null   int64         \n",
            " 7   billing_period_unit  1924 non-null   object        \n",
            " 8   status               1924 non-null   object        \n",
            " 9   created_at           1924 non-null   datetime64[ns]\n",
            " 10  cancelled_at         1924 non-null   datetime64[ns]\n",
            " 11  mrr                  1924 non-null   int64         \n",
            " 12  ratio                1504 non-null   float64       \n",
            "dtypes: datetime64[ns](2), float64(3), int64(3), object(5)\n",
            "memory usage: 195.5+ KB\n"
          ],
          "name": "stdout"
        }
      ]
    },
    {
      "cell_type": "markdown",
      "metadata": {
        "id": "-AF2KZ1bJlTo"
      },
      "source": [
        "### **SUBS TABLE VDA**"
      ]
    },
    {
      "cell_type": "code",
      "metadata": {
        "id": "liyIxZPPKjaf"
      },
      "source": [
        "# going for an histogram vs accumulated curve.\r\n",
        "series_plan = subs.groupby([\"plan\"])[\"plan_quantity\"].sum().sort_values(\r\n",
        "    ascending=False)\r\n",
        "\r\n",
        "# Creating columns to reflect cumulative values\r\n",
        "plan_df = pd.DataFrame(series_plan).reset_index()\r\n",
        "plan_df[\"values_norm\"] = plan_df.plan_quantity / plan_df.plan_quantity.sum()\r\n",
        "plan_df[\"cumulative\"] = plan_df.values_norm.cumsum()\r\n",
        "plan_df[\"perc_cumulative\"] = plan_df.cumulative / plan_df.cumulative.max()\r\n",
        "plan_df[\"perc_cum_label\"] = plan_df.apply(\r\n",
        "    lambda x: str(round(x.perc_cumulative * 100, 1)) + \"%\", axis=1)\r\n"
      ],
      "execution_count": null,
      "outputs": []
    },
    {
      "cell_type": "code",
      "metadata": {
        "id": "bagAXBNggwjt"
      },
      "source": [
        "# histogram bars\r\n",
        "# x = np.array(plan_df['plan'])\r\n",
        "# y = np.array(plan_df['values_norm'])\r\n",
        "# fig = plt.figure(figsize=(20, 10))\r\n",
        "# ax = fig.gca()\r\n",
        "# ax.bar(x,y)\r\n",
        "\r\n",
        "# # plot the cumulative curve\r\n",
        "# x = list(range(len(x)))\r\n",
        "# y = list(plan_df['perc_cumulative'])\r\n",
        "# ax.plot(x, y, marker='o', color=\"#9b51e0\")\r\n",
        "\r\n",
        "# # change the y-axis limits\r\n",
        "# ax.axis(ymin=0.0, ymax=1.1)\r\n",
        "\r\n",
        "# # plot the values from the cumulative curve on top of it\r\n",
        "# y_labels = list(plan_df['perc_cum_label'])\r\n",
        "\r\n",
        "# for i,j in zip(x,y):\r\n",
        "#     inplot = ax.annotate(str(y_labels[i]), xy = (i-0.1, j + 0.05),\r\n",
        "#                          fontsize = 12)\r\n",
        "    \r\n",
        "#   # some final tweaking in title, axis and labels\r\n",
        "# ax.set_title('Plan Quantity Histogram and Cumulative Curve', fontsize=20)\r\n",
        "# ax.set_ylabel('Cumulative plans', size=15, labelpad=18)\r\n",
        "# ax.set_xlabel('Plans', size=15, labelpad=18)\r\n",
        "# ax.tick_params(axis='both', labelsize = 14, labelrotation=-90)\r\n",
        "\r\n",
        "# # saving files to dir\r\n",
        "# fig.savefig(f\"{graphs_dir}/Plan_quantity_cumulative_histogram_curve.png\",\r\n",
        "#             bbox_inches = 'tight')\r\n",
        "# plt.show()"
      ],
      "execution_count": null,
      "outputs": []
    },
    {
      "cell_type": "code",
      "metadata": {
        "colab": {
          "base_uri": "https://localhost:8080/",
          "height": 733
        },
        "id": "RD7gJ24BBcja",
        "outputId": "cdae6677-27b6-4ef2-8f0b-40d985063682"
      },
      "source": [
        "# generating figure and twin axes\r\n",
        "plt.figure(figsize=(16, 8))\r\n",
        "host = host_subplot(111)\r\n",
        "par = host.twinx()\r\n",
        "\r\n",
        "# we plot the bars (use host. instead of plt.)\r\n",
        "x = np.array(plan_df['plan'])\r\n",
        "y = np.array(plan_df['values_norm'])\r\n",
        "p1 = host.bar(x, y)\r\n",
        "\r\n",
        "# changing color for free plans\r\n",
        "p1.patches[0].set_color(\"#fcb900\")\r\n",
        "p1.patches[2].set_color(\"#fcb900\")\r\n",
        "p1.patches[16].set_color(\"#fcb900\")\r\n",
        "\r\n",
        "# plotting the curve (use par. instead of plt.)\r\n",
        "x = list(range(len(x)))\r\n",
        "y = list(plan_df['perc_cumulative'])\r\n",
        "p2 = par.plot(x, y, color=\"#9b51e0\",marker='o')\r\n",
        "\r\n",
        "# plotting the values from the cumulative curve on top of it\r\n",
        "y_labels = list(plan_df['perc_cum_label'])\r\n",
        "for i,j in zip(x,y):\r\n",
        "    inplot = par.annotate(str(y_labels[i]), xy=(i-0.1,j+0.05), fontsize=12,\r\n",
        "                          color='white')\r\n",
        "    \r\n",
        "# some final tweaking in title, axis and labels\r\n",
        "par.axis(ymin=0, ymax=1.1)\r\n",
        "plt.title('Plan Quantity Histogram and Cumulative Curve', fontsize=20)\r\n",
        "host.set_xlabel('Plans', size=15, labelpad=18)\r\n",
        "host.set_ylabel('Cumulative plans', size=15, labelpad=18)\r\n",
        "host.tick_params(axis='both', labelsize = 14, labelrotation=-90)\r\n",
        "\r\n",
        "# saving files to dir\r\n",
        "plt.savefig(f\"{graphs_dir}/Plan_quantity_cumulative_histogram_curve.png\",\r\n",
        "            bbox_inches = 'tight')\r\n",
        "plt.show()"
      ],
      "execution_count": null,
      "outputs": [
        {
          "output_type": "display_data",
          "data": {
            "image/png": "[encoded data removed]",
            "text/plain": [
              "<Figure size 1280x640 with 1 Axes>"
            ]
          },
          "metadata": {
            "tags": []
          }
        }
      ]
    },
    {
      "cell_type": "markdown",
      "metadata": {
        "id": "HsuDYMXbkcHl"
      },
      "source": [
        "From the histogram, it's pretty clear that *trial-daily* has about 33% of plan quantity and if paired with *free-yearly* and *regalo-yearly* they would up to almost 50%.\r\n",
        "\r\n",
        "I'll be doing peforming same excersice without the free accounts.\r\n"
      ]
    },
    {
      "cell_type": "code",
      "metadata": {
        "colab": {
          "base_uri": "https://localhost:8080/",
          "height": 489
        },
        "id": "wBqAGep6MbyF",
        "outputId": "17b0ef9d-31c2-4c6c-c0de-9daede244b94"
      },
      "source": [
        "# Creating columns to reflect cumulative values (having removed free plans)\r\n",
        "plan_nofree = pd.DataFrame(series_plan).reset_index()\r\n",
        "plan_nofree = plan_nofree.drop([0, 2, 16]).reset_index()\r\n",
        "plan_nofree = plan_nofree.drop(\"index\", axis=1)\r\n",
        "plan_nofree[\"values_norm\"] = plan_nofree.plan_quantity / \\\r\n",
        "    plan_nofree.plan_quantity.sum()\r\n",
        "plan_nofree[\"cumulative\"] = plan_nofree.values_norm.cumsum()\r\n",
        "plan_nofree[\"perc_cumulative\"] = plan_nofree.cumulative / \\\r\n",
        "    plan_nofree.cumulative.max()\r\n",
        "plan_nofree[\"perc_cum_label\"] = plan_nofree.apply(\r\n",
        "    lambda x: str(round(x.perc_cumulative * 100, 1)) + \"%\", axis=1)\r\n"
      ],
      "execution_count": null,
      "outputs": [
        {
          "output_type": "execute_result",
          "data": {
            "text/html": [
              "<div>\n",
              "<style scoped>\n",
              "    .dataframe tbody tr th:only-of-type {\n",
              "        vertical-align: middle;\n",
              "    }\n",
              "\n",
              "    .dataframe tbody tr th {\n",
              "        vertical-align: top;\n",
              "    }\n",
              "\n",
              "    .dataframe thead th {\n",
              "        text-align: right;\n",
              "    }\n",
              "</style>\n",
              "<table border=\"1\" class=\"dataframe\">\n",
              "  <thead>\n",
              "    <tr style=\"text-align: right;\">\n",
              "      <th></th>\n",
              "      <th>plan</th>\n",
              "      <th>plan_quantity</th>\n",
              "      <th>values_norm</th>\n",
              "      <th>cumulative</th>\n",
              "      <th>perc_cumulative</th>\n",
              "      <th>perc_cum_label</th>\n",
              "    </tr>\n",
              "  </thead>\n",
              "  <tbody>\n",
              "    <tr>\n",
              "      <th>0</th>\n",
              "      <td>nonprofit-yearly</td>\n",
              "      <td>15463</td>\n",
              "      <td>0.472037</td>\n",
              "      <td>0.472037</td>\n",
              "      <td>0.472037</td>\n",
              "      <td>47.2%</td>\n",
              "    </tr>\n",
              "    <tr>\n",
              "      <th>1</th>\n",
              "      <td>empresa-yearly</td>\n",
              "      <td>6433</td>\n",
              "      <td>0.196380</td>\n",
              "      <td>0.668417</td>\n",
              "      <td>0.668417</td>\n",
              "      <td>66.8%</td>\n",
              "    </tr>\n",
              "    <tr>\n",
              "      <th>2</th>\n",
              "      <td>nonprofit-yearly-4</td>\n",
              "      <td>3584</td>\n",
              "      <td>0.109408</td>\n",
              "      <td>0.777825</td>\n",
              "      <td>0.777825</td>\n",
              "      <td>77.8%</td>\n",
              "    </tr>\n",
              "    <tr>\n",
              "      <th>3</th>\n",
              "      <td>empresa-monthly</td>\n",
              "      <td>2754</td>\n",
              "      <td>0.084071</td>\n",
              "      <td>0.861896</td>\n",
              "      <td>0.861896</td>\n",
              "      <td>86.2%</td>\n",
              "    </tr>\n",
              "    <tr>\n",
              "      <th>4</th>\n",
              "      <td>empresa-yearly-4</td>\n",
              "      <td>907</td>\n",
              "      <td>0.027688</td>\n",
              "      <td>0.889584</td>\n",
              "      <td>0.889584</td>\n",
              "      <td>89.0%</td>\n",
              "    </tr>\n",
              "    <tr>\n",
              "      <th>5</th>\n",
              "      <td>nonprofit-yearly-2</td>\n",
              "      <td>810</td>\n",
              "      <td>0.024727</td>\n",
              "      <td>0.914311</td>\n",
              "      <td>0.914311</td>\n",
              "      <td>91.4%</td>\n",
              "    </tr>\n",
              "    <tr>\n",
              "      <th>6</th>\n",
              "      <td>empresa-yearly-3</td>\n",
              "      <td>745</td>\n",
              "      <td>0.022743</td>\n",
              "      <td>0.937054</td>\n",
              "      <td>0.937054</td>\n",
              "      <td>93.7%</td>\n",
              "    </tr>\n",
              "    <tr>\n",
              "      <th>7</th>\n",
              "      <td>individual-monthly</td>\n",
              "      <td>718</td>\n",
              "      <td>0.021918</td>\n",
              "      <td>0.958972</td>\n",
              "      <td>0.958972</td>\n",
              "      <td>95.9%</td>\n",
              "    </tr>\n",
              "    <tr>\n",
              "      <th>8</th>\n",
              "      <td>empresa-yearly-2</td>\n",
              "      <td>348</td>\n",
              "      <td>0.010623</td>\n",
              "      <td>0.969595</td>\n",
              "      <td>0.969595</td>\n",
              "      <td>97.0%</td>\n",
              "    </tr>\n",
              "    <tr>\n",
              "      <th>9</th>\n",
              "      <td>nonprofit-monthly</td>\n",
              "      <td>307</td>\n",
              "      <td>0.009372</td>\n",
              "      <td>0.978967</td>\n",
              "      <td>0.978967</td>\n",
              "      <td>97.9%</td>\n",
              "    </tr>\n",
              "    <tr>\n",
              "      <th>10</th>\n",
              "      <td>individual-yearly</td>\n",
              "      <td>261</td>\n",
              "      <td>0.007968</td>\n",
              "      <td>0.986934</td>\n",
              "      <td>0.986934</td>\n",
              "      <td>98.7%</td>\n",
              "    </tr>\n",
              "    <tr>\n",
              "      <th>11</th>\n",
              "      <td>familia-monthly</td>\n",
              "      <td>185</td>\n",
              "      <td>0.005647</td>\n",
              "      <td>0.992582</td>\n",
              "      <td>0.992582</td>\n",
              "      <td>99.3%</td>\n",
              "    </tr>\n",
              "    <tr>\n",
              "      <th>12</th>\n",
              "      <td>nonprofit-yearly-3</td>\n",
              "      <td>127</td>\n",
              "      <td>0.003877</td>\n",
              "      <td>0.996459</td>\n",
              "      <td>0.996459</td>\n",
              "      <td>99.6%</td>\n",
              "    </tr>\n",
              "    <tr>\n",
              "      <th>13</th>\n",
              "      <td>familia-yearly</td>\n",
              "      <td>116</td>\n",
              "      <td>0.003541</td>\n",
              "      <td>1.000000</td>\n",
              "      <td>1.000000</td>\n",
              "      <td>100.0%</td>\n",
              "    </tr>\n",
              "  </tbody>\n",
              "</table>\n",
              "</div>"
            ],
            "text/plain": [
              "                  plan  plan_quantity  ...  perc_cumulative  perc_cum_label\n",
              "0     nonprofit-yearly          15463  ...         0.472037           47.2%\n",
              "1       empresa-yearly           6433  ...         0.668417           66.8%\n",
              "2   nonprofit-yearly-4           3584  ...         0.777825           77.8%\n",
              "3      empresa-monthly           2754  ...         0.861896           86.2%\n",
              "4     empresa-yearly-4            907  ...         0.889584           89.0%\n",
              "5   nonprofit-yearly-2            810  ...         0.914311           91.4%\n",
              "6     empresa-yearly-3            745  ...         0.937054           93.7%\n",
              "7   individual-monthly            718  ...         0.958972           95.9%\n",
              "8     empresa-yearly-2            348  ...         0.969595           97.0%\n",
              "9    nonprofit-monthly            307  ...         0.978967           97.9%\n",
              "10   individual-yearly            261  ...         0.986934           98.7%\n",
              "11     familia-monthly            185  ...         0.992582           99.3%\n",
              "12  nonprofit-yearly-3            127  ...         0.996459           99.6%\n",
              "13      familia-yearly            116  ...         1.000000          100.0%\n",
              "\n",
              "[14 rows x 6 columns]"
            ]
          },
          "metadata": {
            "tags": []
          },
          "execution_count": 112
        }
      ]
    },
    {
      "cell_type": "code",
      "metadata": {
        "colab": {
          "base_uri": "https://localhost:8080/",
          "height": 733
        },
        "id": "b0pZiAfj1h2A",
        "outputId": "90e0fbff-ae47-473a-b3bc-ea7b2ef6d38a"
      },
      "source": [
        "# generating figure and twin axes\r\n",
        "plt.figure(figsize=(16, 8))\r\n",
        "host = host_subplot(111)\r\n",
        "par = host.twinx()\r\n",
        "\r\n",
        "# we plot the bars (use host. instead of plt.)\r\n",
        "x = np.array(plan_nofree['plan'])\r\n",
        "y = np.array(plan_nofree['values_norm'])\r\n",
        "p1 = host.bar(x, y)\r\n",
        "\r\n",
        "# changing color for largest plans\r\n",
        "p1.patches[0].set_color(\"#fcb900\")\r\n",
        "p1.patches[1].set_color(\"#fcb900\")\r\n",
        "p1.patches[2].set_color(\"#fcb900\")\r\n",
        "p1.patches[3].set_color(\"#fcb900\")\r\n",
        "\r\n",
        "# plotting the curve (use par. instead of plt.)\r\n",
        "x = list(range(len(x)))\r\n",
        "y = list(plan_nofree['perc_cumulative'])\r\n",
        "p2 = par.plot(x, y, color=\"#9b51e0\",marker='o')\r\n",
        "\r\n",
        "# plotting the values from the cumulative curve on top of it\r\n",
        "y_labels = list(plan_nofree['perc_cum_label'])\r\n",
        "for i,j in zip(x,y):\r\n",
        "    inplot = par.annotate(str(y_labels[i]), xy=(i-0.1,j+0.05), fontsize=12,\r\n",
        "                          color='white')\r\n",
        "    \r\n",
        "# some final tweaking in title, axis and labels\r\n",
        "par.axis(ymin=0, ymax=1.1)\r\n",
        "plt.title('Paid Plans Quantity Histogram and Cumulative Curve', fontsize=20)\r\n",
        "host.set_xlabel('Paid Plans', size=15, labelpad=18)\r\n",
        "host.set_ylabel('Cumulative plans', size=15, labelpad=18)\r\n",
        "host.tick_params(axis=\"both\", labelsize = 14, labelrotation=-90)\r\n",
        "\r\n",
        "# saving files to dir\r\n",
        "plt.savefig(f\"{graphs_dir}/Paid_Plans_quantity_cumulative_histogram_curve.png\",\r\n",
        "            bbox_inches = 'tight')\r\n",
        "plt.show()"
      ],
      "execution_count": null,
      "outputs": [
        {
          "output_type": "display_data",
          "data": {
            "image/png": "[encoded data removed]",
            "text/plain": [
              "<Figure size 1280x640 with 1 Axes>"
            ]
          },
          "metadata": {
            "tags": []
          }
        }
      ]
    },
    {
      "cell_type": "code",
      "metadata": {
        "id": "SAAeqqzoiXBj"
      },
      "source": [
        ""
      ],
      "execution_count": null,
      "outputs": []
    }
  ]
}