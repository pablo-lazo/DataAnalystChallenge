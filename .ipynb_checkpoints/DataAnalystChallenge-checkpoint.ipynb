{
 "cells": [
  {
   "cell_type": "markdown",
   "metadata": {
    "id": "9kIMl6JEt2A_"
   },
   "source": [
    "# Descripción de base de datos:\n",
    "Todos los datos han sido generados de manera aleatoria pero manteniendo cierta cercanía (de manera muy simplificada) con la estructura de bases de datos.\n",
    "\n",
    "Una cuenta es la entidad mayor que puede tener un cliente, esta cuenta puede tener asociadas una o varias suscripciones, la suscripción es lo que paga el cliente. Una cuenta también puede tener uno o varios usuarios los cuales a su vez pueden tener uno o varios dispositivos asociados. Los dispositivos son los equipos móviles que protegen los clientes.\n",
    "\n",
    "## Tabla subscriptions:\n",
    "\n",
    "Esta es una empresa SaaS, por lo que nuestro modelo se basa en suscripciones. Esta tabla ejemplifica algunos datos de una suscripción:\n",
    "\n",
    "**id:** El id de una suscripción.\n",
    "\n",
    "**customer_id:** El id de un usuario.\n",
    "\n",
    "**plan:** El tipo de plan que podría comprar un usuario, con su intervalo de pago.\n",
    "\n",
    "**plan_quantity:** La cantidad de dispositivos que los usuarios están pagando para proteger.\n",
    "\n",
    "\n",
    "**plan_unit_price:** El valor de un dispositivo en USD.\n",
    "\n",
    "**plan_amount:** El valor total que paga un cliente por período de facturación en USD.\n",
    "\n",
    "**billing_period:** La frecuencia del período de pago.\n",
    "\n",
    "**billing_period_unit:** La unidad del período de pago.\n",
    "\n",
    "**status:** El estado de una suscripción.\n",
    "\n",
    "**created_at:** La fecha de creación de la suscripción.\n",
    "\n",
    "**cancelled_at:** La fecha de cancelación de una suscripción, si es que ya no está activa.\n",
    "\n",
    "**mrr:** El Monthly Recurrent Revenue de una suscripción (el pago según período normalizado a meses).\n",
    "\n",
    "\n",
    "## Tabla accounts:\n",
    "\n",
    "Esta tabla sirve como tabla intermedia para ver el id de una cuenta a través del id de un cliente.\n",
    "\n",
    "**account_id:** El id de la cuenta.\n",
    "\n",
    "**customer_id:** El id de un cliente (asociado a una suscripción).\n",
    "\n",
    "## Tabla users:\n",
    "\n",
    "Una cuenta puede tener varios usuarios asociados. Aquí podemos ver a qué país pertenece un usuario, cuando fue creado y si está activo o no.\n",
    "\n",
    "**id:** Id del usuario.\n",
    "\n",
    "**created_at:** Fecha de creación del usuario.\n",
    "\n",
    "**country_name:** País al que pertenece el usuario.\n",
    "\n",
    "**state:** Estado del usuario.\n",
    "\n",
    "**account_id:** Id de la cuenta a la que pertenece el usuario.\n",
    "\n",
    "## Tabla devices:\n",
    "\n",
    "Esta tabla muestra información sobre los dispositivos que una cuenta tiene asociados, esta asociación va por usuarios.\n",
    "\n",
    "**id:** El id del dispositivo.\n",
    "\n",
    "**user_id:** El id del usuario al que está asociado ese dispositivo.\n",
    "\n",
    "**created_at:** La fecha en la que se asoció el dispositivo a la cuenta.\n",
    "\n",
    "**type:** El tipo de dispositivo.\n",
    "\n",
    "**os:** El sistema operativo del dispositivo.\n",
    "\n",
    "**state:** El estado en el que se encuentra el dispositivo en relación a la cuenta. El estado missing corresponde a dispositivos que se marcaron como perdidos en el software.\n",
    "\n",
    "\n",
    "\n"
   ]
  },
  {
   "cell_type": "markdown",
   "metadata": {
    "id": "RA0hDT_VX32z"
   },
   "source": [
    "# CODE"
   ]
  },
  {
   "cell_type": "markdown",
   "metadata": {
    "id": "rvGinAhRVf-G"
   },
   "source": [
    "## Module imports"
   ]
  },
  {
   "cell_type": "code",
   "execution_count": 1,
   "metadata": {
    "colab": {
     "base_uri": "https://localhost:8080/"
    },
    "id": "8pikV-Ji_1rk",
    "outputId": "4825021f-32d2-45ec-8434-8157986cb049"
   },
   "outputs": [],
   "source": [
    "#< ---- 20 char ---->< ---- 20 char --->< ---- 20 char ---><9 char->\n",
    "import pandas as pd\n",
    "import numpy as np\n",
    "import matplotlib.pyplot as plt\n",
    "from mpl_toolkits.axes_grid1 import host_subplot\n",
    "plt.style.use(\"portfolio\")\n",
    "import seaborn as sns\n",
    "import datetime\n",
    "import plotly.graph_objects as go"
   ]
  },
  {
   "cell_type": "code",
   "execution_count": 2,
   "metadata": {
    "id": "2N1aPzPwAu1b"
   },
   "outputs": [],
   "source": [
    "data_dir = \"data\"\n",
    "graphs_dir = \"graphs\""
   ]
  },
  {
   "cell_type": "markdown",
   "metadata": {
    "id": "9ITWQaNRVs8e"
   },
   "source": [
    "## Data Importing"
   ]
  },
  {
   "cell_type": "code",
   "execution_count": 3,
   "metadata": {
    "colab": {
     "base_uri": "https://localhost:8080/"
    },
    "id": "oAENr0NRm0DJ",
    "outputId": "f2cf071d-998c-427c-fe15-0e85b6d7a67c"
   },
   "outputs": [],
   "source": [
    "# Importing files from gdrive folder\n",
    "subs = pd.read_csv(f\"{data_dir}/subscriptions.csv\",\n",
    "                   parse_dates=[\"created_at\", \"cancelled_at\"])\\\n",
    "                   .drop(\"Unnamed: 0\", axis=1)\n",
    "\n",
    "accs = pd.read_csv(f\"{data_dir}/accounts.csv\").drop(\"Unnamed: 0\", axis=1)\n",
    "\n",
    "usrs = pd.read_csv(f\"{data_dir}/users.csv\",\n",
    "                   parse_dates=[\"created_at\"]).drop(\"Unnamed: 0\", axis=1)\n",
    "\n",
    "dvcs = pd.read_csv(f\"{data_dir}/devices.csv\",\n",
    "                   parse_dates=[\"created_at\"]).drop(\"Unnamed: 0\", axis=1)\n"
   ]
  },
  {
   "cell_type": "markdown",
   "metadata": {
    "id": "kZYzHcSFV1Cp"
   },
   "source": [
    "## EXPLORATORY/VISUAL DATA ANALISYS: SUBS TABLE"
   ]
  },
  {
   "cell_type": "markdown",
   "metadata": {
    "id": "EbILJcP6ASVA"
   },
   "source": [
    "### TL;DR SUBS TABLE EDA/VDA\n",
    "\n",
    "Summary:\n",
    "+ Found 420 NaNs in **plan_unit_price** column. Values filled in by calculating the means of their respective plans associated.\n",
    "+ Found 420 NaNs in **plan_amount** columm. Values filled in by multiplying **plan_unit_price** x **plan_quantity**.\n",
    "+ Found 871 NaTs in **cancelled_at**. Values filled in with today's (today = whenever the nb is run) date.\n",
    "+ Found 20 NaNs in **mrr** column. Filled most of them with 0.\n",
    "+ Generated histograms and boxplots to see data distribution."
   ]
  },
  {
   "cell_type": "markdown",
   "metadata": {
    "id": "i-YAjZpWATIU"
   },
   "source": [
    "### SUBS TABLE EDA"
   ]
  },
  {
   "cell_type": "code",
   "execution_count": 4,
   "metadata": {
    "colab": {
     "base_uri": "https://localhost:8080/"
    },
    "id": "cpGn7kfzKkAP",
    "outputId": "fba51bbf-ac96-4363-883a-b1ff1f83609e"
   },
   "outputs": [
    {
     "name": "stdout",
     "output_type": "stream",
     "text": [
      "<class 'pandas.core.frame.DataFrame'>\n",
      "RangeIndex: 1924 entries, 0 to 1923\n",
      "Data columns (total 12 columns):\n",
      " #   Column               Non-Null Count  Dtype         \n",
      "---  ------               --------------  -----         \n",
      " 0   id                   1924 non-null   object        \n",
      " 1   customer_id          1924 non-null   object        \n",
      " 2   plan                 1924 non-null   object        \n",
      " 3   plan_quantity        1924 non-null   int64         \n",
      " 4   plan_unit_price      1504 non-null   float64       \n",
      " 5   plan_amount          1504 non-null   float64       \n",
      " 6   billing_period       1924 non-null   int64         \n",
      " 7   billing_period_unit  1924 non-null   object        \n",
      " 8   status               1924 non-null   object        \n",
      " 9   created_at           1924 non-null   datetime64[ns]\n",
      " 10  cancelled_at         1053 non-null   datetime64[ns]\n",
      " 11  mrr                  1904 non-null   float64       \n",
      "dtypes: datetime64[ns](2), float64(3), int64(2), object(5)\n",
      "memory usage: 180.5+ KB\n",
      "           id customer_id                plan  plan_quantity  plan_unit_price  \\\n",
      "0  432b3039f9  fcfb0eb83c      empresa-yearly             10            19.44   \n",
      "1  69357f2a75  faf4000b11   individual-yearly              1            54.00   \n",
      "2  f609532873  0193c994c3   individual-yearly              1            54.00   \n",
      "3  84f5f0ca99  8bec648ce3  individual-monthly              1             5.00   \n",
      "4  cc827d512c  0cf4a05adc   individual-yearly              1            54.00   \n",
      "\n",
      "   plan_amount  billing_period billing_period_unit     status  \\\n",
      "0        194.4               1                year     active   \n",
      "1         54.0               1                year     active   \n",
      "2         54.0               1                year     active   \n",
      "3          5.0               1               month  cancelled   \n",
      "4         54.0               1                year  cancelled   \n",
      "\n",
      "           created_at        cancelled_at     mrr  \n",
      "0 2020-11-03 20:01:32                 NaT  1620.0  \n",
      "1 2019-03-21 21:41:13                 NaT   450.0  \n",
      "2 2019-12-01 15:44:50                 NaT   450.0  \n",
      "3 2019-01-21 06:01:34 2019-01-22 17:10:20     0.0  \n",
      "4 2019-05-02 00:16:49 2020-04-27 13:29:02     0.0   \n",
      "\n",
      "None\n"
     ]
    }
   ],
   "source": [
    "print(f\"{subs.head()} \\n\\n{subs.info()}\")"
   ]
  },
  {
   "cell_type": "code",
   "execution_count": 5,
   "metadata": {
    "colab": {
     "base_uri": "https://localhost:8080/"
    },
    "id": "cAsG-bhkLTrX",
    "outputId": "e983bac3-772a-410d-f12a-6cc04d7f2120"
   },
   "outputs": [
    {
     "name": "stdout",
     "output_type": "stream",
     "text": [
      "status\n",
      "active             0\n",
      "cancelled       1045\n",
      "future             0\n",
      "in_trial           6\n",
      "non_renewing       2\n",
      "Name: cancelled_at, dtype: int64\n",
      "\n",
      " Groupby result shows distribution of non NaT's in **cancelled_at** column; at the other hand active **status** count of 857 and future **status** count of 11 sum up the remaining amount to complete 1924 observations.\n"
     ]
    }
   ],
   "source": [
    "#Checking NaT's that are not related to active status\n",
    "grp_count = subs.groupby([\"status\"])[\"cancelled_at\"].count()\n",
    "\n",
    "#Checking active and future status\n",
    "act_count = subs.loc[subs[\"status\"] == \"active\"][\"status\"].count()\n",
    "fut_count = subs.loc[subs[\"status\"] == \"future\"][\"status\"].count()\n",
    "\n",
    "print(f\"{grp_count}\\n\\n Groupby result shows distribution of non NaT's in \\\n",
    "**cancelled_at** column; at the other hand active **status** count of \\\n",
    "{act_count} and future **status** count of {fut_count} sum up the remaining \\\n",
    "amount to complete 1924 observations.\")\n"
   ]
  },
  {
   "cell_type": "markdown",
   "metadata": {
    "id": "HMrpQthnDImY"
   },
   "source": [
    "Null elements detected in: subscritptions, users.\n",
    "\n",
    "Null elements in **subscriptions** table are located at:\n",
    "+ **plan_unit_price:** float type. Null elements most probably can be interpolated by calculating the means of their respective plans.\n",
    "+ **plan_amount:** float type. It seems that plan_amount is calculated as plan_quantity times plan_unit_price, so interpolating **plan_unit_price** should be enough to find null values in this column.\n",
    "+ **cancelled_at:** this values are probably missing because they indicate when a plan has been (or will be) cancelled. From the groupby it is posible to see that Nat's are divided on two categories: active, future. Active status count is 857, so the other 14 NaT's count should be allocated at \"future\" status.\n",
    "+ **mrr**: since it's a calculation it will be calculated as means per similar plans."
   ]
  },
  {
   "cell_type": "code",
   "execution_count": 6,
   "metadata": {
    "colab": {
     "base_uri": "https://localhost:8080/"
    },
    "id": "E57jMuXkyvtb",
    "outputId": "e229479b-5cee-4d35-e6bd-ddbd36b5d78f"
   },
   "outputs": [
    {
     "name": "stdout",
     "output_type": "stream",
     "text": [
      "plan_count has 17 elements, while notnull_count has 14 elements. There are 3 missing elements\n"
     ]
    }
   ],
   "source": [
    "# counting plan categories\n",
    "plan_count = subs.groupby([\"plan\"])[\"plan_unit_price\"].count()\n",
    "\n",
    "# counting not-null plan_unit_price plan categories\n",
    "notnull = subs[subs[\"plan_unit_price\"].notna()]\n",
    "notnull_count = notnull.groupby(\"plan\")[\"plan_unit_price\"].mean()\n",
    "\n",
    "print(f\"plan_count has {plan_count.count()} elements, while notnull_count \\\n",
    "has {notnull_count.count()} elements. There are \\\n",
    "{abs(plan_count.count() - notnull_count.count())} missing elements\")\n"
   ]
  },
  {
   "cell_type": "code",
   "execution_count": 7,
   "metadata": {
    "colab": {
     "base_uri": "https://localhost:8080/"
    },
    "id": "-lIWXG0uOYhu",
    "outputId": "5e036899-9b5f-4de5-ed14-038bb5f5c1fd"
   },
   "outputs": [
    {
     "name": "stdout",
     "output_type": "stream",
     "text": [
      "Missing categories with plan_unit_price are cointained in ['free-yearly', 'regalo-yearly', 'trial-daily']. This should be obvious since no price would be assigned to a free or trial plan.\n",
      "\n",
      "This three categories will have assigned to them the value of 0 to their plan_unit_price\n"
     ]
    }
   ],
   "source": [
    "# checking missing categories\n",
    "l1 = plan_count.reset_index().plan.to_list()\n",
    "l2 = notnull_count.reset_index().plan.to_list()\n",
    "\n",
    "miss_cat = []\n",
    "for l in l1:\n",
    "    if l not in l2:\n",
    "        miss_cat.append(l)\n",
    "\n",
    "print(f\"Missing categories with plan_unit_price are cointained in {miss_cat}. This should \\\n",
    "be obvious since no price would be assigned to a free or trial plan.\\n\\nThis three \\\n",
    "categories will have assigned to them the value of 0 to their plan_unit_price\")"
   ]
  },
  {
   "cell_type": "code",
   "execution_count": 8,
   "metadata": {
    "colab": {
     "base_uri": "https://localhost:8080/"
    },
    "id": "m0ZfeHRzQeeu",
    "outputId": "42c892c3-5918-496f-e4e3-3831fe2f0685"
   },
   "outputs": [
    {
     "data": {
      "text/plain": [
       "{'empresa-monthly': 1.6460000000000001,\n",
       " 'empresa-yearly': 16.802345679012344,\n",
       " 'empresa-yearly-2': 34.852727272727265,\n",
       " 'empresa-yearly-3': 35.695,\n",
       " 'empresa-yearly-4': 46.809285714285714,\n",
       " 'familia-monthly': 15.0,\n",
       " 'familia-yearly': 162.0,\n",
       " 'individual-monthly': 5.0,\n",
       " 'individual-yearly': 54.0,\n",
       " 'nonprofit-monthly': 0.9799999999999999,\n",
       " 'nonprofit-yearly': 9.865000000000004,\n",
       " 'nonprofit-yearly-2': 17.5,\n",
       " 'nonprofit-yearly-3': 21.115000000000002,\n",
       " 'nonprofit-yearly-4': 24.132,\n",
       " 'free-yearly': 0,\n",
       " 'regalo-yearly': 0,\n",
       " 'trial-daily': 0}"
      ]
     },
     "execution_count": 8,
     "metadata": {},
     "output_type": "execute_result"
    }
   ],
   "source": [
    "# Converting non null unit prices to means using plan as grouping criteria\n",
    "# pup: plan unit price\n",
    "mean_pup = notnull.groupby([\"plan\"])[\"plan_unit_price\"].mean()\n",
    "mean_pup = mean_pup.to_dict()\n",
    "\n",
    "# mean_pup onverted to dict to properly use it to map new values in NaN's\n",
    "# will manually add the values for the free categories\n",
    "for miss in miss_cat:\n",
    "    mean_pup[miss] = 0\n",
    "\n",
    "mean_pup"
   ]
  },
  {
   "cell_type": "code",
   "execution_count": 9,
   "metadata": {
    "colab": {
     "base_uri": "https://localhost:8080/"
    },
    "id": "U_f_LGaYV7kB",
    "outputId": "322b9731-ca85-4666-e863-8c38147dd74a"
   },
   "outputs": [
    {
     "name": "stdout",
     "output_type": "stream",
     "text": [
      "<class 'pandas.core.frame.DataFrame'>\n",
      "RangeIndex: 1924 entries, 0 to 1923\n",
      "Data columns (total 12 columns):\n",
      " #   Column               Non-Null Count  Dtype         \n",
      "---  ------               --------------  -----         \n",
      " 0   id                   1924 non-null   object        \n",
      " 1   customer_id          1924 non-null   object        \n",
      " 2   plan                 1924 non-null   object        \n",
      " 3   plan_quantity        1924 non-null   int64         \n",
      " 4   plan_unit_price      1924 non-null   float64       \n",
      " 5   plan_amount          1924 non-null   float64       \n",
      " 6   billing_period       1924 non-null   int64         \n",
      " 7   billing_period_unit  1924 non-null   object        \n",
      " 8   status               1924 non-null   object        \n",
      " 9   created_at           1924 non-null   datetime64[ns]\n",
      " 10  cancelled_at         1053 non-null   datetime64[ns]\n",
      " 11  mrr                  1904 non-null   float64       \n",
      "dtypes: datetime64[ns](2), float64(3), int64(2), object(5)\n",
      "memory usage: 180.5+ KB\n",
      "None)\n",
      "\n",
      "The result from .info() method shows a successful fillna process at both **plan_unit_price** and **plan_amount** columns\n"
     ]
    }
   ],
   "source": [
    "# Mapping dict values into plan_unit_price NaNs\n",
    "subs[\"plan_unit_price\"] = subs.plan_unit_price.fillna(subs.plan.map(mean_pup))\n",
    "\n",
    "# Calculating plan_amount NaNs as: plan_unit_price * plan_quantity\n",
    "subs[\"plan_amount\"] = subs.plan_amount.fillna(\n",
    "    subs.plan_quantity * subs.plan_unit_price)\n",
    "\n",
    "# Rounding to two decimals\n",
    "subs[[\"plan_unit_price\", \"plan_amount\"]] = subs[[\"plan_unit_price\",\n",
    "                                                 \"plan_amount\"]].round(2)\n",
    "\n",
    "print(f\"{subs.info()})\\n\\nThe result from .info() method shows a successful fillna process \\\n",
    "at both **plan_unit_price** and **plan_amount** columns\")"
   ]
  },
  {
   "cell_type": "markdown",
   "metadata": {
    "id": "QxkbmF6Kci_m"
   },
   "source": [
    "As explained before, NaTs values in **cancelled_at** column will be filled with today's date in order to perform future data examination regarding to subscriptions lasting time.\n",
    "\n",
    "Since datetime will be used to fillna, today's date will always be today's date when the notebook is opened and run."
   ]
  },
  {
   "cell_type": "code",
   "execution_count": 10,
   "metadata": {
    "colab": {
     "base_uri": "https://localhost:8080/"
    },
    "id": "EQYCnkfgRouQ",
    "outputId": "d7b64267-bf52-4670-bd30-fbf6a592eef5"
   },
   "outputs": [
    {
     "name": "stdout",
     "output_type": "stream",
     "text": [
      "<class 'pandas.core.frame.DataFrame'>\n",
      "RangeIndex: 1924 entries, 0 to 1923\n",
      "Data columns (total 12 columns):\n",
      " #   Column               Non-Null Count  Dtype         \n",
      "---  ------               --------------  -----         \n",
      " 0   id                   1924 non-null   object        \n",
      " 1   customer_id          1924 non-null   object        \n",
      " 2   plan                 1924 non-null   object        \n",
      " 3   plan_quantity        1924 non-null   int64         \n",
      " 4   plan_unit_price      1924 non-null   float64       \n",
      " 5   plan_amount          1924 non-null   float64       \n",
      " 6   billing_period       1924 non-null   int64         \n",
      " 7   billing_period_unit  1924 non-null   object        \n",
      " 8   status               1924 non-null   object        \n",
      " 9   created_at           1924 non-null   datetime64[ns]\n",
      " 10  cancelled_at         1924 non-null   datetime64[ns]\n",
      " 11  mrr                  1904 non-null   float64       \n",
      "dtypes: datetime64[ns](2), float64(3), int64(2), object(5)\n",
      "memory usage: 180.5+ KB\n"
     ]
    }
   ],
   "source": [
    "subs[\"cancelled_at\"] = subs.cancelled_at.fillna(pd.to_datetime(\"today\"))\n",
    "subs.info()"
   ]
  },
  {
   "cell_type": "code",
   "execution_count": 11,
   "metadata": {
    "colab": {
     "base_uri": "https://localhost:8080/"
    },
    "id": "o_hFtk-rST4J",
    "outputId": "7f6b1485-3deb-4575-d24f-93bb9a2116a5"
   },
   "outputs": [
    {
     "name": "stdout",
     "output_type": "stream",
     "text": [
      "Acoording to mrr_na, there are 19 NaNs associated to trial-daily plans, and 1 associated to a nonprofit-yearly-4 plan.\n",
      "\n",
      "From the looks of mrr_trialdaily, these NaN values will be filled with 0 and for the case of the missing nonprofit-yearly-4 plan it will filled using plan_amount times [1.79] which is the mean of the mrrplan_amount ratio for that plan\n"
     ]
    }
   ],
   "source": [
    "# subset shows that mrr NaNs are mainly composed of \"trial-daily\" plans\n",
    "mrr_na = subs[subs[\"mrr\"].isna()].groupby(\"plan\")[\"created_at\"].count()\n",
    "\n",
    "# Trying to figure out a way to determine mrr for the missing value\n",
    "subs[\"ratio\"] = subs[\"mrr\"] / subs[\"plan_amount\"]\n",
    "\n",
    "mrr_nonprofit = subs[subs[\"plan\"] == \"nonprofit-yearly-4\"][[\"plan\", \"mrr\",\n",
    "                                                            \"ratio\"]]\n",
    "mrr_trialdaily = subs[subs[\"plan\"] == \"trial-daily\"][[\"mrr\", \"ratio\"]]\n",
    "\n",
    "nnprft_mrrmean = mrr_nonprofit.groupby([\"plan\"])[\"ratio\"].mean()\n",
    "nnprft_mrrmean = nnprft_mrrmean.values.round(2)\n",
    "\n",
    "print(f\"Acoording to mrr_na, there are {mrr_na[1]} NaNs associated to trial-daily plans, \\\n",
    "and {mrr_na[0]} associated to a nonprofit-yearly-4 plan.\\n\\nFrom the looks of \\\n",
    "mrr_trialdaily, these NaN values will be filled with 0 and for the case of the missing \\\n",
    "nonprofit-yearly-4 plan it will filled using plan_amount times {nnprft_mrrmean} which is \\\n",
    "the mean of the mrrplan_amount ratio for that plan\")\n"
   ]
  },
  {
   "cell_type": "code",
   "execution_count": 12,
   "metadata": {
    "colab": {
     "base_uri": "https://localhost:8080/"
    },
    "id": "1He2GMAg7kMf",
    "outputId": "47ee31dc-823f-4b42-b555-4cada19c80fb"
   },
   "outputs": [
    {
     "name": "stdout",
     "output_type": "stream",
     "text": [
      "<class 'pandas.core.frame.DataFrame'>\n",
      "RangeIndex: 1924 entries, 0 to 1923\n",
      "Data columns (total 13 columns):\n",
      " #   Column               Non-Null Count  Dtype         \n",
      "---  ------               --------------  -----         \n",
      " 0   id                   1924 non-null   object        \n",
      " 1   customer_id          1924 non-null   object        \n",
      " 2   plan                 1924 non-null   object        \n",
      " 3   plan_quantity        1924 non-null   int64         \n",
      " 4   plan_unit_price      1924 non-null   float64       \n",
      " 5   plan_amount          1924 non-null   float64       \n",
      " 6   billing_period       1924 non-null   int64         \n",
      " 7   billing_period_unit  1924 non-null   object        \n",
      " 8   status               1924 non-null   object        \n",
      " 9   created_at           1924 non-null   datetime64[ns]\n",
      " 10  cancelled_at         1924 non-null   datetime64[ns]\n",
      " 11  mrr                  1924 non-null   int32         \n",
      " 12  ratio                1504 non-null   float64       \n",
      "dtypes: datetime64[ns](2), float64(3), int32(1), int64(2), object(5)\n",
      "memory usage: 188.0+ KB\n"
     ]
    }
   ],
   "source": [
    "# dict for mrr filling NaNs\n",
    "mrr_dict = {'trial-daily': 0, 'nonprofit-yearly-4': nnprft_mrrmean}\n",
    "\n",
    "# mapping dict values\n",
    "subs[\"mrr\"] = subs.mrr.fillna(subs.plan.map(mrr_dict) * subs.plan_amount)\n",
    "\n",
    "# checking current state of DF\n",
    "subs[subs[\"plan\"] == \"nonprofit-yearly-4\"][[\"plan\", \"mrr\", \"ratio\"]]\n",
    "\n",
    "# converting subs.mrr into int type\n",
    "subs[\"mrr\"] = subs.mrr.astype(\"int\")\n",
    "subs.info()"
   ]
  },
  {
   "cell_type": "code",
   "execution_count": 13,
   "metadata": {
    "colab": {
     "base_uri": "https://localhost:8080/"
    },
    "id": "T7Hc7zigEZ3V",
    "outputId": "bbb5ed9e-ae25-410d-b550-89e1b3780d1a"
   },
   "outputs": [
    {
     "name": "stdout",
     "output_type": "stream",
     "text": [
      "<class 'pandas.core.frame.DataFrame'>\n",
      "RangeIndex: 1924 entries, 0 to 1923\n",
      "Data columns (total 14 columns):\n",
      " #   Column               Non-Null Count  Dtype          \n",
      "---  ------               --------------  -----          \n",
      " 0   id                   1924 non-null   object         \n",
      " 1   customer_id          1924 non-null   object         \n",
      " 2   plan                 1924 non-null   object         \n",
      " 3   plan_quantity        1924 non-null   int64          \n",
      " 4   plan_unit_price      1924 non-null   float64        \n",
      " 5   plan_amount          1924 non-null   float64        \n",
      " 6   billing_period       1924 non-null   int64          \n",
      " 7   billing_period_unit  1924 non-null   object         \n",
      " 8   status               1924 non-null   object         \n",
      " 9   created_at           1924 non-null   datetime64[ns] \n",
      " 10  cancelled_at         1924 non-null   datetime64[ns] \n",
      " 11  mrr                  1924 non-null   int32          \n",
      " 12  ratio                1504 non-null   float64        \n",
      " 13  duration             1924 non-null   timedelta64[ns]\n",
      "dtypes: datetime64[ns](2), float64(3), int32(1), int64(2), object(5), timedelta64[ns](1)\n",
      "memory usage: 203.0+ KB\n"
     ]
    }
   ],
   "source": [
    "# creating timedelta object for duration of plans\n",
    "subs[\"duration\"] = subs.cancelled_at - subs.created_at\n",
    "subs.head()\n",
    "subs.info()"
   ]
  },
  {
   "cell_type": "markdown",
   "metadata": {
    "id": "-AF2KZ1bJlTo"
   },
   "source": [
    "### SUBS TABLE VDA"
   ]
  },
  {
   "cell_type": "markdown",
   "metadata": {
    "id": "eLGfAcyPk2nz"
   },
   "source": [
    "#### SUBS TABLE HISTOGRAMS\n",
    "\n",
    "Some histograms will be drawn in orden to see the distribution of the total plan_quatity that each one holds."
   ]
  },
  {
   "cell_type": "code",
   "execution_count": 14,
   "metadata": {
    "id": "liyIxZPPKjaf"
   },
   "outputs": [],
   "source": [
    "# going for an histogram vs accumulated curve.\n",
    "series_plan = subs.groupby([\"plan\"])[\"plan_quantity\"].sum().sort_values(\n",
    "    ascending=False)\n",
    "\n",
    "# Creating columns to reflect cumulative values\n",
    "plan_df = pd.DataFrame(series_plan).reset_index()\n",
    "plan_df[\"values_norm\"] = plan_df.plan_quantity / plan_df.plan_quantity.sum()\n",
    "plan_df[\"cumulative\"] = plan_df.values_norm.cumsum()\n",
    "plan_df[\"perc_cumulative\"] = plan_df.cumulative / plan_df.cumulative.max()\n",
    "plan_df[\"perc_cum_label\"] = plan_df.apply(\n",
    "    lambda x: str(round(x.perc_cumulative * 100, 1)) + \"%\", axis=1)\n"
   ]
  },
  {
   "cell_type": "code",
   "execution_count": 15,
   "metadata": {
    "colab": {
     "base_uri": "https://localhost:8080/",
     "height": 733
    },
    "id": "RD7gJ24BBcja",
    "outputId": "eff3e4f0-1134-4e5f-e41b-75605e92c711"
   },
   "outputs": [
    {
     "data": {
      "image/png": "[encoded data removed]",
      "text/plain": [
       "<Figure size 1280x640 with 1 Axes>"
      ]
     },
     "metadata": {},
     "output_type": "display_data"
    }
   ],
   "source": [
    "# generating figure and twin axes\n",
    "plt.figure()\n",
    "host = host_subplot(111)\n",
    "par = host.twinx()\n",
    "\n",
    "# we plot the bars (use host. instead of plt.)\n",
    "x = np.array(plan_df['plan'])\n",
    "y = np.array(plan_df['values_norm'])\n",
    "p1 = host.bar(x, y)\n",
    "\n",
    "# changing color for free plans\n",
    "p1.patches[0].set_color(\"#fcb900\")\n",
    "p1.patches[2].set_color(\"#fcb900\")\n",
    "p1.patches[16].set_color(\"#fcb900\")\n",
    "\n",
    "# plotting the curve (use par. instead of plt.)\n",
    "x = list(range(len(x)))\n",
    "y = list(plan_df['perc_cumulative'])\n",
    "p2 = par.plot(x, y, color=\"#9b51e0\",marker='o')\n",
    "\n",
    "# plotting the values from the cumulative curve on top of it\n",
    "y_labels = list(plan_df['perc_cum_label'])\n",
    "for i,j in zip(x,y):\n",
    "    inplot = par.annotate(str(y_labels[i]), xy=(i-0.1,j+0.05), fontsize=12,\n",
    "                          color='white')\n",
    "    \n",
    "# some final tweaking in title, axis and labels\n",
    "par.axis(ymin=0, ymax=1.1)\n",
    "plt.title('Plan Quantity Histogram and Cumulative Curve', fontsize=20)\n",
    "host.set_xlabel('Plans', size=15, labelpad=18)\n",
    "host.set_ylabel('Cumulative plans', size=15, labelpad=18)\n",
    "host.tick_params(axis='x', labelsize = 14, labelrotation=-90)\n",
    "\n",
    "# saving files to dir\n",
    "plt.savefig(f\"{graphs_dir}/Plan_quantity_cumulative_histogram_curve.png\",\n",
    "            bbox_inches = 'tight')\n",
    "plt.show()"
   ]
  },
  {
   "cell_type": "markdown",
   "metadata": {
    "id": "HsuDYMXbkcHl"
   },
   "source": [
    "From the histogram, it's pretty clear that *trial-daily* has about 33% of plan quantity and if paired with *free-yearly* and *regalo-yearly* they would up to almost 50%.\n",
    "\n",
    "I'll be doing peforming same excersice without the free accounts.\n"
   ]
  },
  {
   "cell_type": "code",
   "execution_count": 16,
   "metadata": {
    "id": "wBqAGep6MbyF"
   },
   "outputs": [],
   "source": [
    "# Creating columns to reflect cumulative values (having removed free plans)\n",
    "plan_nofree = pd.DataFrame(series_plan).reset_index()\n",
    "plan_nofree = plan_nofree.drop([0, 2, 16]).reset_index()\n",
    "plan_nofree = plan_nofree.drop(\"index\", axis=1)\n",
    "plan_nofree[\"values_norm\"] = plan_nofree.plan_quantity / \\\n",
    "    plan_nofree.plan_quantity.sum()\n",
    "plan_nofree[\"cumulative\"] = plan_nofree.values_norm.cumsum()\n",
    "plan_nofree[\"perc_cumulative\"] = plan_nofree.cumulative / \\\n",
    "    plan_nofree.cumulative.max()\n",
    "plan_nofree[\"perc_cum_label\"] = plan_nofree.apply(\n",
    "    lambda x: str(round(x.perc_cumulative * 100, 1)) + \"%\", axis=1)\n"
   ]
  },
  {
   "cell_type": "code",
   "execution_count": 17,
   "metadata": {
    "colab": {
     "base_uri": "https://localhost:8080/",
     "height": 733
    },
    "id": "b0pZiAfj1h2A",
    "outputId": "85c5ec9d-36a3-4eee-c621-4266663f53fc"
   },
   "outputs": [
    {
     "data": {
      "image/png": "[encoded data removed]",
      "text/plain": [
       "<Figure size 1280x640 with 1 Axes>"
      ]
     },
     "metadata": {},
     "output_type": "display_data"
    }
   ],
   "source": [
    "# generating figure and twin axes\n",
    "plt.figure(figsize=(16, 8))\n",
    "host = host_subplot(111)\n",
    "par = host.twinx()\n",
    "\n",
    "# we plot the bars (use host. instead of plt.)\n",
    "x = np.array(plan_nofree['plan'])\n",
    "y = np.array(plan_nofree['values_norm'])\n",
    "p1 = host.bar(x, y)\n",
    "\n",
    "# changing color for largest plans\n",
    "for i in range(4):\n",
    "    p1.patches[i].set_color(\"#fcb900\")\n",
    "\n",
    "# plotting the curve (use par. instead of plt.)\n",
    "x = list(range(len(x)))\n",
    "y = list(plan_nofree['perc_cumulative'])\n",
    "p2 = par.plot(x, y, color=\"#9b51e0\",marker='o')\n",
    "\n",
    "# plotting the values from the cumulative curve on top of it\n",
    "y_labels = list(plan_nofree['perc_cum_label'])\n",
    "for i,j in zip(x,y):\n",
    "    inplot = par.annotate(str(y_labels[i]), xy=(i-0.1,j+0.05), fontsize=12,\n",
    "                          color='white')\n",
    "    \n",
    "# some final tweaking in title, axis and labels\n",
    "par.axis(ymin=0, ymax=1.1)\n",
    "plt.title('Paid Plans Quantity Histogram and Cumulative Curve', fontsize=20)\n",
    "host.set_xlabel('Paid Plans', size=15, labelpad=18)\n",
    "host.set_ylabel('Cumulative plans', size=15, labelpad=18)\n",
    "host.tick_params(axis=\"x\", labelsize = 14, labelrotation=-90)\n",
    "\n",
    "# saving files to dir\n",
    "plt.savefig(f\"{graphs_dir}/Paid_Plans_quantity_cumulative_histogram_curve.png\",\n",
    "            bbox_inches = 'tight')\n",
    "plt.show()"
   ]
  },
  {
   "cell_type": "markdown",
   "metadata": {
    "id": "eqJwCzLwbwCe"
   },
   "source": [
    "I'll plot stacked histograms to visualize status per plan for the four plans with more subscriptions."
   ]
  },
  {
   "cell_type": "code",
   "execution_count": 18,
   "metadata": {
    "colab": {
     "base_uri": "https://localhost:8080/",
     "height": 408
    },
    "id": "IPRpGuLIbs6X",
    "outputId": "28e43ace-1143-469d-faf2-a1b9d2160202"
   },
   "outputs": [
    {
     "name": "stderr",
     "output_type": "stream",
     "text": [
      "C:\\Users\\pablo\\Anaconda3\\lib\\site-packages\\pandas\\core\\frame.py:3065: SettingWithCopyWarning: \n",
      "A value is trying to be set on a copy of a slice from a DataFrame.\n",
      "Try using .loc[row_indexer,col_indexer] = value instead\n",
      "\n",
      "See the caveats in the documentation: https://pandas.pydata.org/pandas-docs/stable/user_guide/indexing.html#returning-a-view-versus-a-copy\n",
      "  self[k1] = value[k2]\n"
     ]
    },
    {
     "data": {
      "text/html": [
       "<div>\n",
       "<style scoped>\n",
       "    .dataframe tbody tr th:only-of-type {\n",
       "        vertical-align: middle;\n",
       "    }\n",
       "\n",
       "    .dataframe tbody tr th {\n",
       "        vertical-align: top;\n",
       "    }\n",
       "\n",
       "    .dataframe thead th {\n",
       "        text-align: right;\n",
       "    }\n",
       "</style>\n",
       "<table border=\"1\" class=\"dataframe\">\n",
       "  <thead>\n",
       "    <tr style=\"text-align: right;\">\n",
       "      <th></th>\n",
       "      <th>plan</th>\n",
       "      <th>status</th>\n",
       "      <th>plan_quantity</th>\n",
       "    </tr>\n",
       "  </thead>\n",
       "  <tbody>\n",
       "    <tr>\n",
       "      <th>0</th>\n",
       "      <td>empresa-monthly</td>\n",
       "      <td>active</td>\n",
       "      <td>2593.0</td>\n",
       "    </tr>\n",
       "    <tr>\n",
       "      <th>1</th>\n",
       "      <td>empresa-monthly</td>\n",
       "      <td>cancelled</td>\n",
       "      <td>0.0</td>\n",
       "    </tr>\n",
       "    <tr>\n",
       "      <th>2</th>\n",
       "      <td>empresa-yearly</td>\n",
       "      <td>active</td>\n",
       "      <td>5062.0</td>\n",
       "    </tr>\n",
       "    <tr>\n",
       "      <th>3</th>\n",
       "      <td>empresa-yearly</td>\n",
       "      <td>cancelled</td>\n",
       "      <td>1371.0</td>\n",
       "    </tr>\n",
       "    <tr>\n",
       "      <th>4</th>\n",
       "      <td>nonprofit-yearly</td>\n",
       "      <td>active</td>\n",
       "      <td>11827.0</td>\n",
       "    </tr>\n",
       "    <tr>\n",
       "      <th>5</th>\n",
       "      <td>nonprofit-yearly</td>\n",
       "      <td>cancelled</td>\n",
       "      <td>3576.0</td>\n",
       "    </tr>\n",
       "    <tr>\n",
       "      <th>6</th>\n",
       "      <td>nonprofit-yearly-4</td>\n",
       "      <td>active</td>\n",
       "      <td>3469.0</td>\n",
       "    </tr>\n",
       "    <tr>\n",
       "      <th>7</th>\n",
       "      <td>nonprofit-yearly-4</td>\n",
       "      <td>cancelled</td>\n",
       "      <td>0.0</td>\n",
       "    </tr>\n",
       "  </tbody>\n",
       "</table>\n",
       "</div>"
      ],
      "text/plain": [
       "                 plan     status  plan_quantity\n",
       "0     empresa-monthly     active         2593.0\n",
       "1     empresa-monthly  cancelled            0.0\n",
       "2      empresa-yearly     active         5062.0\n",
       "3      empresa-yearly  cancelled         1371.0\n",
       "4    nonprofit-yearly     active        11827.0\n",
       "5    nonprofit-yearly  cancelled         3576.0\n",
       "6  nonprofit-yearly-4     active         3469.0\n",
       "7  nonprofit-yearly-4  cancelled            0.0"
      ]
     },
     "execution_count": 18,
     "metadata": {},
     "output_type": "execute_result"
    }
   ],
   "source": [
    "series_plan = subs.groupby([\"plan\", \"status\"])[\"plan_quantity\"].sum().\\\n",
    "    sort_values(\n",
    "    ascending=False)\n",
    "\n",
    "free_plans = [\"trial-daily\", \"free-yearly\", \"regalo-yearly\"]\n",
    "\n",
    "# Creating new DF\n",
    "plan_df = pd.DataFrame(series_plan).reset_index()\n",
    "\n",
    "# Dropping free plans\n",
    "for free in free_plans:\n",
    "    plan_df = plan_df[plan_df.plan != free]\n",
    "\n",
    "# Creating columns to reflect cumulative values\n",
    "plan_df[\"values_norm\"] = plan_df.plan_quantity / plan_df.plan_quantity.sum()\n",
    "plan_df[\"cumulative\"] = plan_df.values_norm.cumsum()\n",
    "plan_df[\"perc_cumulative\"] = plan_df.cumulative / plan_df.cumulative.max()\n",
    "plan_df[\"perc_cum_label\"] = plan_df.apply(\n",
    "      lambda x: str(round(x.perc_cumulative * 100, 1)) + \"%\", axis=1)\n",
    "\n",
    "#Dropping plans past 0.86 cumulative\n",
    "top85 = plan_df[plan_df[\"cumulative\"] <= 0.86]\n",
    "top85[[\"plan\", \"status\"]] = top85[[\"plan\", \"status\"]].astype(\"category\")\n",
    "top85 = top85.groupby([\"plan\", \"status\"])[\"plan_quantity\"].sum().fillna(0)\n",
    "top85 = pd.DataFrame(top85).reset_index()\n",
    "\n",
    "top85"
   ]
  },
  {
   "cell_type": "code",
   "execution_count": 19,
   "metadata": {
    "colab": {
     "base_uri": "https://localhost:8080/",
     "height": 602
    },
    "id": "1MkCjIXUz75z",
    "outputId": "171fce4f-0345-44b8-fdc5-9329c208cce0"
   },
   "outputs": [
    {
     "data": {
      "image/png": "[encoded data removed]",
      "text/plain": [
       "<Figure size 960x480 with 1 Axes>"
      ]
     },
     "metadata": {},
     "output_type": "display_data"
    }
   ],
   "source": [
    "labels = top85.plan.unique().tolist()\n",
    "\n",
    "active = top85[\"plan_quantity\"][top85[\"status\"] == \"active\"].to_list()\n",
    "cancelled = top85[\"plan_quantity\"][top85[\"status\"] == \"cancelled\"].to_list()\n",
    "\n",
    "# plotting the stacked histogram\n",
    "fig, ax = plt.subplots(figsize=(12,6))\n",
    "\n",
    "ax.bar(labels, active, width=0.35, label='Active')\n",
    "ax.bar(labels, cancelled, width=0.35, bottom=active, label='Cancelled')\n",
    "\n",
    "ax.set_ylabel('Plan quantity', fontsize=15, labelpad=18)\n",
    "ax.set_xlabel('Plans', fontsize=15, labelpad=18)\n",
    "ax.set_title('Plan subscriptions by plans and status', fontsize=20)\n",
    "ax.tick_params(axis=\"x\", labelsize = 14, labelrotation=-90)\n",
    "ax.legend(fontsize=15)\n",
    "\n",
    "plt.show()"
   ]
  },
  {
   "cell_type": "markdown",
   "metadata": {
    "id": "_ACfnILJlBmP"
   },
   "source": [
    "#### SUBS TABLE BOXPLOTS\n",
    "\n",
    "Boxplots will be drawn to compare plan unit prices between plans."
   ]
  },
  {
   "cell_type": "code",
   "execution_count": 20,
   "metadata": {
    "colab": {
     "base_uri": "https://localhost:8080/",
     "height": 733
    },
    "id": "SAAeqqzoiXBj",
    "outputId": "fdf5af73-667e-4957-bd83-64e084d77a7d"
   },
   "outputs": [
    {
     "data": {
      "image/png": "[encoded data removed]",
      "text/plain": [
       "<Figure size 1920x640 with 2 Axes>"
      ]
     },
     "metadata": {},
     "output_type": "display_data"
    }
   ],
   "source": [
    "# Removing free plans of this calculation\n",
    "boxplot_df = subs[subs.plan_unit_price != 0]\n",
    "\n",
    "# setting up boxplot\n",
    "fig, axs = plt.subplots(1, 2, figsize=(24,8))\n",
    "\n",
    "sns.boxplot(x=\"plan\", y=\"plan_unit_price\", data=boxplot_df, ax=axs[0])\n",
    "axs[0].tick_params(axis='x', labelsize = 14, labelrotation=-90)\n",
    "axs[0].set_title('Plan vs Plan Unit Price', fontsize=20)\n",
    "axs[0].set_xlabel(\"Plan\", size=15, labelpad=18)\n",
    "axs[0].set_ylabel(\"Plan Unit Price\", size=15, labelpad=18)\n",
    "\n",
    "sns.boxplot(x=\"plan\", y=\"plan_amount\", data=boxplot_df, ax=axs[1])\n",
    "axs[1].tick_params(axis='x', labelsize = 14, labelrotation=-90)\n",
    "axs[1].set_title('Plan amount vs Plan', fontsize=20)\n",
    "axs[1].set_xlabel(\"Plan\", size=15, labelpad=18)\n",
    "axs[1].set_ylabel(\"Plan Amount\", size=15, labelpad=18)\n",
    "\n",
    "# saving files to dir\n",
    "plt.savefig(f\"{graphs_dir}/Plan_boxplots_1.png\", bbox_inches = 'tight')\n",
    "\n",
    "plt.show()\n"
   ]
  },
  {
   "cell_type": "code",
   "execution_count": 21,
   "metadata": {
    "colab": {
     "base_uri": "https://localhost:8080/",
     "height": 730
    },
    "id": "bZq5i6oi5IdC",
    "outputId": "a5452e1d-9610-4a60-9c24-3311665ce7d1"
   },
   "outputs": [
    {
     "data": {
      "image/png": "[encoded data removed]",
      "text/plain": [
       "<Figure size 1920x640 with 2 Axes>"
      ]
     },
     "metadata": {},
     "output_type": "display_data"
    }
   ],
   "source": [
    "# Removing free plans of this calculation\n",
    "boxplot_df2 = subs[subs.plan_unit_price != 0]\n",
    "\n",
    "# removing plans with low variance\n",
    "low_var = [\"individual-yearly\", \"individual-monthly\", \"familia-monthly\",\n",
    "           \"empresa-monthly\", \"familia-yearly\", \"nonprofit-monthly\",\n",
    "           \"nonprofit-yearly-3\"]\n",
    "\n",
    "for plan in low_var:\n",
    "    boxplot_df2 = boxplot_df2[boxplot_df2.plan != plan]\n",
    "\n",
    "boxplot_df2.head(20)\n",
    "\n",
    "# setting up boxplot\n",
    "fig, axs = plt.subplots(1, 2, figsize=(24,8))\n",
    "\n",
    "sns.boxplot(x=\"plan\", y=\"plan_unit_price\", data=boxplot_df2, ax=axs[0])\n",
    "axs[0].tick_params(axis='x', labelsize = 14, labelrotation=-90)\n",
    "axs[0].set_title('Plan vs Plan Unit Price', fontsize=20)\n",
    "axs[0].set_xlabel(\"Plan\", size=15, labelpad=18)\n",
    "axs[0].set_ylabel(\"Plan Unit Price\", size=15, labelpad=18)\n",
    "\n",
    "sns.boxplot(x=\"plan\", y=\"plan_amount\", data=boxplot_df2, ax=axs[1])\n",
    "axs[1].tick_params(axis='x', labelsize = 14, labelrotation=-90)\n",
    "axs[1].set_title('Plan amount vs Plan', fontsize=20)\n",
    "axs[1].set_xlabel(\"Plan\", size=15, labelpad=18)\n",
    "axs[1].set_ylabel(\"Plan Amount\", size=15, labelpad=18)\n",
    "\n",
    "# saving files to dir\n",
    "plt.savefig(f\"{graphs_dir}/Plan_boxplots_2.png\", bbox_inches = 'tight')\n",
    "\n",
    "plt.show()\n"
   ]
  },
  {
   "cell_type": "code",
   "execution_count": 22,
   "metadata": {
    "id": "HGr4OcMb2iXZ"
   },
   "outputs": [
    {
     "data": {
      "image/png": "[encoded data removed]",
      "text/plain": [
       "<Figure size 1280x640 with 1 Axes>"
      ]
     },
     "metadata": {},
     "output_type": "display_data"
    }
   ],
   "source": [
    "# # setting up boxplot for plan duration in days\n",
    "boxplot_df3 = boxplot_df2\n",
    "boxplot_df3[\"duration\"] = boxplot_df3.duration.dt.days\n",
    "fig = plt.figure()\n",
    "ax = fig.gca()\n",
    "\n",
    "sns.boxplot(x=\"plan\", y=\"duration\", data=boxplot_df3, ax=ax)\n",
    "ax.tick_params(axis='x', labelsize = 14, labelrotation=-90)\n",
    "ax.set_title('Plan vs Duration in days', fontsize=20)\n",
    "ax.set_xlabel(\"Plan\", size=15, labelpad=18)\n",
    "ax.set_ylabel(\"Duration\", size=15, labelpad=18)\n",
    "\n",
    "# saving file to dir\n",
    "plt.savefig(f\"{graphs_dir}/Plan_boxplots_3.png\", bbox_inches = 'tight')\n",
    "plt.show()\n"
   ]
  },
  {
   "cell_type": "markdown",
   "metadata": {},
   "source": [
    "## EXPLORATORY/VISUAL DATA ANALYSIS: DVCS TABLE"
   ]
  },
  {
   "cell_type": "markdown",
   "metadata": {},
   "source": [
    "### TL;DR DVCS TABLE EDA/VDA\n",
    "\n",
    "Summary:\n",
    "+ DVCS table has not a single NaN value on any of its colums.\n",
    "+ Generated barplots to visualize data distribution."
   ]
  },
  {
   "cell_type": "code",
   "execution_count": 23,
   "metadata": {},
   "outputs": [
    {
     "name": "stdout",
     "output_type": "stream",
     "text": [
      "<class 'pandas.core.frame.DataFrame'>\n",
      "RangeIndex: 56240 entries, 0 to 56239\n",
      "Data columns (total 6 columns):\n",
      " #   Column      Non-Null Count  Dtype         \n",
      "---  ------      --------------  -----         \n",
      " 0   id          56240 non-null  object        \n",
      " 1   user_id     56240 non-null  object        \n",
      " 2   created_at  56240 non-null  datetime64[ns]\n",
      " 3   type        56240 non-null  object        \n",
      " 4   os          56240 non-null  object        \n",
      " 5   state       56240 non-null  object        \n",
      "dtypes: datetime64[ns](1), object(5)\n",
      "memory usage: 2.6+ MB\n",
      "None\n",
      "\n",
      "           id     user_id          created_at    type       os    state\n",
      "0  b4ac4cfb6a  f76d3628cb 2013-02-12 13:46:37   Phone  Android  deleted\n",
      "1  3740780237  f76d3628cb 2014-04-11 08:32:44  Tablet  Android  deleted\n",
      "2  3a78940895  f76d3628cb 2014-04-19 14:52:01  Tablet  Android  deleted\n",
      "3  74ab455a9d  f76d3628cb 2015-04-20 15:51:23   Phone  Android  deleted\n",
      "4  400458972f  f76d3628cb 2016-06-21 10:56:59   Phone  Android  deleted)\n"
     ]
    }
   ],
   "source": [
    "# basic review of dvcs table\n",
    "print(f\"{dvcs.info()}\\n\\n{dvcs.head()})\")"
   ]
  },
  {
   "cell_type": "markdown",
   "metadata": {},
   "source": [
    "Changing **type**, **os**, and **state** columns to category type reduced the memory usage from 2.6MB to 1.4MB. Memory saving might not be a big deal for such a reduced DataFrame object but it might come in handy it were to increase it's size."
   ]
  },
  {
   "cell_type": "code",
   "execution_count": 24,
   "metadata": {},
   "outputs": [
    {
     "name": "stdout",
     "output_type": "stream",
     "text": [
      " type has 4 categories\n",
      " os has 16 categories\n",
      " state has 4 categories\n"
     ]
    },
    {
     "data": {
      "text/html": [
       "<div>\n",
       "<style scoped>\n",
       "    .dataframe tbody tr th:only-of-type {\n",
       "        vertical-align: middle;\n",
       "    }\n",
       "\n",
       "    .dataframe tbody tr th {\n",
       "        vertical-align: top;\n",
       "    }\n",
       "\n",
       "    .dataframe thead th {\n",
       "        text-align: right;\n",
       "    }\n",
       "</style>\n",
       "<table border=\"1\" class=\"dataframe\">\n",
       "  <thead>\n",
       "    <tr style=\"text-align: right;\">\n",
       "      <th></th>\n",
       "      <th></th>\n",
       "      <th></th>\n",
       "      <th>user_id</th>\n",
       "      <th>id</th>\n",
       "    </tr>\n",
       "    <tr>\n",
       "      <th>type</th>\n",
       "      <th>state</th>\n",
       "      <th>os</th>\n",
       "      <th></th>\n",
       "      <th></th>\n",
       "    </tr>\n",
       "  </thead>\n",
       "  <tbody>\n",
       "    <tr>\n",
       "      <th rowspan=\"11\" valign=\"top\">Desktop</th>\n",
       "      <th rowspan=\"5\" valign=\"top\">deleted</th>\n",
       "      <th>Centos</th>\n",
       "      <td>1</td>\n",
       "      <td>1</td>\n",
       "    </tr>\n",
       "    <tr>\n",
       "      <th>Debian</th>\n",
       "      <td>1</td>\n",
       "      <td>1</td>\n",
       "    </tr>\n",
       "    <tr>\n",
       "      <th>Mac</th>\n",
       "      <td>611</td>\n",
       "      <td>611</td>\n",
       "    </tr>\n",
       "    <tr>\n",
       "      <th>Ubuntu</th>\n",
       "      <td>6</td>\n",
       "      <td>6</td>\n",
       "    </tr>\n",
       "    <tr>\n",
       "      <th>Windows</th>\n",
       "      <td>1604</td>\n",
       "      <td>1604</td>\n",
       "    </tr>\n",
       "    <tr>\n",
       "      <th rowspan=\"2\" valign=\"top\">missing</th>\n",
       "      <th>Mac</th>\n",
       "      <td>4</td>\n",
       "      <td>4</td>\n",
       "    </tr>\n",
       "    <tr>\n",
       "      <th>Windows</th>\n",
       "      <td>25</td>\n",
       "      <td>25</td>\n",
       "    </tr>\n",
       "    <tr>\n",
       "      <th rowspan=\"3\" valign=\"top\">ok</th>\n",
       "      <th>Mac</th>\n",
       "      <td>931</td>\n",
       "      <td>931</td>\n",
       "    </tr>\n",
       "    <tr>\n",
       "      <th>Ubuntu</th>\n",
       "      <td>3</td>\n",
       "      <td>3</td>\n",
       "    </tr>\n",
       "    <tr>\n",
       "      <th>Windows</th>\n",
       "      <td>1028</td>\n",
       "      <td>1028</td>\n",
       "    </tr>\n",
       "    <tr>\n",
       "      <th>unverified</th>\n",
       "      <th>Windows</th>\n",
       "      <td>1</td>\n",
       "      <td>1</td>\n",
       "    </tr>\n",
       "    <tr>\n",
       "      <th rowspan=\"28\" valign=\"top\">Laptop</th>\n",
       "      <th rowspan=\"10\" valign=\"top\">deleted</th>\n",
       "      <th>Android</th>\n",
       "      <td>82</td>\n",
       "      <td>82</td>\n",
       "    </tr>\n",
       "    <tr>\n",
       "      <th>Arch</th>\n",
       "      <td>6</td>\n",
       "      <td>6</td>\n",
       "    </tr>\n",
       "    <tr>\n",
       "      <th>Chrome</th>\n",
       "      <td>2</td>\n",
       "      <td>2</td>\n",
       "    </tr>\n",
       "    <tr>\n",
       "      <th>Debian</th>\n",
       "      <td>1</td>\n",
       "      <td>1</td>\n",
       "    </tr>\n",
       "    <tr>\n",
       "      <th>Linux</th>\n",
       "      <td>2</td>\n",
       "      <td>2</td>\n",
       "    </tr>\n",
       "    <tr>\n",
       "      <th>Mac</th>\n",
       "      <td>3278</td>\n",
       "      <td>3278</td>\n",
       "    </tr>\n",
       "    <tr>\n",
       "      <th>Mint</th>\n",
       "      <td>11</td>\n",
       "      <td>11</td>\n",
       "    </tr>\n",
       "    <tr>\n",
       "      <th>Neon</th>\n",
       "      <td>3</td>\n",
       "      <td>3</td>\n",
       "    </tr>\n",
       "    <tr>\n",
       "      <th>Ubuntu</th>\n",
       "      <td>158</td>\n",
       "      <td>158</td>\n",
       "    </tr>\n",
       "    <tr>\n",
       "      <th>Windows</th>\n",
       "      <td>11006</td>\n",
       "      <td>11006</td>\n",
       "    </tr>\n",
       "    <tr>\n",
       "      <th rowspan=\"3\" valign=\"top\">missing</th>\n",
       "      <th>Android</th>\n",
       "      <td>2</td>\n",
       "      <td>2</td>\n",
       "    </tr>\n",
       "    <tr>\n",
       "      <th>Mac</th>\n",
       "      <td>70</td>\n",
       "      <td>70</td>\n",
       "    </tr>\n",
       "    <tr>\n",
       "      <th>Windows</th>\n",
       "      <td>419</td>\n",
       "      <td>419</td>\n",
       "    </tr>\n",
       "    <tr>\n",
       "      <th rowspan=\"14\" valign=\"top\">ok</th>\n",
       "      <th>Android</th>\n",
       "      <td>95</td>\n",
       "      <td>95</td>\n",
       "    </tr>\n",
       "    <tr>\n",
       "      <th>Arch</th>\n",
       "      <td>3</td>\n",
       "      <td>3</td>\n",
       "    </tr>\n",
       "    <tr>\n",
       "      <th>Centos</th>\n",
       "      <td>2</td>\n",
       "      <td>2</td>\n",
       "    </tr>\n",
       "    <tr>\n",
       "      <th>Chrome</th>\n",
       "      <td>1</td>\n",
       "      <td>1</td>\n",
       "    </tr>\n",
       "    <tr>\n",
       "      <th>Debian</th>\n",
       "      <td>4</td>\n",
       "      <td>4</td>\n",
       "    </tr>\n",
       "    <tr>\n",
       "      <th>Elementary</th>\n",
       "      <td>1</td>\n",
       "      <td>1</td>\n",
       "    </tr>\n",
       "    <tr>\n",
       "      <th>Fedora</th>\n",
       "      <td>1</td>\n",
       "      <td>1</td>\n",
       "    </tr>\n",
       "    <tr>\n",
       "      <th>Kali</th>\n",
       "      <td>1</td>\n",
       "      <td>1</td>\n",
       "    </tr>\n",
       "    <tr>\n",
       "      <th>Mac</th>\n",
       "      <td>3353</td>\n",
       "      <td>3353</td>\n",
       "    </tr>\n",
       "    <tr>\n",
       "      <th>Mint</th>\n",
       "      <td>4</td>\n",
       "      <td>4</td>\n",
       "    </tr>\n",
       "    <tr>\n",
       "      <th>Neon</th>\n",
       "      <td>1</td>\n",
       "      <td>1</td>\n",
       "    </tr>\n",
       "    <tr>\n",
       "      <th>Solus</th>\n",
       "      <td>1</td>\n",
       "      <td>1</td>\n",
       "    </tr>\n",
       "    <tr>\n",
       "      <th>Ubuntu</th>\n",
       "      <td>157</td>\n",
       "      <td>157</td>\n",
       "    </tr>\n",
       "    <tr>\n",
       "      <th>Windows</th>\n",
       "      <td>21276</td>\n",
       "      <td>21276</td>\n",
       "    </tr>\n",
       "    <tr>\n",
       "      <th>unverified</th>\n",
       "      <th>Mac</th>\n",
       "      <td>1</td>\n",
       "      <td>1</td>\n",
       "    </tr>\n",
       "    <tr>\n",
       "      <th rowspan=\"7\" valign=\"top\">Phone</th>\n",
       "      <th rowspan=\"3\" valign=\"top\">deleted</th>\n",
       "      <th>Android</th>\n",
       "      <td>2951</td>\n",
       "      <td>2951</td>\n",
       "    </tr>\n",
       "    <tr>\n",
       "      <th>Ios</th>\n",
       "      <td>1319</td>\n",
       "      <td>1319</td>\n",
       "    </tr>\n",
       "    <tr>\n",
       "      <th>Linux</th>\n",
       "      <td>1</td>\n",
       "      <td>1</td>\n",
       "    </tr>\n",
       "    <tr>\n",
       "      <th rowspan=\"2\" valign=\"top\">missing</th>\n",
       "      <th>Android</th>\n",
       "      <td>81</td>\n",
       "      <td>81</td>\n",
       "    </tr>\n",
       "    <tr>\n",
       "      <th>Ios</th>\n",
       "      <td>37</td>\n",
       "      <td>37</td>\n",
       "    </tr>\n",
       "    <tr>\n",
       "      <th rowspan=\"2\" valign=\"top\">ok</th>\n",
       "      <th>Android</th>\n",
       "      <td>1430</td>\n",
       "      <td>1430</td>\n",
       "    </tr>\n",
       "    <tr>\n",
       "      <th>Ios</th>\n",
       "      <td>856</td>\n",
       "      <td>856</td>\n",
       "    </tr>\n",
       "    <tr>\n",
       "      <th rowspan=\"9\" valign=\"top\">Tablet</th>\n",
       "      <th rowspan=\"4\" valign=\"top\">deleted</th>\n",
       "      <th>Android</th>\n",
       "      <td>1235</td>\n",
       "      <td>1235</td>\n",
       "    </tr>\n",
       "    <tr>\n",
       "      <th>Ios</th>\n",
       "      <td>1568</td>\n",
       "      <td>1568</td>\n",
       "    </tr>\n",
       "    <tr>\n",
       "      <th>Mac</th>\n",
       "      <td>1</td>\n",
       "      <td>1</td>\n",
       "    </tr>\n",
       "    <tr>\n",
       "      <th>Windows</th>\n",
       "      <td>15</td>\n",
       "      <td>15</td>\n",
       "    </tr>\n",
       "    <tr>\n",
       "      <th rowspan=\"2\" valign=\"top\">missing</th>\n",
       "      <th>Android</th>\n",
       "      <td>10</td>\n",
       "      <td>10</td>\n",
       "    </tr>\n",
       "    <tr>\n",
       "      <th>Ios</th>\n",
       "      <td>14</td>\n",
       "      <td>14</td>\n",
       "    </tr>\n",
       "    <tr>\n",
       "      <th rowspan=\"3\" valign=\"top\">ok</th>\n",
       "      <th>Android</th>\n",
       "      <td>1426</td>\n",
       "      <td>1426</td>\n",
       "    </tr>\n",
       "    <tr>\n",
       "      <th>Ios</th>\n",
       "      <td>1139</td>\n",
       "      <td>1139</td>\n",
       "    </tr>\n",
       "    <tr>\n",
       "      <th>Windows</th>\n",
       "      <td>1</td>\n",
       "      <td>1</td>\n",
       "    </tr>\n",
       "  </tbody>\n",
       "</table>\n",
       "</div>"
      ],
      "text/plain": [
       "                               user_id     id\n",
       "type    state      os                        \n",
       "Desktop deleted    Centos            1      1\n",
       "                   Debian            1      1\n",
       "                   Mac             611    611\n",
       "                   Ubuntu            6      6\n",
       "                   Windows        1604   1604\n",
       "        missing    Mac               4      4\n",
       "                   Windows          25     25\n",
       "        ok         Mac             931    931\n",
       "                   Ubuntu            3      3\n",
       "                   Windows        1028   1028\n",
       "        unverified Windows           1      1\n",
       "Laptop  deleted    Android          82     82\n",
       "                   Arch              6      6\n",
       "                   Chrome            2      2\n",
       "                   Debian            1      1\n",
       "                   Linux             2      2\n",
       "                   Mac            3278   3278\n",
       "                   Mint             11     11\n",
       "                   Neon              3      3\n",
       "                   Ubuntu          158    158\n",
       "                   Windows       11006  11006\n",
       "        missing    Android           2      2\n",
       "                   Mac              70     70\n",
       "                   Windows         419    419\n",
       "        ok         Android          95     95\n",
       "                   Arch              3      3\n",
       "                   Centos            2      2\n",
       "                   Chrome            1      1\n",
       "                   Debian            4      4\n",
       "                   Elementary        1      1\n",
       "                   Fedora            1      1\n",
       "                   Kali              1      1\n",
       "                   Mac            3353   3353\n",
       "                   Mint              4      4\n",
       "                   Neon              1      1\n",
       "                   Solus             1      1\n",
       "                   Ubuntu          157    157\n",
       "                   Windows       21276  21276\n",
       "        unverified Mac               1      1\n",
       "Phone   deleted    Android        2951   2951\n",
       "                   Ios            1319   1319\n",
       "                   Linux             1      1\n",
       "        missing    Android          81     81\n",
       "                   Ios              37     37\n",
       "        ok         Android        1430   1430\n",
       "                   Ios             856    856\n",
       "Tablet  deleted    Android        1235   1235\n",
       "                   Ios            1568   1568\n",
       "                   Mac               1      1\n",
       "                   Windows          15     15\n",
       "        missing    Android          10     10\n",
       "                   Ios              14     14\n",
       "        ok         Android        1426   1426\n",
       "                   Ios            1139   1139\n",
       "                   Windows           1      1"
      ]
     },
     "execution_count": 24,
     "metadata": {},
     "output_type": "execute_result"
    }
   ],
   "source": [
    "# categories by size\n",
    "print(f\" type has {len(dvcs.type.unique())} categories\\n os has {len(dvcs.os.unique())} \\\n",
    "categories\\n state has {len(dvcs.state.unique())} categories\")\n",
    "\n",
    "# basic data distribution going from less to more categories\n",
    "dvcs.groupby([\"type\", \"state\", \"os\"])[[\"user_id\", \"id\"]].count()"
   ]
  },
  {
   "cell_type": "markdown",
   "metadata": {},
   "source": [
    "From the *groupby* method I was expecting to find a different count between **id** and **user_id**, mostly having user_id < id, indicating that one user can have more than one device. Instead, the result shows that each user has one and only one device associated.\n",
    "\n",
    "Having this into consideration, I'll will *groupby* again, just taking **id** into consideration."
   ]
  },
  {
   "cell_type": "code",
   "execution_count": 25,
   "metadata": {},
   "outputs": [
    {
     "data": {
      "text/html": [
       "<div>\n",
       "<style scoped>\n",
       "    .dataframe tbody tr th:only-of-type {\n",
       "        vertical-align: middle;\n",
       "    }\n",
       "\n",
       "    .dataframe tbody tr th {\n",
       "        vertical-align: top;\n",
       "    }\n",
       "\n",
       "    .dataframe thead th {\n",
       "        text-align: right;\n",
       "    }\n",
       "</style>\n",
       "<table border=\"1\" class=\"dataframe\">\n",
       "  <thead>\n",
       "    <tr style=\"text-align: right;\">\n",
       "      <th></th>\n",
       "      <th>type</th>\n",
       "      <th>state</th>\n",
       "      <th>os</th>\n",
       "      <th>total</th>\n",
       "    </tr>\n",
       "  </thead>\n",
       "  <tbody>\n",
       "    <tr>\n",
       "      <th>37</th>\n",
       "      <td>Laptop</td>\n",
       "      <td>ok</td>\n",
       "      <td>Windows</td>\n",
       "      <td>21276</td>\n",
       "    </tr>\n",
       "    <tr>\n",
       "      <th>20</th>\n",
       "      <td>Laptop</td>\n",
       "      <td>deleted</td>\n",
       "      <td>Windows</td>\n",
       "      <td>11006</td>\n",
       "    </tr>\n",
       "    <tr>\n",
       "      <th>32</th>\n",
       "      <td>Laptop</td>\n",
       "      <td>ok</td>\n",
       "      <td>Mac</td>\n",
       "      <td>3353</td>\n",
       "    </tr>\n",
       "    <tr>\n",
       "      <th>16</th>\n",
       "      <td>Laptop</td>\n",
       "      <td>deleted</td>\n",
       "      <td>Mac</td>\n",
       "      <td>3278</td>\n",
       "    </tr>\n",
       "    <tr>\n",
       "      <th>39</th>\n",
       "      <td>Phone</td>\n",
       "      <td>deleted</td>\n",
       "      <td>Android</td>\n",
       "      <td>2951</td>\n",
       "    </tr>\n",
       "  </tbody>\n",
       "</table>\n",
       "</div>"
      ],
      "text/plain": [
       "      type    state       os  total\n",
       "37  Laptop       ok  Windows  21276\n",
       "20  Laptop  deleted  Windows  11006\n",
       "32  Laptop       ok      Mac   3353\n",
       "16  Laptop  deleted      Mac   3278\n",
       "39   Phone  deleted  Android   2951"
      ]
     },
     "execution_count": 25,
     "metadata": {},
     "output_type": "execute_result"
    }
   ],
   "source": [
    "dvcs_gb = dvcs.groupby([\"type\", \"state\", \"os\"])[\"id\"].count()\n",
    "dvcs_gb = pd.DataFrame(dvcs_gb).reset_index()\n",
    "dvcs_gb.rename(columns={\"id\":\"total\"}, inplace=True)\n",
    "dvcs_gb.sort_values(by=\"total\", axis=\"rows\", ascending=False, inplace=True)\n",
    "\n",
    "dvcs_gb.head()"
   ]
  },
  {
   "cell_type": "markdown",
   "metadata": {},
   "source": [
    "By converting **os** column into category type, additional rows were created because all categories should have a value, even if it is a zero (this is true for all categories, but os is relevant because as seen earlier it has 16 possible values). In order to deal with this issue I'll create an additional column to summarise less frequent OS. I'll follow an 80-20 rule for each type: OS on the 80% most frequent will be a category on its own while the OS on the 20% will go to a common bin."
   ]
  },
  {
   "cell_type": "code",
   "execution_count": 26,
   "metadata": {},
   "outputs": [
    {
     "name": "stdout",
     "output_type": "stream",
     "text": [
      "      type    state       os  total  values_norm  cumulative\n",
      "4  Desktop  deleted  Windows   1604     0.380546    0.380546\n",
      "9  Desktop       ok  Windows   1028     0.243891    0.624437\n",
      "7  Desktop       ok      Mac    931     0.220878    0.845314\n",
      "2  Desktop  deleted      Mac    611     0.144958    0.990273\n",
      "6  Desktop  missing  Windows     25     0.005931    0.996204\n",
      "\n",
      "      type    state       os  total  values_norm  cumulative\n",
      "37  Laptop       ok  Windows  21276     0.532686    0.532686\n",
      "20  Laptop  deleted  Windows  11006     0.275556    0.808242\n",
      "32  Laptop       ok      Mac   3353     0.083949    0.892191\n",
      "16  Laptop  deleted      Mac   3278     0.082071    0.974262\n",
      "23  Laptop  missing  Windows    419     0.010490    0.984753\n",
      "\n",
      "     type    state       os  total  values_norm  cumulative\n",
      "39  Phone  deleted  Android   2951     0.442097    0.442097\n",
      "44  Phone       ok  Android   1430     0.214232    0.656330\n",
      "40  Phone  deleted      Ios   1319     0.197603    0.853933\n",
      "45  Phone       ok      Ios    856     0.128240    0.982172\n",
      "42  Phone  missing  Android     81     0.012135    0.994307\n",
      "\n",
      "      type    state       os  total  values_norm  cumulative\n",
      "47  Tablet  deleted      Ios   1568     0.289887    0.289887\n",
      "52  Tablet       ok  Android   1426     0.263635    0.553522\n",
      "46  Tablet  deleted  Android   1235     0.228323    0.781845\n",
      "53  Tablet       ok      Ios   1139     0.210575    0.992420\n",
      "49  Tablet  deleted  Windows     15     0.002773    0.995193\n",
      "['Windows' 'Mac']\n",
      "\n",
      "['Windows' 'Mac' 'Ubuntu']\n",
      "\n",
      "['Android' 'Ios']\n",
      "\n",
      "['Ios' 'Android']\n"
     ]
    },
    {
     "name": "stderr",
     "output_type": "stream",
     "text": [
      "C:\\Users\\pablo\\Anaconda3\\lib\\site-packages\\ipykernel_launcher.py:9: SettingWithCopyWarning: \n",
      "A value is trying to be set on a copy of a slice from a DataFrame.\n",
      "Try using .loc[row_indexer,col_indexer] = value instead\n",
      "\n",
      "See the caveats in the documentation: https://pandas.pydata.org/pandas-docs/stable/user_guide/indexing.html#returning-a-view-versus-a-copy\n",
      "  if __name__ == '__main__':\n",
      "C:\\Users\\pablo\\Anaconda3\\lib\\site-packages\\ipykernel_launcher.py:10: SettingWithCopyWarning: \n",
      "A value is trying to be set on a copy of a slice from a DataFrame.\n",
      "Try using .loc[row_indexer,col_indexer] = value instead\n",
      "\n",
      "See the caveats in the documentation: https://pandas.pydata.org/pandas-docs/stable/user_guide/indexing.html#returning-a-view-versus-a-copy\n",
      "  # Remove the CWD from sys.path while we load stuff.\n"
     ]
    }
   ],
   "source": [
    "# slicing according to type\n",
    "dsk = dvcs_gb.loc[dvcs_gb[\"type\"] == \"Desktop\"]\n",
    "ltp = dvcs_gb.loc[dvcs_gb[\"type\"] == \"Laptop\"]\n",
    "phn = dvcs_gb.loc[dvcs_gb[\"type\"] == \"Phone\"]\n",
    "tbt = dvcs_gb.loc[dvcs_gb[\"type\"] == \"Tablet\"]\n",
    "\n",
    "df_lst = [dsk, ltp, phn, tbt]\n",
    "for df in df_lst:\n",
    "    df[\"values_norm\"] = df.total / df.total.sum()\n",
    "    df[\"cumulative\"] = df.values_norm.cumsum()\n",
    "    \n",
    "print(f\"{dsk.head()}\\n\\n{ltp.head()}\\n\\n{phn.head()}\\n\\n{tbt.head()}\")\n",
    "\n",
    "# setting up the limit at 0.995 instead of 0.8 because I want 3 \n",
    "mfo_dsk, mfo_ltp, mfo_phn, mfo_tbt = \\\n",
    "    [df[\"os\"][df[\"cumulative\"] <= 0.995].unique() for df in df_lst]\n",
    "\n",
    "print(f\"{mfo_dsk}\\n\\n{mfo_ltp}\\n\\n{mfo_phn}\\n\\n{mfo_tbt}\")"
   ]
  },
  {
   "cell_type": "code",
   "execution_count": 27,
   "metadata": {},
   "outputs": [
    {
     "name": "stdout",
     "output_type": "stream",
     "text": [
      "DESKTOP most frequent OS dict is {'Windows': 'Windows', 'Mac': 'Mac'}\n",
      "LAPTOP most frequent OS dict is {'Windows': 'Windows', 'Mac': 'Mac', 'Ubuntu': 'Ubuntu'}\n",
      "PHONE most frequent OS dict is {'Android': 'Android', 'Ios': 'Ios'}\n",
      "TABLET most frequent OS dict is {'Ios': 'Ios', 'Android': 'Android'}\n"
     ]
    }
   ],
   "source": [
    "# Creating most frequent OS dictionaries\n",
    "mfo_lst = [mfo_dsk, mfo_ltp, mfo_phn, mfo_tbt]\n",
    "mfo_dsk_dict = {}; mfo_ltp_dict = {}; mfo_phn_dict = {}; mfo_tbt_dict = {}\n",
    "mfo_dct = [mfo_dsk_dict, mfo_ltp_dict, mfo_phn_dict, mfo_tbt_dict]\n",
    "\n",
    "for i in range(len(mfo_lst)):\n",
    "    for j in range(len(mfo_lst[i])):\n",
    "        mfo_dct[i][mfo_lst[i][j]] = mfo_lst[i][j]\n",
    "\n",
    "print(f\"DESKTOP most frequent OS dict is {mfo_dsk_dict}\\n\\\n",
    "LAPTOP most frequent OS dict is {mfo_ltp_dict}\\n\\\n",
    "PHONE most frequent OS dict is {mfo_phn_dict}\\n\\\n",
    "TABLET most frequent OS dict is {mfo_tbt_dict}\")\n"
   ]
  },
  {
   "cell_type": "code",
   "execution_count": 28,
   "metadata": {},
   "outputs": [
    {
     "name": "stdout",
     "output_type": "stream",
     "text": [
      "      type    state       os  total  values_norm  cumulative     os_1\n",
      "4  Desktop  deleted  Windows   1604     0.380546    0.380546  Windows\n",
      "9  Desktop       ok  Windows   1028     0.243891    0.624437  Windows\n",
      "7  Desktop       ok      Mac    931     0.220878    0.845314      Mac\n",
      "2  Desktop  deleted      Mac    611     0.144958    0.990273      Mac\n",
      "6  Desktop  missing  Windows     25     0.005931    0.996204  Windows\n",
      "3  Desktop  deleted   Ubuntu      6     0.001423    0.997628    Other\n",
      "5  Desktop  missing      Mac      4     0.000949    0.998577      Mac\n",
      "8  Desktop       ok   Ubuntu      3     0.000712    0.999288    Other\n",
      "0  Desktop  deleted   Centos      1     0.000237    0.999526    Other\n",
      "1  Desktop  deleted   Debian      1     0.000237    0.999763    Other\n",
      "\n",
      "      type    state       os  total  values_norm  cumulative     os_1\n",
      "37  Laptop       ok  Windows  21276     0.532686    0.532686  Windows\n",
      "20  Laptop  deleted  Windows  11006     0.275556    0.808242  Windows\n",
      "32  Laptop       ok      Mac   3353     0.083949    0.892191      Mac\n",
      "16  Laptop  deleted      Mac   3278     0.082071    0.974262      Mac\n",
      "23  Laptop  missing  Windows    419     0.010490    0.984753  Windows\n",
      "19  Laptop  deleted   Ubuntu    158     0.003956    0.988708   Ubuntu\n",
      "36  Laptop       ok   Ubuntu    157     0.003931    0.992639   Ubuntu\n",
      "24  Laptop       ok  Android     95     0.002379    0.995018    Other\n",
      "11  Laptop  deleted  Android     82     0.002053    0.997071    Other\n",
      "22  Laptop  missing      Mac     70     0.001753    0.998823      Mac\n",
      "\n",
      "     type    state       os  total  values_norm  cumulative     os_1\n",
      "39  Phone  deleted  Android   2951     0.442097    0.442097  Android\n",
      "44  Phone       ok  Android   1430     0.214232    0.656330  Android\n",
      "40  Phone  deleted      Ios   1319     0.197603    0.853933      Ios\n",
      "45  Phone       ok      Ios    856     0.128240    0.982172      Ios\n",
      "42  Phone  missing  Android     81     0.012135    0.994307  Android\n",
      "43  Phone  missing      Ios     37     0.005543    0.999850      Ios\n",
      "41  Phone  deleted    Linux      1     0.000150    1.000000    Other\n",
      "\n",
      "      type    state       os  total  values_norm  cumulative     os_1\n",
      "47  Tablet  deleted      Ios   1568     0.289887    0.289887      Ios\n",
      "52  Tablet       ok  Android   1426     0.263635    0.553522  Android\n",
      "46  Tablet  deleted  Android   1235     0.228323    0.781845  Android\n",
      "53  Tablet       ok      Ios   1139     0.210575    0.992420      Ios\n",
      "49  Tablet  deleted  Windows     15     0.002773    0.995193    Other\n",
      "51  Tablet  missing      Ios     14     0.002588    0.997781      Ios\n",
      "50  Tablet  missing  Android     10     0.001849    0.999630  Android\n",
      "48  Tablet  deleted      Mac      1     0.000185    0.999815    Other\n",
      "54  Tablet       ok  Windows      1     0.000185    1.000000    Other\n"
     ]
    },
    {
     "name": "stderr",
     "output_type": "stream",
     "text": [
      "C:\\Users\\pablo\\Anaconda3\\lib\\site-packages\\ipykernel_launcher.py:3: SettingWithCopyWarning: \n",
      "A value is trying to be set on a copy of a slice from a DataFrame.\n",
      "Try using .loc[row_indexer,col_indexer] = value instead\n",
      "\n",
      "See the caveats in the documentation: https://pandas.pydata.org/pandas-docs/stable/user_guide/indexing.html#returning-a-view-versus-a-copy\n",
      "  This is separate from the ipykernel package so we can avoid doing imports until\n",
      "C:\\Users\\pablo\\Anaconda3\\lib\\site-packages\\ipykernel_launcher.py:4: SettingWithCopyWarning: \n",
      "A value is trying to be set on a copy of a slice from a DataFrame.\n",
      "Try using .loc[row_indexer,col_indexer] = value instead\n",
      "\n",
      "See the caveats in the documentation: https://pandas.pydata.org/pandas-docs/stable/user_guide/indexing.html#returning-a-view-versus-a-copy\n",
      "  after removing the cwd from sys.path.\n",
      "C:\\Users\\pablo\\Anaconda3\\lib\\site-packages\\ipykernel_launcher.py:5: SettingWithCopyWarning: \n",
      "A value is trying to be set on a copy of a slice from a DataFrame.\n",
      "Try using .loc[row_indexer,col_indexer] = value instead\n",
      "\n",
      "See the caveats in the documentation: https://pandas.pydata.org/pandas-docs/stable/user_guide/indexing.html#returning-a-view-versus-a-copy\n",
      "  \"\"\"\n"
     ]
    }
   ],
   "source": [
    "# mapping dict values into DataFrames\n",
    "for i in range(len(df_lst)):\n",
    "    df_lst[i][\"os_1\"] = df_lst[i].os.map(mfo_dct[i])\n",
    "    df_lst[i][\"os_1\"] = df_lst[i].os_1.fillna(\"Other\")\n",
    "    df_lst[i][\"os_1\"] = df_lst[i].os_1.astype(\"category\")\n",
    "\n",
    "print(f\"{dsk.head()}\\n\\n{ltp.head()}\\n\\n{phn.head()}\\n\\n{tbt.head()}\")"
   ]
  },
  {
   "cell_type": "code",
   "execution_count": 29,
   "metadata": {},
   "outputs": [],
   "source": [
    "dsk = pd.DataFrame(dsk.groupby([\"state\", \"os_1\"])[\"total\"].sum())\n",
    "dsk = dsk.fillna(0).reset_index()\n",
    "dsk_labels = dsk.state.unique().tolist()\n",
    "dsk = dsk.pivot(index=[\"os_1\"], columns=[\"state\"], values=[\"total\"])\n",
    "dsk = np.array(dsk.reset_index())\n",
    "\n",
    "ltp = pd.DataFrame(ltp.groupby([\"state\", \"os_1\"])[\"total\"].sum())\n",
    "ltp = ltp.fillna(0).reset_index()\n",
    "ltp_labels = ltp.state.unique().tolist()\n",
    "ltp = ltp.pivot(index=[\"os_1\"], columns=[\"state\"], values=[\"total\"])\n",
    "ltp = np.array(ltp.reset_index())\n",
    "\n",
    "phn = pd.DataFrame(phn.groupby([\"state\", \"os_1\"])[\"total\"].sum())\n",
    "phn = phn.fillna(0).reset_index()\n",
    "phn_labels = phn.state.unique().tolist()\n",
    "phn = phn.pivot(index=[\"os_1\"], columns=[\"state\"], values=[\"total\"])\n",
    "phn = np.array(phn.reset_index())\n",
    "\n",
    "tbt = pd.DataFrame(tbt.groupby([\"state\", \"os_1\"])[\"total\"].sum())\n",
    "tbt = tbt.fillna(0).reset_index()\n",
    "tbt_labels = tbt.state.unique().tolist()\n",
    "tbt = tbt.pivot(index=[\"os_1\"], columns=[\"state\"], values=[\"total\"])\n",
    "tbt = np.array(tbt.reset_index())"
   ]
  },
  {
   "cell_type": "markdown",
   "metadata": {},
   "source": [
    "### DVCS TABLE VDA"
   ]
  },
  {
   "cell_type": "markdown",
   "metadata": {},
   "source": [
    "#### DVCS TABLE BARPLOTS"
   ]
  },
  {
   "cell_type": "code",
   "execution_count": 30,
   "metadata": {},
   "outputs": [
    {
     "data": {
      "image/png": "[encoded data removed]",
      "text/plain": [
       "<Figure size 2160x1440 with 4 Axes>"
      ]
     },
     "metadata": {},
     "output_type": "display_data"
    }
   ],
   "source": [
    "# Plot basic config\n",
    "fig, axs = plt.subplots(2, 2, figsize=(27,18))\n",
    "width = 0.25\n",
    "\n",
    "# DESKTOP BARPLOT\n",
    "x = np.arange(len(dsk_labels))\n",
    "for i in range(dsk.shape[0]):\n",
    "    axs[0, 0].bar(x + (width * i), height=dsk[i, 1:], width=width)\n",
    "\n",
    "axs[0, 0].set_ylabel('Devices')\n",
    "axs[0, 0].set_title('DESKTOP DEVICES: Quantity by STATE and OS')\n",
    "axs[0, 0].set_xticks(x)\n",
    "axs[0, 0].tick_params(axis='x', labelrotation=-90)\n",
    "axs[0, 0].set_xticklabels(dsk_labels)\n",
    "axs[0, 0].legend(dsk[:, 0])\n",
    "\n",
    "# LAPTOP BARPLOT\n",
    "x = np.arange(len(ltp_labels))\n",
    "for i in range(ltp.shape[0]):\n",
    "    axs[0, 1].bar(x + (width * i), height=ltp[i, 1:], width=width)\n",
    "\n",
    "axs[0, 1].set_ylabel('Devices')\n",
    "axs[0, 1].set_title('LAPTOP DEVICES: Quantity by STATE and OS')\n",
    "axs[0, 1].set_xticks(x)\n",
    "axs[0, 1].tick_params(axis='x', labelrotation=-90)\n",
    "axs[0, 1].set_xticklabels(ltp_labels)\n",
    "axs[0, 1].legend(ltp[:, 0])\n",
    "\n",
    "# PHONE BARPLOT\n",
    "x = np.arange(len(phn_labels))\n",
    "for i in range(phn.shape[0]):\n",
    "    axs[1, 0].bar(x + (width * i), height=phn[i, 1:], width=width)\n",
    "\n",
    "axs[1, 0].set_ylabel('Devices')\n",
    "axs[1, 0].set_title('PHONE DEVICES: Quantity by STATE and OS')\n",
    "axs[1, 0].set_xticks(x)\n",
    "axs[1, 0].tick_params(axis='x', labelrotation=-90)\n",
    "axs[1, 0].set_xticklabels(phn_labels)\n",
    "axs[1, 0].legend(phn[:, 0])\n",
    "\n",
    "# TABLET BARPLOT\n",
    "x = np.arange(len(tbt_labels))\n",
    "for i in range(tbt.shape[0]):\n",
    "    axs[1, 1].bar(x + (width * i), height=tbt[i, 1:], width=width)\n",
    "\n",
    "axs[1, 1].set_ylabel('Devices')\n",
    "axs[1, 1].set_title('TABLET DEVICES: Quantity by STATE and OS')\n",
    "axs[1, 1].set_xticks(x)\n",
    "axs[1, 1].tick_params(axis='x', labelrotation=-90)\n",
    "axs[1, 1].set_xticklabels(tbt_labels)\n",
    "axs[1, 1].legend(tbt[:, 0])\n",
    "\n",
    "# saving to file and showing barplots\n",
    "plt.savefig(f\"{graphs_dir}/Devices_barplots.png\", bbox_inches = 'tight')\n",
    "plt.show()"
   ]
  },
  {
   "cell_type": "markdown",
   "metadata": {},
   "source": [
    "## EXPLORATORY/VISUAL DATA ANALYSIS: USRS TABLE"
   ]
  },
  {
   "cell_type": "markdown",
   "metadata": {},
   "source": [
    "### TL;DR USRS TABLE EDA/VDA\n",
    "\n",
    "Summary:\n",
    "+ USRS tables has 108 missing values at country. Filled in with \"Unknown\".\n",
    "+ USRS had some country names in a format not according to international notation (ie: México instead of Mexico, or Estados Unidos instead of United States of America). This names were corrected in order to use pycountry-convert library."
   ]
  },
  {
   "cell_type": "code",
   "execution_count": 31,
   "metadata": {},
   "outputs": [
    {
     "name": "stdout",
     "output_type": "stream",
     "text": [
      "<class 'pandas.core.frame.DataFrame'>\n",
      "RangeIndex: 2828 entries, 0 to 2827\n",
      "Data columns (total 5 columns):\n",
      " #   Column        Non-Null Count  Dtype         \n",
      "---  ------        --------------  -----         \n",
      " 0   id            2828 non-null   object        \n",
      " 1   created_at    2828 non-null   datetime64[ns]\n",
      " 2   country_name  2576 non-null   object        \n",
      " 3   state         2828 non-null   object        \n",
      " 4   account_id    2828 non-null   object        \n",
      "dtypes: datetime64[ns](1), object(4)\n",
      "memory usage: 110.6+ KB\n"
     ]
    }
   ],
   "source": [
    "usrs.info()"
   ]
  },
  {
   "cell_type": "markdown",
   "metadata": {},
   "source": [
    "**country_name** column has 252 missing values which is almost 10% of the total number of rows. Missing countries will be filled with \"Unknown\" in order to not lose that many rows of data."
   ]
  },
  {
   "cell_type": "code",
   "execution_count": 32,
   "metadata": {},
   "outputs": [],
   "source": [
    "# Filling NaNs with Antarctica for avoiding either dropping the values\n",
    "# or having issues with plotly\n",
    "usrs.country_name.fillna(\"Antarctica\", inplace=True)\n",
    "usrs.country_name.replace([\"Anonymous Proxy\"], \"Antarctica\", inplace=True)\n",
    "\n",
    "\n",
    "# Countries to ISO3 format\n",
    "usrs.country_name.replace([\"Brasil\"], \"Brazil\", inplace=True)\n",
    "usrs.country_name.replace([\"Estados Unidos\"], \"United States\", inplace=True)\n",
    "usrs.country_name.replace([\"México\"], \"Mexico\", inplace=True)\n",
    "usrs.country_name.replace([\"Cote d'Ivoire\"], \"Ivory Coast\", inplace=True)\n",
    "usrs.country_name.replace([\"Russian Federation\"], \"Russia\", inplace=True)\n",
    "usrs.country_name.replace([\"Korea, Republic of\"], \"South Korea\", inplace=True)\n",
    "usrs.country_name.replace([\"Viet Nam\"], \"Vietnam\", inplace=True)\n",
    "usrs.country_name.replace([\"Korea, Republic of\"], \"South Korea\", inplace=True)\n",
    "usrs.country_name.replace([\"Virgin Islands, British\"], \"British Virgin Islands\",\n",
    "                          inplace=True)\n",
    "usrs.country_name.replace([\"Moldova, Republic of\"], \"Moldova\",inplace=True)\n",
    "usrs.country_name.replace([\"Tanzania, United Republic of\"], \"Tanzania\", inplace=True)\n",
    "\n",
    "# Changed to Brazil for geographical closeness\n",
    "usrs.country_name.replace([\"Netherlands Antilles\"], \"Brazil\", inplace=True)\n"
   ]
  },
  {
   "cell_type": "code",
   "execution_count": 33,
   "metadata": {},
   "outputs": [
    {
     "name": "stdout",
     "output_type": "stream",
     "text": [
      "<class 'pandas.core.frame.DataFrame'>\n",
      "RangeIndex: 2828 entries, 0 to 2827\n",
      "Data columns (total 7 columns):\n",
      " #   Column        Non-Null Count  Dtype          \n",
      "---  ------        --------------  -----          \n",
      " 0   id            2828 non-null   object         \n",
      " 1   created_at    2828 non-null   datetime64[ns] \n",
      " 2   country_name  2828 non-null   object         \n",
      " 3   state         2828 non-null   object         \n",
      " 4   account_id    2828 non-null   object         \n",
      " 5   current_date  2828 non-null   datetime64[ns] \n",
      " 6   duration      2828 non-null   timedelta64[ns]\n",
      "dtypes: datetime64[ns](2), object(4), timedelta64[ns](1)\n",
      "memory usage: 154.8+ KB\n",
      "None\n",
      "\n",
      "           id          created_at   country_name    state  account_id  \\\n",
      "0  f76d3628cb 2009-09-10 20:34:10         Norway   active  c766847b75   \n",
      "1  ecf04f4dc8 2009-09-17 15:53:46  United States   active  fadb0700b8   \n",
      "2  2f77d13af9 2009-09-21 08:20:44  United States   active  0628aa0174   \n",
      "3  46cfd7f501 2009-09-30 11:58:36         Canada  deleted  29d41a7e1a   \n",
      "4  b7a0259dac 2009-10-09 23:31:44     Antarctica   active  3828d216f7   \n",
      "\n",
      "                current_date                  duration  \n",
      "0 2021-02-09 12:56:29.126524 4169 days 16:22:19.126524  \n",
      "1 2021-02-09 12:56:29.126524 4162 days 21:02:43.126524  \n",
      "2 2021-02-09 12:56:29.126524 4159 days 04:35:45.126524  \n",
      "3 2021-02-09 12:56:29.126524 4150 days 00:57:53.126524  \n",
      "4 2021-02-09 12:56:29.126524 4140 days 13:24:45.126524  \n"
     ]
    }
   ],
   "source": [
    "# introducing two more columns related to date\n",
    "usrs[\"current_date\"] = pd.to_datetime(\"today\")\n",
    "usrs[\"duration\"] = usrs.current_date - usrs.created_at\n",
    "\n",
    "print(f\"{usrs.info()}\\n\\n{usrs.head(5)}\")"
   ]
  },
  {
   "cell_type": "code",
   "execution_count": 34,
   "metadata": {},
   "outputs": [],
   "source": [
    "states_lst = usrs.state.unique().tolist()\n",
    "\n",
    "# subsetting DF for different approaches according to state\n",
    "states_df = []\n",
    "for stt in states_lst:\n",
    "    stt = usrs.loc[usrs[\"state\"] == stt]\n",
    "    states_df.append(stt)"
   ]
  },
  {
   "cell_type": "code",
   "execution_count": 35,
   "metadata": {},
   "outputs": [],
   "source": [
    "# subsetting in order to barplot\n",
    "active = states_df[0]\n",
    "deleted = states_df[1]"
   ]
  },
  {
   "cell_type": "code",
   "execution_count": 36,
   "metadata": {},
   "outputs": [],
   "source": [
    "# active users processing for visualization\n",
    "active = pd.DataFrame(active.groupby([\"country_name\"])[\"id\"].count())\n",
    "active.rename(columns={\"id\":\"users\"}, inplace=True)\n",
    "active = active.reset_index()\n",
    "active = active.sort_values(by=\"users\", ascending=False)\n",
    "active[\"norm_values\"] = active.users / active.users.sum()\n",
    "active[\"cum_sum\"] = active.norm_values.cumsum()\n"
   ]
  },
  {
   "cell_type": "code",
   "execution_count": 37,
   "metadata": {},
   "outputs": [],
   "source": [
    "# deleted users processing for visualization\n",
    "deleted = pd.DataFrame(deleted.groupby([\"country_name\"])[\"id\"].count())\n",
    "deleted.rename(columns={\"id\":\"users\"}, inplace=True)\n",
    "deleted = deleted.reset_index()\n",
    "deleted = deleted.sort_values(by=\"users\", ascending=False)\n",
    "deleted[\"norm_values\"] = deleted.users / deleted.users.sum()\n",
    "deleted[\"cum_sum\"] = deleted.norm_values.cumsum()"
   ]
  },
  {
   "cell_type": "markdown",
   "metadata": {},
   "source": [
    "### USRS TABLE VDA"
   ]
  },
  {
   "cell_type": "markdown",
   "metadata": {},
   "source": [
    "#### USRS TABLE MAPS"
   ]
  },
  {
   "cell_type": "code",
   "execution_count": 43,
   "metadata": {},
   "outputs": [
    {
     "data": {
      "application/vnd.plotly.v1+json": {
       "config": {
        "plotlyServerURL": "https://plot.ly"
       },
       "data": [
        {
         "autocolorscale": false,
         "colorbar": {
          "ticksuffix": "",
          "title": {
           "text": "Users"
          }
         },
         "colorscale": [
          [
           0,
           "rgb(255,255,217)"
          ],
          [
           0.125,
           "rgb(237,248,177)"
          ],
          [
           0.25,
           "rgb(199,233,180)"
          ],
          [
           0.375,
           "rgb(127,205,187)"
          ],
          [
           0.5,
           "rgb(65,182,196)"
          ],
          [
           0.625,
           "rgb(29,145,192)"
          ],
          [
           0.75,
           "rgb(34,94,168)"
          ],
          [
           0.875,
           "rgb(37,52,148)"
          ],
          [
           1,
           "rgb(8,29,88)"
          ]
         ],
         "locationmode": "country names",
         "locations": [
          "United States",
          "United Kingdom",
          "Antarctica",
          "Japan",
          "Malaysia",
          "Chile",
          "Mexico",
          "Canada",
          "Turkey",
          "Australia",
          "France",
          "Argentina",
          "Colombia",
          "Spain",
          "Netherlands",
          "Brazil",
          "Uganda",
          "Germany",
          "South Africa",
          "Italy",
          "Ireland",
          "Sweden",
          "India",
          "Peru",
          "Poland",
          "Belgium",
          "Philippines",
          "Ecuador",
          "New Zealand",
          "Zimbabwe",
          "Serbia",
          "Indonesia",
          "Norway",
          "Pakistan",
          "Switzerland",
          "Portugal",
          "Thailand",
          "Afghanistan",
          "Egypt",
          "Finland",
          "Estonia",
          "Czech Republic",
          "Dominican Republic",
          "United Arab Emirates",
          "Panama",
          "Russia",
          "Israel",
          "Venezuela",
          "Singapore",
          "Honduras",
          "Trinidad and Tobago",
          "Nigeria",
          "Saudi Arabia",
          "Ukraine",
          "Kenya",
          "Romania",
          "Botswana",
          "Croatia",
          "Costa Rica",
          "Jamaica",
          "Sri Lanka",
          "Denmark",
          "Nicaragua",
          "Slovenia",
          "Moldova",
          "Austria",
          "Tanzania",
          "Guatemala",
          "Greece",
          "Jersey",
          "Uruguay",
          "Cameroon",
          "Malawi",
          "Bulgaria",
          "South Korea",
          "Bahrain",
          "Cambodia",
          "Barbados",
          "Vietnam",
          "Belize",
          "Zambia",
          "Slovakia",
          "Bolivia",
          "British Virgin Islands",
          "Hong Kong",
          "Rwanda",
          "Puerto Rico",
          "Iraq",
          "Ghana",
          "Ivory Coast",
          "Kazakhstan",
          "Lesotho",
          "Angola",
          "Luxembourg",
          "Ethiopia",
          "Malta",
          "Mauritius",
          "Mayotte",
          "Mongolia",
          "Morocco",
          "Nepal",
          "El Salvador",
          "Oman",
          "Hungary",
          "Paraguay",
          "Cyprus",
          "Lithuania"
         ],
         "marker": {
          "line": {
           "color": "#000000",
           "width": 0.5
          }
         },
         "reversescale": false,
         "text": [
          "United States",
          "United Kingdom",
          "Antarctica",
          "Japan",
          "Malaysia",
          "Chile",
          "Mexico",
          "Canada",
          "Turkey",
          "Australia",
          "France",
          "Argentina",
          "Colombia",
          "Spain",
          "Netherlands",
          "Brazil",
          "Uganda",
          "Germany",
          "South Africa",
          "Italy",
          "Ireland",
          "Sweden",
          "India",
          "Peru",
          "Poland",
          "Belgium",
          "Philippines",
          "Ecuador",
          "New Zealand",
          "Zimbabwe",
          "Serbia",
          "Indonesia",
          "Norway",
          "Pakistan",
          "Switzerland",
          "Portugal",
          "Thailand",
          "Afghanistan",
          "Egypt",
          "Finland",
          "Estonia",
          "Czech Republic",
          "Dominican Republic",
          "United Arab Emirates",
          "Panama",
          "Russia",
          "Israel",
          "Venezuela",
          "Singapore",
          "Honduras",
          "Trinidad and Tobago",
          "Nigeria",
          "Saudi Arabia",
          "Ukraine",
          "Kenya",
          "Romania",
          "Botswana",
          "Croatia",
          "Costa Rica",
          "Jamaica",
          "Sri Lanka",
          "Denmark",
          "Nicaragua",
          "Slovenia",
          "Moldova",
          "Austria",
          "Tanzania",
          "Guatemala",
          "Greece",
          "Jersey",
          "Uruguay",
          "Cameroon",
          "Malawi",
          "Bulgaria",
          "South Korea",
          "Bahrain",
          "Cambodia",
          "Barbados",
          "Vietnam",
          "Belize",
          "Zambia",
          "Slovakia",
          "Bolivia",
          "British Virgin Islands",
          "Hong Kong",
          "Rwanda",
          "Puerto Rico",
          "Iraq",
          "Ghana",
          "Ivory Coast",
          "Kazakhstan",
          "Lesotho",
          "Angola",
          "Luxembourg",
          "Ethiopia",
          "Malta",
          "Mauritius",
          "Mayotte",
          "Mongolia",
          "Morocco",
          "Nepal",
          "El Salvador",
          "Oman",
          "Hungary",
          "Paraguay",
          "Cyprus",
          "Lithuania"
         ],
         "type": "choropleth",
         "z": [
          837,
          297,
          240,
          145,
          130,
          95,
          87,
          79,
          43,
          38,
          36,
          35,
          29,
          29,
          29,
          27,
          25,
          22,
          14,
          13,
          12,
          11,
          11,
          11,
          10,
          9,
          8,
          8,
          8,
          7,
          7,
          7,
          6,
          6,
          6,
          5,
          5,
          5,
          5,
          5,
          5,
          5,
          4,
          4,
          4,
          4,
          4,
          3,
          3,
          3,
          3,
          3,
          3,
          3,
          3,
          3,
          3,
          3,
          3,
          3,
          2,
          2,
          2,
          2,
          2,
          2,
          2,
          2,
          2,
          2,
          2,
          2,
          2,
          1,
          1,
          1,
          1,
          1,
          1,
          1,
          1,
          1,
          1,
          1,
          1,
          1,
          1,
          1,
          1,
          1,
          1,
          1,
          1,
          1,
          1,
          1,
          1,
          1,
          1,
          1,
          1,
          1,
          1,
          1,
          1,
          1,
          1
         ]
        }
       ],
       "layout": {
        "geo": {
         "coastlinecolor": "#dadada",
         "lakecolor": "#eaeaea",
         "oceancolor": "#eaeaea",
         "projection": {
          "type": "kavrayskiy7"
         },
         "resolution": 110,
         "scope": "world",
         "showcoastlines": false,
         "showcountries": true,
         "showocean": true
        },
        "showlegend": true,
        "template": {
         "data": {
          "bar": [
           {
            "error_x": {
             "color": "#2a3f5f"
            },
            "error_y": {
             "color": "#2a3f5f"
            },
            "marker": {
             "line": {
              "color": "#E5ECF6",
              "width": 0.5
             }
            },
            "type": "bar"
           }
          ],
          "barpolar": [
           {
            "marker": {
             "line": {
              "color": "#E5ECF6",
              "width": 0.5
             }
            },
            "type": "barpolar"
           }
          ],
          "carpet": [
           {
            "aaxis": {
             "endlinecolor": "#2a3f5f",
             "gridcolor": "white",
             "linecolor": "white",
             "minorgridcolor": "white",
             "startlinecolor": "#2a3f5f"
            },
            "baxis": {
             "endlinecolor": "#2a3f5f",
             "gridcolor": "white",
             "linecolor": "white",
             "minorgridcolor": "white",
             "startlinecolor": "#2a3f5f"
            },
            "type": "carpet"
           }
          ],
          "choropleth": [
           {
            "colorbar": {
             "outlinewidth": 0,
             "ticks": ""
            },
            "type": "choropleth"
           }
          ],
          "contour": [
           {
            "colorbar": {
             "outlinewidth": 0,
             "ticks": ""
            },
            "colorscale": [
             [
              0,
              "#0d0887"
             ],
             [
              0.1111111111111111,
              "#46039f"
             ],
             [
              0.2222222222222222,
              "#7201a8"
             ],
             [
              0.3333333333333333,
              "#9c179e"
             ],
             [
              0.4444444444444444,
              "#bd3786"
             ],
             [
              0.5555555555555556,
              "#d8576b"
             ],
             [
              0.6666666666666666,
              "#ed7953"
             ],
             [
              0.7777777777777778,
              "#fb9f3a"
             ],
             [
              0.8888888888888888,
              "#fdca26"
             ],
             [
              1,
              "#f0f921"
             ]
            ],
            "type": "contour"
           }
          ],
          "contourcarpet": [
           {
            "colorbar": {
             "outlinewidth": 0,
             "ticks": ""
            },
            "type": "contourcarpet"
           }
          ],
          "heatmap": [
           {
            "colorbar": {
             "outlinewidth": 0,
             "ticks": ""
            },
            "colorscale": [
             [
              0,
              "#0d0887"
             ],
             [
              0.1111111111111111,
              "#46039f"
             ],
             [
              0.2222222222222222,
              "#7201a8"
             ],
             [
              0.3333333333333333,
              "#9c179e"
             ],
             [
              0.4444444444444444,
              "#bd3786"
             ],
             [
              0.5555555555555556,
              "#d8576b"
             ],
             [
              0.6666666666666666,
              "#ed7953"
             ],
             [
              0.7777777777777778,
              "#fb9f3a"
             ],
             [
              0.8888888888888888,
              "#fdca26"
             ],
             [
              1,
              "#f0f921"
             ]
            ],
            "type": "heatmap"
           }
          ],
          "heatmapgl": [
           {
            "colorbar": {
             "outlinewidth": 0,
             "ticks": ""
            },
            "colorscale": [
             [
              0,
              "#0d0887"
             ],
             [
              0.1111111111111111,
              "#46039f"
             ],
             [
              0.2222222222222222,
              "#7201a8"
             ],
             [
              0.3333333333333333,
              "#9c179e"
             ],
             [
              0.4444444444444444,
              "#bd3786"
             ],
             [
              0.5555555555555556,
              "#d8576b"
             ],
             [
              0.6666666666666666,
              "#ed7953"
             ],
             [
              0.7777777777777778,
              "#fb9f3a"
             ],
             [
              0.8888888888888888,
              "#fdca26"
             ],
             [
              1,
              "#f0f921"
             ]
            ],
            "type": "heatmapgl"
           }
          ],
          "histogram": [
           {
            "marker": {
             "colorbar": {
              "outlinewidth": 0,
              "ticks": ""
             }
            },
            "type": "histogram"
           }
          ],
          "histogram2d": [
           {
            "colorbar": {
             "outlinewidth": 0,
             "ticks": ""
            },
            "colorscale": [
             [
              0,
              "#0d0887"
             ],
             [
              0.1111111111111111,
              "#46039f"
             ],
             [
              0.2222222222222222,
              "#7201a8"
             ],
             [
              0.3333333333333333,
              "#9c179e"
             ],
             [
              0.4444444444444444,
              "#bd3786"
             ],
             [
              0.5555555555555556,
              "#d8576b"
             ],
             [
              0.6666666666666666,
              "#ed7953"
             ],
             [
              0.7777777777777778,
              "#fb9f3a"
             ],
             [
              0.8888888888888888,
              "#fdca26"
             ],
             [
              1,
              "#f0f921"
             ]
            ],
            "type": "histogram2d"
           }
          ],
          "histogram2dcontour": [
           {
            "colorbar": {
             "outlinewidth": 0,
             "ticks": ""
            },
            "colorscale": [
             [
              0,
              "#0d0887"
             ],
             [
              0.1111111111111111,
              "#46039f"
             ],
             [
              0.2222222222222222,
              "#7201a8"
             ],
             [
              0.3333333333333333,
              "#9c179e"
             ],
             [
              0.4444444444444444,
              "#bd3786"
             ],
             [
              0.5555555555555556,
              "#d8576b"
             ],
             [
              0.6666666666666666,
              "#ed7953"
             ],
             [
              0.7777777777777778,
              "#fb9f3a"
             ],
             [
              0.8888888888888888,
              "#fdca26"
             ],
             [
              1,
              "#f0f921"
             ]
            ],
            "type": "histogram2dcontour"
           }
          ],
          "mesh3d": [
           {
            "colorbar": {
             "outlinewidth": 0,
             "ticks": ""
            },
            "type": "mesh3d"
           }
          ],
          "parcoords": [
           {
            "line": {
             "colorbar": {
              "outlinewidth": 0,
              "ticks": ""
             }
            },
            "type": "parcoords"
           }
          ],
          "pie": [
           {
            "automargin": true,
            "type": "pie"
           }
          ],
          "scatter": [
           {
            "marker": {
             "colorbar": {
              "outlinewidth": 0,
              "ticks": ""
             }
            },
            "type": "scatter"
           }
          ],
          "scatter3d": [
           {
            "line": {
             "colorbar": {
              "outlinewidth": 0,
              "ticks": ""
             }
            },
            "marker": {
             "colorbar": {
              "outlinewidth": 0,
              "ticks": ""
             }
            },
            "type": "scatter3d"
           }
          ],
          "scattercarpet": [
           {
            "marker": {
             "colorbar": {
              "outlinewidth": 0,
              "ticks": ""
             }
            },
            "type": "scattercarpet"
           }
          ],
          "scattergeo": [
           {
            "marker": {
             "colorbar": {
              "outlinewidth": 0,
              "ticks": ""
             }
            },
            "type": "scattergeo"
           }
          ],
          "scattergl": [
           {
            "marker": {
             "colorbar": {
              "outlinewidth": 0,
              "ticks": ""
             }
            },
            "type": "scattergl"
           }
          ],
          "scattermapbox": [
           {
            "marker": {
             "colorbar": {
              "outlinewidth": 0,
              "ticks": ""
             }
            },
            "type": "scattermapbox"
           }
          ],
          "scatterpolar": [
           {
            "marker": {
             "colorbar": {
              "outlinewidth": 0,
              "ticks": ""
             }
            },
            "type": "scatterpolar"
           }
          ],
          "scatterpolargl": [
           {
            "marker": {
             "colorbar": {
              "outlinewidth": 0,
              "ticks": ""
             }
            },
            "type": "scatterpolargl"
           }
          ],
          "scatterternary": [
           {
            "marker": {
             "colorbar": {
              "outlinewidth": 0,
              "ticks": ""
             }
            },
            "type": "scatterternary"
           }
          ],
          "surface": [
           {
            "colorbar": {
             "outlinewidth": 0,
             "ticks": ""
            },
            "colorscale": [
             [
              0,
              "#0d0887"
             ],
             [
              0.1111111111111111,
              "#46039f"
             ],
             [
              0.2222222222222222,
              "#7201a8"
             ],
             [
              0.3333333333333333,
              "#9c179e"
             ],
             [
              0.4444444444444444,
              "#bd3786"
             ],
             [
              0.5555555555555556,
              "#d8576b"
             ],
             [
              0.6666666666666666,
              "#ed7953"
             ],
             [
              0.7777777777777778,
              "#fb9f3a"
             ],
             [
              0.8888888888888888,
              "#fdca26"
             ],
             [
              1,
              "#f0f921"
             ]
            ],
            "type": "surface"
           }
          ],
          "table": [
           {
            "cells": {
             "fill": {
              "color": "#EBF0F8"
             },
             "line": {
              "color": "white"
             }
            },
            "header": {
             "fill": {
              "color": "#C8D4E3"
             },
             "line": {
              "color": "white"
             }
            },
            "type": "table"
           }
          ]
         },
         "layout": {
          "annotationdefaults": {
           "arrowcolor": "#2a3f5f",
           "arrowhead": 0,
           "arrowwidth": 1
          },
          "autotypenumbers": "strict",
          "coloraxis": {
           "colorbar": {
            "outlinewidth": 0,
            "ticks": ""
           }
          },
          "colorscale": {
           "diverging": [
            [
             0,
             "#8e0152"
            ],
            [
             0.1,
             "#c51b7d"
            ],
            [
             0.2,
             "#de77ae"
            ],
            [
             0.3,
             "#f1b6da"
            ],
            [
             0.4,
             "#fde0ef"
            ],
            [
             0.5,
             "#f7f7f7"
            ],
            [
             0.6,
             "#e6f5d0"
            ],
            [
             0.7,
             "#b8e186"
            ],
            [
             0.8,
             "#7fbc41"
            ],
            [
             0.9,
             "#4d9221"
            ],
            [
             1,
             "#276419"
            ]
           ],
           "sequential": [
            [
             0,
             "#0d0887"
            ],
            [
             0.1111111111111111,
             "#46039f"
            ],
            [
             0.2222222222222222,
             "#7201a8"
            ],
            [
             0.3333333333333333,
             "#9c179e"
            ],
            [
             0.4444444444444444,
             "#bd3786"
            ],
            [
             0.5555555555555556,
             "#d8576b"
            ],
            [
             0.6666666666666666,
             "#ed7953"
            ],
            [
             0.7777777777777778,
             "#fb9f3a"
            ],
            [
             0.8888888888888888,
             "#fdca26"
            ],
            [
             1,
             "#f0f921"
            ]
           ],
           "sequentialminus": [
            [
             0,
             "#0d0887"
            ],
            [
             0.1111111111111111,
             "#46039f"
            ],
            [
             0.2222222222222222,
             "#7201a8"
            ],
            [
             0.3333333333333333,
             "#9c179e"
            ],
            [
             0.4444444444444444,
             "#bd3786"
            ],
            [
             0.5555555555555556,
             "#d8576b"
            ],
            [
             0.6666666666666666,
             "#ed7953"
            ],
            [
             0.7777777777777778,
             "#fb9f3a"
            ],
            [
             0.8888888888888888,
             "#fdca26"
            ],
            [
             1,
             "#f0f921"
            ]
           ]
          },
          "colorway": [
           "#636efa",
           "#EF553B",
           "#00cc96",
           "#ab63fa",
           "#FFA15A",
           "#19d3f3",
           "#FF6692",
           "#B6E880",
           "#FF97FF",
           "#FECB52"
          ],
          "font": {
           "color": "#2a3f5f"
          },
          "geo": {
           "bgcolor": "white",
           "lakecolor": "white",
           "landcolor": "#E5ECF6",
           "showlakes": true,
           "showland": true,
           "subunitcolor": "white"
          },
          "hoverlabel": {
           "align": "left"
          },
          "hovermode": "closest",
          "mapbox": {
           "style": "light"
          },
          "paper_bgcolor": "white",
          "plot_bgcolor": "#E5ECF6",
          "polar": {
           "angularaxis": {
            "gridcolor": "white",
            "linecolor": "white",
            "ticks": ""
           },
           "bgcolor": "#E5ECF6",
           "radialaxis": {
            "gridcolor": "white",
            "linecolor": "white",
            "ticks": ""
           }
          },
          "scene": {
           "xaxis": {
            "backgroundcolor": "#E5ECF6",
            "gridcolor": "white",
            "gridwidth": 2,
            "linecolor": "white",
            "showbackground": true,
            "ticks": "",
            "zerolinecolor": "white"
           },
           "yaxis": {
            "backgroundcolor": "#E5ECF6",
            "gridcolor": "white",
            "gridwidth": 2,
            "linecolor": "white",
            "showbackground": true,
            "ticks": "",
            "zerolinecolor": "white"
           },
           "zaxis": {
            "backgroundcolor": "#E5ECF6",
            "gridcolor": "white",
            "gridwidth": 2,
            "linecolor": "white",
            "showbackground": true,
            "ticks": "",
            "zerolinecolor": "white"
           }
          },
          "shapedefaults": {
           "line": {
            "color": "#2a3f5f"
           }
          },
          "ternary": {
           "aaxis": {
            "gridcolor": "white",
            "linecolor": "white",
            "ticks": ""
           },
           "baxis": {
            "gridcolor": "white",
            "linecolor": "white",
            "ticks": ""
           },
           "bgcolor": "#E5ECF6",
           "caxis": {
            "gridcolor": "white",
            "linecolor": "white",
            "ticks": ""
           }
          },
          "title": {
           "x": 0.05
          },
          "xaxis": {
           "automargin": true,
           "gridcolor": "white",
           "linecolor": "white",
           "ticks": "",
           "title": {
            "standoff": 15
           },
           "zerolinecolor": "white",
           "zerolinewidth": 2
          },
          "yaxis": {
           "automargin": true,
           "gridcolor": "white",
           "linecolor": "white",
           "ticks": "",
           "title": {
            "standoff": 15
           },
           "zerolinecolor": "white",
           "zerolinewidth": 2
          }
         }
        },
        "title": {
         "text": "Company SaaS Active Users by Country"
        }
       }
      },
      "text/html": [
       "<div>                            <div id=\"d7d40b46-a5fe-4f05-89c2-7fa50ccf9f08\" class=\"plotly-graph-div\" style=\"height:525px; width:100%;\"></div>            <script type=\"text/javascript\">                require([\"plotly\"], function(Plotly) {                    window.PLOTLYENV=window.PLOTLYENV || {};                                    if (document.getElementById(\"d7d40b46-a5fe-4f05-89c2-7fa50ccf9f08\")) {                    Plotly.newPlot(                        \"d7d40b46-a5fe-4f05-89c2-7fa50ccf9f08\",                        [{\"autocolorscale\": false, \"colorbar\": {\"ticksuffix\": \"\", \"title\": {\"text\": \"Users\"}}, \"colorscale\": [[0.0, \"rgb(255,255,217)\"], [0.125, \"rgb(237,248,177)\"], [0.25, \"rgb(199,233,180)\"], [0.375, \"rgb(127,205,187)\"], [0.5, \"rgb(65,182,196)\"], [0.625, \"rgb(29,145,192)\"], [0.75, \"rgb(34,94,168)\"], [0.875, \"rgb(37,52,148)\"], [1.0, \"rgb(8,29,88)\"]], \"locationmode\": \"country names\", \"locations\": [\"United States\", \"United Kingdom\", \"Antarctica\", \"Japan\", \"Malaysia\", \"Chile\", \"Mexico\", \"Canada\", \"Turkey\", \"Australia\", \"France\", \"Argentina\", \"Colombia\", \"Spain\", \"Netherlands\", \"Brazil\", \"Uganda\", \"Germany\", \"South Africa\", \"Italy\", \"Ireland\", \"Sweden\", \"India\", \"Peru\", \"Poland\", \"Belgium\", \"Philippines\", \"Ecuador\", \"New Zealand\", \"Zimbabwe\", \"Serbia\", \"Indonesia\", \"Norway\", \"Pakistan\", \"Switzerland\", \"Portugal\", \"Thailand\", \"Afghanistan\", \"Egypt\", \"Finland\", \"Estonia\", \"Czech Republic\", \"Dominican Republic\", \"United Arab Emirates\", \"Panama\", \"Russia\", \"Israel\", \"Venezuela\", \"Singapore\", \"Honduras\", \"Trinidad and Tobago\", \"Nigeria\", \"Saudi Arabia\", \"Ukraine\", \"Kenya\", \"Romania\", \"Botswana\", \"Croatia\", \"Costa Rica\", \"Jamaica\", \"Sri Lanka\", \"Denmark\", \"Nicaragua\", \"Slovenia\", \"Moldova\", \"Austria\", \"Tanzania\", \"Guatemala\", \"Greece\", \"Jersey\", \"Uruguay\", \"Cameroon\", \"Malawi\", \"Bulgaria\", \"South Korea\", \"Bahrain\", \"Cambodia\", \"Barbados\", \"Vietnam\", \"Belize\", \"Zambia\", \"Slovakia\", \"Bolivia\", \"British Virgin Islands\", \"Hong Kong\", \"Rwanda\", \"Puerto Rico\", \"Iraq\", \"Ghana\", \"Ivory Coast\", \"Kazakhstan\", \"Lesotho\", \"Angola\", \"Luxembourg\", \"Ethiopia\", \"Malta\", \"Mauritius\", \"Mayotte\", \"Mongolia\", \"Morocco\", \"Nepal\", \"El Salvador\", \"Oman\", \"Hungary\", \"Paraguay\", \"Cyprus\", \"Lithuania\"], \"marker\": {\"line\": {\"color\": \"#000000\", \"width\": 0.5}}, \"reversescale\": false, \"text\": [\"United States\", \"United Kingdom\", \"Antarctica\", \"Japan\", \"Malaysia\", \"Chile\", \"Mexico\", \"Canada\", \"Turkey\", \"Australia\", \"France\", \"Argentina\", \"Colombia\", \"Spain\", \"Netherlands\", \"Brazil\", \"Uganda\", \"Germany\", \"South Africa\", \"Italy\", \"Ireland\", \"Sweden\", \"India\", \"Peru\", \"Poland\", \"Belgium\", \"Philippines\", \"Ecuador\", \"New Zealand\", \"Zimbabwe\", \"Serbia\", \"Indonesia\", \"Norway\", \"Pakistan\", \"Switzerland\", \"Portugal\", \"Thailand\", \"Afghanistan\", \"Egypt\", \"Finland\", \"Estonia\", \"Czech Republic\", \"Dominican Republic\", \"United Arab Emirates\", \"Panama\", \"Russia\", \"Israel\", \"Venezuela\", \"Singapore\", \"Honduras\", \"Trinidad and Tobago\", \"Nigeria\", \"Saudi Arabia\", \"Ukraine\", \"Kenya\", \"Romania\", \"Botswana\", \"Croatia\", \"Costa Rica\", \"Jamaica\", \"Sri Lanka\", \"Denmark\", \"Nicaragua\", \"Slovenia\", \"Moldova\", \"Austria\", \"Tanzania\", \"Guatemala\", \"Greece\", \"Jersey\", \"Uruguay\", \"Cameroon\", \"Malawi\", \"Bulgaria\", \"South Korea\", \"Bahrain\", \"Cambodia\", \"Barbados\", \"Vietnam\", \"Belize\", \"Zambia\", \"Slovakia\", \"Bolivia\", \"British Virgin Islands\", \"Hong Kong\", \"Rwanda\", \"Puerto Rico\", \"Iraq\", \"Ghana\", \"Ivory Coast\", \"Kazakhstan\", \"Lesotho\", \"Angola\", \"Luxembourg\", \"Ethiopia\", \"Malta\", \"Mauritius\", \"Mayotte\", \"Mongolia\", \"Morocco\", \"Nepal\", \"El Salvador\", \"Oman\", \"Hungary\", \"Paraguay\", \"Cyprus\", \"Lithuania\"], \"type\": \"choropleth\", \"z\": [837, 297, 240, 145, 130, 95, 87, 79, 43, 38, 36, 35, 29, 29, 29, 27, 25, 22, 14, 13, 12, 11, 11, 11, 10, 9, 8, 8, 8, 7, 7, 7, 6, 6, 6, 5, 5, 5, 5, 5, 5, 5, 4, 4, 4, 4, 4, 3, 3, 3, 3, 3, 3, 3, 3, 3, 3, 3, 3, 3, 2, 2, 2, 2, 2, 2, 2, 2, 2, 2, 2, 2, 2, 1, 1, 1, 1, 1, 1, 1, 1, 1, 1, 1, 1, 1, 1, 1, 1, 1, 1, 1, 1, 1, 1, 1, 1, 1, 1, 1, 1, 1, 1, 1, 1, 1, 1]}],                        {\"geo\": {\"coastlinecolor\": \"#dadada\", \"lakecolor\": \"#eaeaea\", \"oceancolor\": \"#eaeaea\", \"projection\": {\"type\": \"kavrayskiy7\"}, \"resolution\": 110, \"scope\": \"world\", \"showcoastlines\": false, \"showcountries\": true, \"showocean\": true}, \"showlegend\": true, \"template\": {\"data\": {\"bar\": [{\"error_x\": {\"color\": \"#2a3f5f\"}, \"error_y\": {\"color\": \"#2a3f5f\"}, \"marker\": {\"line\": {\"color\": \"#E5ECF6\", \"width\": 0.5}}, \"type\": \"bar\"}], \"barpolar\": [{\"marker\": {\"line\": {\"color\": \"#E5ECF6\", \"width\": 0.5}}, \"type\": \"barpolar\"}], \"carpet\": [{\"aaxis\": {\"endlinecolor\": \"#2a3f5f\", \"gridcolor\": \"white\", \"linecolor\": \"white\", \"minorgridcolor\": \"white\", \"startlinecolor\": \"#2a3f5f\"}, \"baxis\": {\"endlinecolor\": \"#2a3f5f\", \"gridcolor\": \"white\", \"linecolor\": \"white\", \"minorgridcolor\": \"white\", \"startlinecolor\": \"#2a3f5f\"}, \"type\": \"carpet\"}], \"choropleth\": [{\"colorbar\": {\"outlinewidth\": 0, \"ticks\": \"\"}, \"type\": \"choropleth\"}], \"contour\": [{\"colorbar\": {\"outlinewidth\": 0, \"ticks\": \"\"}, \"colorscale\": [[0.0, \"#0d0887\"], [0.1111111111111111, \"#46039f\"], [0.2222222222222222, \"#7201a8\"], [0.3333333333333333, \"#9c179e\"], [0.4444444444444444, \"#bd3786\"], [0.5555555555555556, \"#d8576b\"], [0.6666666666666666, \"#ed7953\"], [0.7777777777777778, \"#fb9f3a\"], [0.8888888888888888, \"#fdca26\"], [1.0, \"#f0f921\"]], \"type\": \"contour\"}], \"contourcarpet\": [{\"colorbar\": {\"outlinewidth\": 0, \"ticks\": \"\"}, \"type\": \"contourcarpet\"}], \"heatmap\": [{\"colorbar\": {\"outlinewidth\": 0, \"ticks\": \"\"}, \"colorscale\": [[0.0, \"#0d0887\"], [0.1111111111111111, \"#46039f\"], [0.2222222222222222, \"#7201a8\"], [0.3333333333333333, \"#9c179e\"], [0.4444444444444444, \"#bd3786\"], [0.5555555555555556, \"#d8576b\"], [0.6666666666666666, \"#ed7953\"], [0.7777777777777778, \"#fb9f3a\"], [0.8888888888888888, \"#fdca26\"], [1.0, \"#f0f921\"]], \"type\": \"heatmap\"}], \"heatmapgl\": [{\"colorbar\": {\"outlinewidth\": 0, \"ticks\": \"\"}, \"colorscale\": [[0.0, \"#0d0887\"], [0.1111111111111111, \"#46039f\"], [0.2222222222222222, \"#7201a8\"], [0.3333333333333333, \"#9c179e\"], [0.4444444444444444, \"#bd3786\"], [0.5555555555555556, \"#d8576b\"], [0.6666666666666666, \"#ed7953\"], [0.7777777777777778, \"#fb9f3a\"], [0.8888888888888888, \"#fdca26\"], [1.0, \"#f0f921\"]], \"type\": \"heatmapgl\"}], \"histogram\": [{\"marker\": {\"colorbar\": {\"outlinewidth\": 0, \"ticks\": \"\"}}, \"type\": \"histogram\"}], \"histogram2d\": [{\"colorbar\": {\"outlinewidth\": 0, \"ticks\": \"\"}, \"colorscale\": [[0.0, \"#0d0887\"], [0.1111111111111111, \"#46039f\"], [0.2222222222222222, \"#7201a8\"], [0.3333333333333333, \"#9c179e\"], [0.4444444444444444, \"#bd3786\"], [0.5555555555555556, \"#d8576b\"], [0.6666666666666666, \"#ed7953\"], [0.7777777777777778, \"#fb9f3a\"], [0.8888888888888888, \"#fdca26\"], [1.0, \"#f0f921\"]], \"type\": \"histogram2d\"}], \"histogram2dcontour\": [{\"colorbar\": {\"outlinewidth\": 0, \"ticks\": \"\"}, \"colorscale\": [[0.0, \"#0d0887\"], [0.1111111111111111, \"#46039f\"], [0.2222222222222222, \"#7201a8\"], [0.3333333333333333, \"#9c179e\"], [0.4444444444444444, \"#bd3786\"], [0.5555555555555556, \"#d8576b\"], [0.6666666666666666, \"#ed7953\"], [0.7777777777777778, \"#fb9f3a\"], [0.8888888888888888, \"#fdca26\"], [1.0, \"#f0f921\"]], \"type\": \"histogram2dcontour\"}], \"mesh3d\": [{\"colorbar\": {\"outlinewidth\": 0, \"ticks\": \"\"}, \"type\": \"mesh3d\"}], \"parcoords\": [{\"line\": {\"colorbar\": {\"outlinewidth\": 0, \"ticks\": \"\"}}, \"type\": \"parcoords\"}], \"pie\": [{\"automargin\": true, \"type\": \"pie\"}], \"scatter\": [{\"marker\": {\"colorbar\": {\"outlinewidth\": 0, \"ticks\": \"\"}}, \"type\": \"scatter\"}], \"scatter3d\": [{\"line\": {\"colorbar\": {\"outlinewidth\": 0, \"ticks\": \"\"}}, \"marker\": {\"colorbar\": {\"outlinewidth\": 0, \"ticks\": \"\"}}, \"type\": \"scatter3d\"}], \"scattercarpet\": [{\"marker\": {\"colorbar\": {\"outlinewidth\": 0, \"ticks\": \"\"}}, \"type\": \"scattercarpet\"}], \"scattergeo\": [{\"marker\": {\"colorbar\": {\"outlinewidth\": 0, \"ticks\": \"\"}}, \"type\": \"scattergeo\"}], \"scattergl\": [{\"marker\": {\"colorbar\": {\"outlinewidth\": 0, \"ticks\": \"\"}}, \"type\": \"scattergl\"}], \"scattermapbox\": [{\"marker\": {\"colorbar\": {\"outlinewidth\": 0, \"ticks\": \"\"}}, \"type\": \"scattermapbox\"}], \"scatterpolar\": [{\"marker\": {\"colorbar\": {\"outlinewidth\": 0, \"ticks\": \"\"}}, \"type\": \"scatterpolar\"}], \"scatterpolargl\": [{\"marker\": {\"colorbar\": {\"outlinewidth\": 0, \"ticks\": \"\"}}, \"type\": \"scatterpolargl\"}], \"scatterternary\": [{\"marker\": {\"colorbar\": {\"outlinewidth\": 0, \"ticks\": \"\"}}, \"type\": \"scatterternary\"}], \"surface\": [{\"colorbar\": {\"outlinewidth\": 0, \"ticks\": \"\"}, \"colorscale\": [[0.0, \"#0d0887\"], [0.1111111111111111, \"#46039f\"], [0.2222222222222222, \"#7201a8\"], [0.3333333333333333, \"#9c179e\"], [0.4444444444444444, \"#bd3786\"], [0.5555555555555556, \"#d8576b\"], [0.6666666666666666, \"#ed7953\"], [0.7777777777777778, \"#fb9f3a\"], [0.8888888888888888, \"#fdca26\"], [1.0, \"#f0f921\"]], \"type\": \"surface\"}], \"table\": [{\"cells\": {\"fill\": {\"color\": \"#EBF0F8\"}, \"line\": {\"color\": \"white\"}}, \"header\": {\"fill\": {\"color\": \"#C8D4E3\"}, \"line\": {\"color\": \"white\"}}, \"type\": \"table\"}]}, \"layout\": {\"annotationdefaults\": {\"arrowcolor\": \"#2a3f5f\", \"arrowhead\": 0, \"arrowwidth\": 1}, \"autotypenumbers\": \"strict\", \"coloraxis\": {\"colorbar\": {\"outlinewidth\": 0, \"ticks\": \"\"}}, \"colorscale\": {\"diverging\": [[0, \"#8e0152\"], [0.1, \"#c51b7d\"], [0.2, \"#de77ae\"], [0.3, \"#f1b6da\"], [0.4, \"#fde0ef\"], [0.5, \"#f7f7f7\"], [0.6, \"#e6f5d0\"], [0.7, \"#b8e186\"], [0.8, \"#7fbc41\"], [0.9, \"#4d9221\"], [1, \"#276419\"]], \"sequential\": [[0.0, \"#0d0887\"], [0.1111111111111111, \"#46039f\"], [0.2222222222222222, \"#7201a8\"], [0.3333333333333333, \"#9c179e\"], [0.4444444444444444, \"#bd3786\"], [0.5555555555555556, \"#d8576b\"], [0.6666666666666666, \"#ed7953\"], [0.7777777777777778, \"#fb9f3a\"], [0.8888888888888888, \"#fdca26\"], [1.0, \"#f0f921\"]], \"sequentialminus\": [[0.0, \"#0d0887\"], [0.1111111111111111, \"#46039f\"], [0.2222222222222222, \"#7201a8\"], [0.3333333333333333, \"#9c179e\"], [0.4444444444444444, \"#bd3786\"], [0.5555555555555556, \"#d8576b\"], [0.6666666666666666, \"#ed7953\"], [0.7777777777777778, \"#fb9f3a\"], [0.8888888888888888, \"#fdca26\"], [1.0, \"#f0f921\"]]}, \"colorway\": [\"#636efa\", \"#EF553B\", \"#00cc96\", \"#ab63fa\", \"#FFA15A\", \"#19d3f3\", \"#FF6692\", \"#B6E880\", \"#FF97FF\", \"#FECB52\"], \"font\": {\"color\": \"#2a3f5f\"}, \"geo\": {\"bgcolor\": \"white\", \"lakecolor\": \"white\", \"landcolor\": \"#E5ECF6\", \"showlakes\": true, \"showland\": true, \"subunitcolor\": \"white\"}, \"hoverlabel\": {\"align\": \"left\"}, \"hovermode\": \"closest\", \"mapbox\": {\"style\": \"light\"}, \"paper_bgcolor\": \"white\", \"plot_bgcolor\": \"#E5ECF6\", \"polar\": {\"angularaxis\": {\"gridcolor\": \"white\", \"linecolor\": \"white\", \"ticks\": \"\"}, \"bgcolor\": \"#E5ECF6\", \"radialaxis\": {\"gridcolor\": \"white\", \"linecolor\": \"white\", \"ticks\": \"\"}}, \"scene\": {\"xaxis\": {\"backgroundcolor\": \"#E5ECF6\", \"gridcolor\": \"white\", \"gridwidth\": 2, \"linecolor\": \"white\", \"showbackground\": true, \"ticks\": \"\", \"zerolinecolor\": \"white\"}, \"yaxis\": {\"backgroundcolor\": \"#E5ECF6\", \"gridcolor\": \"white\", \"gridwidth\": 2, \"linecolor\": \"white\", \"showbackground\": true, \"ticks\": \"\", \"zerolinecolor\": \"white\"}, \"zaxis\": {\"backgroundcolor\": \"#E5ECF6\", \"gridcolor\": \"white\", \"gridwidth\": 2, \"linecolor\": \"white\", \"showbackground\": true, \"ticks\": \"\", \"zerolinecolor\": \"white\"}}, \"shapedefaults\": {\"line\": {\"color\": \"#2a3f5f\"}}, \"ternary\": {\"aaxis\": {\"gridcolor\": \"white\", \"linecolor\": \"white\", \"ticks\": \"\"}, \"baxis\": {\"gridcolor\": \"white\", \"linecolor\": \"white\", \"ticks\": \"\"}, \"bgcolor\": \"#E5ECF6\", \"caxis\": {\"gridcolor\": \"white\", \"linecolor\": \"white\", \"ticks\": \"\"}}, \"title\": {\"x\": 0.05}, \"xaxis\": {\"automargin\": true, \"gridcolor\": \"white\", \"linecolor\": \"white\", \"ticks\": \"\", \"title\": {\"standoff\": 15}, \"zerolinecolor\": \"white\", \"zerolinewidth\": 2}, \"yaxis\": {\"automargin\": true, \"gridcolor\": \"white\", \"linecolor\": \"white\", \"ticks\": \"\", \"title\": {\"standoff\": 15}, \"zerolinecolor\": \"white\", \"zerolinewidth\": 2}}}, \"title\": {\"text\": \"Company SaaS Active Users by Country\"}},                        {\"responsive\": true}                    ).then(function(){\n",
       "                            \n",
       "var gd = document.getElementById('d7d40b46-a5fe-4f05-89c2-7fa50ccf9f08');\n",
       "var x = new MutationObserver(function (mutations, observer) {{\n",
       "        var display = window.getComputedStyle(gd).display;\n",
       "        if (!display || display === 'none') {{\n",
       "            console.log([gd, 'removed!']);\n",
       "            Plotly.purge(gd);\n",
       "            observer.disconnect();\n",
       "        }}\n",
       "}});\n",
       "\n",
       "// Listen for the removal of the full notebook cells\n",
       "var notebookContainer = gd.closest('#notebook-container');\n",
       "if (notebookContainer) {{\n",
       "    x.observe(notebookContainer, {childList: true});\n",
       "}}\n",
       "\n",
       "// Listen for the clearing of the current output cell\n",
       "var outputEl = gd.closest('.output');\n",
       "if (outputEl) {{\n",
       "    x.observe(outputEl, {childList: true});\n",
       "}}\n",
       "\n",
       "                        })                };                });            </script>        </div>"
      ]
     },
     "metadata": {},
     "output_type": "display_data"
    }
   ],
   "source": [
    "# creating Active users fig with plotly\n",
    "fig = go.Figure(go.Choropleth(\n",
    "    locations = active['country_name'],\n",
    "    locationmode = \"country names\",\n",
    "    z = active['users'],\n",
    "    text = active['country_name'],\n",
    "    colorscale = 'YlGnBu',\n",
    "    autocolorscale=False,\n",
    "    reversescale=False,\n",
    "    marker_line_color='#000000',\n",
    "    marker_line_width=0.5,\n",
    "    colorbar_ticksuffix = '',\n",
    "    colorbar_title = 'Users',\n",
    "    )\n",
    ")\n",
    " \n",
    "# Further fig customization\n",
    "fig.update_layout(\n",
    "    title_text = 'Company SaaS Active Users by Country',\n",
    "    showlegend = True,\n",
    "    geo = dict(\n",
    "        scope='world',\n",
    "        resolution=110,\n",
    "        projection_type='kavrayskiy7',\n",
    "        showcoastlines=False,\n",
    "        showocean=True,\n",
    "        showcountries=True,\n",
    "        oceancolor='#eaeaea',\n",
    "        lakecolor='#eaeaea',\n",
    "        coastlinecolor='#dadada'\n",
    "    )\n",
    ")\n",
    " \n",
    "# display interactive image\n",
    "fig.write_image(f\"{graphs_dir}/Active users.png\")\n",
    "fig.show()\n"
   ]
  },
  {
   "cell_type": "code",
   "execution_count": 41,
   "metadata": {},
   "outputs": [
    {
     "data": {
      "application/vnd.plotly.v1+json": {
       "config": {
        "plotlyServerURL": "https://plot.ly"
       },
       "data": [
        {
         "autocolorscale": false,
         "colorbar": {
          "ticksuffix": "",
          "title": {
           "text": "Users"
          }
         },
         "colorscale": [
          [
           0,
           "rgb(0,0,0)"
          ],
          [
           0.3333333333333333,
           "rgb(230,0,0)"
          ],
          [
           0.6666666666666666,
           "rgb(255,210,0)"
          ],
          [
           1,
           "rgb(255,255,255)"
          ]
         ],
         "locationmode": "country names",
         "locations": [
          "United States",
          "United Kingdom",
          "Uganda",
          "Antarctica",
          "Chile",
          "Canada",
          "Australia",
          "France",
          "India",
          "Malaysia",
          "Argentina",
          "Italy",
          "Spain",
          "Egypt",
          "Japan",
          "Switzerland",
          "Vietnam",
          "Israel",
          "Rwanda",
          "Netherlands",
          "Brazil",
          "Germany",
          "Thailand",
          "Sweden",
          "Romania",
          "Russia",
          "Aland Islands",
          "Puerto Rico",
          "Poland",
          "Peru",
          "Norway",
          "Kenya",
          "Indonesia",
          "Hungary",
          "Ghana",
          "Ecuador",
          "Dominican Republic",
          "Jordan"
         ],
         "marker": {
          "line": {
           "color": "#000000",
           "width": 0.5
          }
         },
         "reversescale": true,
         "text": [
          "United States",
          "United Kingdom",
          "Uganda",
          "Antarctica",
          "Chile",
          "Canada",
          "Australia",
          "France",
          "India",
          "Malaysia",
          "Argentina",
          "Italy",
          "Spain",
          "Egypt",
          "Japan",
          "Switzerland",
          "Vietnam",
          "Israel",
          "Rwanda",
          "Netherlands",
          "Brazil",
          "Germany",
          "Thailand",
          "Sweden",
          "Romania",
          "Russia",
          "Aland Islands",
          "Puerto Rico",
          "Poland",
          "Peru",
          "Norway",
          "Kenya",
          "Indonesia",
          "Hungary",
          "Ghana",
          "Ecuador",
          "Dominican Republic",
          "Jordan"
         ],
         "type": "choropleth",
         "z": [
          114,
          54,
          18,
          15,
          14,
          10,
          6,
          6,
          5,
          4,
          4,
          3,
          3,
          3,
          3,
          3,
          2,
          2,
          2,
          2,
          2,
          2,
          1,
          1,
          1,
          1,
          1,
          1,
          1,
          1,
          1,
          1,
          1,
          1,
          1,
          1,
          1,
          1
         ]
        }
       ],
       "layout": {
        "geo": {
         "coastlinecolor": "#dadada",
         "lakecolor": "#eaeaea",
         "oceancolor": "#eaeaea",
         "projection": {
          "type": "kavrayskiy7"
         },
         "resolution": 110,
         "scope": "world",
         "showcoastlines": false,
         "showcountries": true,
         "showocean": true
        },
        "showlegend": true,
        "template": {
         "data": {
          "bar": [
           {
            "error_x": {
             "color": "#2a3f5f"
            },
            "error_y": {
             "color": "#2a3f5f"
            },
            "marker": {
             "line": {
              "color": "#E5ECF6",
              "width": 0.5
             }
            },
            "type": "bar"
           }
          ],
          "barpolar": [
           {
            "marker": {
             "line": {
              "color": "#E5ECF6",
              "width": 0.5
             }
            },
            "type": "barpolar"
           }
          ],
          "carpet": [
           {
            "aaxis": {
             "endlinecolor": "#2a3f5f",
             "gridcolor": "white",
             "linecolor": "white",
             "minorgridcolor": "white",
             "startlinecolor": "#2a3f5f"
            },
            "baxis": {
             "endlinecolor": "#2a3f5f",
             "gridcolor": "white",
             "linecolor": "white",
             "minorgridcolor": "white",
             "startlinecolor": "#2a3f5f"
            },
            "type": "carpet"
           }
          ],
          "choropleth": [
           {
            "colorbar": {
             "outlinewidth": 0,
             "ticks": ""
            },
            "type": "choropleth"
           }
          ],
          "contour": [
           {
            "colorbar": {
             "outlinewidth": 0,
             "ticks": ""
            },
            "colorscale": [
             [
              0,
              "#0d0887"
             ],
             [
              0.1111111111111111,
              "#46039f"
             ],
             [
              0.2222222222222222,
              "#7201a8"
             ],
             [
              0.3333333333333333,
              "#9c179e"
             ],
             [
              0.4444444444444444,
              "#bd3786"
             ],
             [
              0.5555555555555556,
              "#d8576b"
             ],
             [
              0.6666666666666666,
              "#ed7953"
             ],
             [
              0.7777777777777778,
              "#fb9f3a"
             ],
             [
              0.8888888888888888,
              "#fdca26"
             ],
             [
              1,
              "#f0f921"
             ]
            ],
            "type": "contour"
           }
          ],
          "contourcarpet": [
           {
            "colorbar": {
             "outlinewidth": 0,
             "ticks": ""
            },
            "type": "contourcarpet"
           }
          ],
          "heatmap": [
           {
            "colorbar": {
             "outlinewidth": 0,
             "ticks": ""
            },
            "colorscale": [
             [
              0,
              "#0d0887"
             ],
             [
              0.1111111111111111,
              "#46039f"
             ],
             [
              0.2222222222222222,
              "#7201a8"
             ],
             [
              0.3333333333333333,
              "#9c179e"
             ],
             [
              0.4444444444444444,
              "#bd3786"
             ],
             [
              0.5555555555555556,
              "#d8576b"
             ],
             [
              0.6666666666666666,
              "#ed7953"
             ],
             [
              0.7777777777777778,
              "#fb9f3a"
             ],
             [
              0.8888888888888888,
              "#fdca26"
             ],
             [
              1,
              "#f0f921"
             ]
            ],
            "type": "heatmap"
           }
          ],
          "heatmapgl": [
           {
            "colorbar": {
             "outlinewidth": 0,
             "ticks": ""
            },
            "colorscale": [
             [
              0,
              "#0d0887"
             ],
             [
              0.1111111111111111,
              "#46039f"
             ],
             [
              0.2222222222222222,
              "#7201a8"
             ],
             [
              0.3333333333333333,
              "#9c179e"
             ],
             [
              0.4444444444444444,
              "#bd3786"
             ],
             [
              0.5555555555555556,
              "#d8576b"
             ],
             [
              0.6666666666666666,
              "#ed7953"
             ],
             [
              0.7777777777777778,
              "#fb9f3a"
             ],
             [
              0.8888888888888888,
              "#fdca26"
             ],
             [
              1,
              "#f0f921"
             ]
            ],
            "type": "heatmapgl"
           }
          ],
          "histogram": [
           {
            "marker": {
             "colorbar": {
              "outlinewidth": 0,
              "ticks": ""
             }
            },
            "type": "histogram"
           }
          ],
          "histogram2d": [
           {
            "colorbar": {
             "outlinewidth": 0,
             "ticks": ""
            },
            "colorscale": [
             [
              0,
              "#0d0887"
             ],
             [
              0.1111111111111111,
              "#46039f"
             ],
             [
              0.2222222222222222,
              "#7201a8"
             ],
             [
              0.3333333333333333,
              "#9c179e"
             ],
             [
              0.4444444444444444,
              "#bd3786"
             ],
             [
              0.5555555555555556,
              "#d8576b"
             ],
             [
              0.6666666666666666,
              "#ed7953"
             ],
             [
              0.7777777777777778,
              "#fb9f3a"
             ],
             [
              0.8888888888888888,
              "#fdca26"
             ],
             [
              1,
              "#f0f921"
             ]
            ],
            "type": "histogram2d"
           }
          ],
          "histogram2dcontour": [
           {
            "colorbar": {
             "outlinewidth": 0,
             "ticks": ""
            },
            "colorscale": [
             [
              0,
              "#0d0887"
             ],
             [
              0.1111111111111111,
              "#46039f"
             ],
             [
              0.2222222222222222,
              "#7201a8"
             ],
             [
              0.3333333333333333,
              "#9c179e"
             ],
             [
              0.4444444444444444,
              "#bd3786"
             ],
             [
              0.5555555555555556,
              "#d8576b"
             ],
             [
              0.6666666666666666,
              "#ed7953"
             ],
             [
              0.7777777777777778,
              "#fb9f3a"
             ],
             [
              0.8888888888888888,
              "#fdca26"
             ],
             [
              1,
              "#f0f921"
             ]
            ],
            "type": "histogram2dcontour"
           }
          ],
          "mesh3d": [
           {
            "colorbar": {
             "outlinewidth": 0,
             "ticks": ""
            },
            "type": "mesh3d"
           }
          ],
          "parcoords": [
           {
            "line": {
             "colorbar": {
              "outlinewidth": 0,
              "ticks": ""
             }
            },
            "type": "parcoords"
           }
          ],
          "pie": [
           {
            "automargin": true,
            "type": "pie"
           }
          ],
          "scatter": [
           {
            "marker": {
             "colorbar": {
              "outlinewidth": 0,
              "ticks": ""
             }
            },
            "type": "scatter"
           }
          ],
          "scatter3d": [
           {
            "line": {
             "colorbar": {
              "outlinewidth": 0,
              "ticks": ""
             }
            },
            "marker": {
             "colorbar": {
              "outlinewidth": 0,
              "ticks": ""
             }
            },
            "type": "scatter3d"
           }
          ],
          "scattercarpet": [
           {
            "marker": {
             "colorbar": {
              "outlinewidth": 0,
              "ticks": ""
             }
            },
            "type": "scattercarpet"
           }
          ],
          "scattergeo": [
           {
            "marker": {
             "colorbar": {
              "outlinewidth": 0,
              "ticks": ""
             }
            },
            "type": "scattergeo"
           }
          ],
          "scattergl": [
           {
            "marker": {
             "colorbar": {
              "outlinewidth": 0,
              "ticks": ""
             }
            },
            "type": "scattergl"
           }
          ],
          "scattermapbox": [
           {
            "marker": {
             "colorbar": {
              "outlinewidth": 0,
              "ticks": ""
             }
            },
            "type": "scattermapbox"
           }
          ],
          "scatterpolar": [
           {
            "marker": {
             "colorbar": {
              "outlinewidth": 0,
              "ticks": ""
             }
            },
            "type": "scatterpolar"
           }
          ],
          "scatterpolargl": [
           {
            "marker": {
             "colorbar": {
              "outlinewidth": 0,
              "ticks": ""
             }
            },
            "type": "scatterpolargl"
           }
          ],
          "scatterternary": [
           {
            "marker": {
             "colorbar": {
              "outlinewidth": 0,
              "ticks": ""
             }
            },
            "type": "scatterternary"
           }
          ],
          "surface": [
           {
            "colorbar": {
             "outlinewidth": 0,
             "ticks": ""
            },
            "colorscale": [
             [
              0,
              "#0d0887"
             ],
             [
              0.1111111111111111,
              "#46039f"
             ],
             [
              0.2222222222222222,
              "#7201a8"
             ],
             [
              0.3333333333333333,
              "#9c179e"
             ],
             [
              0.4444444444444444,
              "#bd3786"
             ],
             [
              0.5555555555555556,
              "#d8576b"
             ],
             [
              0.6666666666666666,
              "#ed7953"
             ],
             [
              0.7777777777777778,
              "#fb9f3a"
             ],
             [
              0.8888888888888888,
              "#fdca26"
             ],
             [
              1,
              "#f0f921"
             ]
            ],
            "type": "surface"
           }
          ],
          "table": [
           {
            "cells": {
             "fill": {
              "color": "#EBF0F8"
             },
             "line": {
              "color": "white"
             }
            },
            "header": {
             "fill": {
              "color": "#C8D4E3"
             },
             "line": {
              "color": "white"
             }
            },
            "type": "table"
           }
          ]
         },
         "layout": {
          "annotationdefaults": {
           "arrowcolor": "#2a3f5f",
           "arrowhead": 0,
           "arrowwidth": 1
          },
          "autotypenumbers": "strict",
          "coloraxis": {
           "colorbar": {
            "outlinewidth": 0,
            "ticks": ""
           }
          },
          "colorscale": {
           "diverging": [
            [
             0,
             "#8e0152"
            ],
            [
             0.1,
             "#c51b7d"
            ],
            [
             0.2,
             "#de77ae"
            ],
            [
             0.3,
             "#f1b6da"
            ],
            [
             0.4,
             "#fde0ef"
            ],
            [
             0.5,
             "#f7f7f7"
            ],
            [
             0.6,
             "#e6f5d0"
            ],
            [
             0.7,
             "#b8e186"
            ],
            [
             0.8,
             "#7fbc41"
            ],
            [
             0.9,
             "#4d9221"
            ],
            [
             1,
             "#276419"
            ]
           ],
           "sequential": [
            [
             0,
             "#0d0887"
            ],
            [
             0.1111111111111111,
             "#46039f"
            ],
            [
             0.2222222222222222,
             "#7201a8"
            ],
            [
             0.3333333333333333,
             "#9c179e"
            ],
            [
             0.4444444444444444,
             "#bd3786"
            ],
            [
             0.5555555555555556,
             "#d8576b"
            ],
            [
             0.6666666666666666,
             "#ed7953"
            ],
            [
             0.7777777777777778,
             "#fb9f3a"
            ],
            [
             0.8888888888888888,
             "#fdca26"
            ],
            [
             1,
             "#f0f921"
            ]
           ],
           "sequentialminus": [
            [
             0,
             "#0d0887"
            ],
            [
             0.1111111111111111,
             "#46039f"
            ],
            [
             0.2222222222222222,
             "#7201a8"
            ],
            [
             0.3333333333333333,
             "#9c179e"
            ],
            [
             0.4444444444444444,
             "#bd3786"
            ],
            [
             0.5555555555555556,
             "#d8576b"
            ],
            [
             0.6666666666666666,
             "#ed7953"
            ],
            [
             0.7777777777777778,
             "#fb9f3a"
            ],
            [
             0.8888888888888888,
             "#fdca26"
            ],
            [
             1,
             "#f0f921"
            ]
           ]
          },
          "colorway": [
           "#636efa",
           "#EF553B",
           "#00cc96",
           "#ab63fa",
           "#FFA15A",
           "#19d3f3",
           "#FF6692",
           "#B6E880",
           "#FF97FF",
           "#FECB52"
          ],
          "font": {
           "color": "#2a3f5f"
          },
          "geo": {
           "bgcolor": "white",
           "lakecolor": "white",
           "landcolor": "#E5ECF6",
           "showlakes": true,
           "showland": true,
           "subunitcolor": "white"
          },
          "hoverlabel": {
           "align": "left"
          },
          "hovermode": "closest",
          "mapbox": {
           "style": "light"
          },
          "paper_bgcolor": "white",
          "plot_bgcolor": "#E5ECF6",
          "polar": {
           "angularaxis": {
            "gridcolor": "white",
            "linecolor": "white",
            "ticks": ""
           },
           "bgcolor": "#E5ECF6",
           "radialaxis": {
            "gridcolor": "white",
            "linecolor": "white",
            "ticks": ""
           }
          },
          "scene": {
           "xaxis": {
            "backgroundcolor": "#E5ECF6",
            "gridcolor": "white",
            "gridwidth": 2,
            "linecolor": "white",
            "showbackground": true,
            "ticks": "",
            "zerolinecolor": "white"
           },
           "yaxis": {
            "backgroundcolor": "#E5ECF6",
            "gridcolor": "white",
            "gridwidth": 2,
            "linecolor": "white",
            "showbackground": true,
            "ticks": "",
            "zerolinecolor": "white"
           },
           "zaxis": {
            "backgroundcolor": "#E5ECF6",
            "gridcolor": "white",
            "gridwidth": 2,
            "linecolor": "white",
            "showbackground": true,
            "ticks": "",
            "zerolinecolor": "white"
           }
          },
          "shapedefaults": {
           "line": {
            "color": "#2a3f5f"
           }
          },
          "ternary": {
           "aaxis": {
            "gridcolor": "white",
            "linecolor": "white",
            "ticks": ""
           },
           "baxis": {
            "gridcolor": "white",
            "linecolor": "white",
            "ticks": ""
           },
           "bgcolor": "#E5ECF6",
           "caxis": {
            "gridcolor": "white",
            "linecolor": "white",
            "ticks": ""
           }
          },
          "title": {
           "x": 0.05
          },
          "xaxis": {
           "automargin": true,
           "gridcolor": "white",
           "linecolor": "white",
           "ticks": "",
           "title": {
            "standoff": 15
           },
           "zerolinecolor": "white",
           "zerolinewidth": 2
          },
          "yaxis": {
           "automargin": true,
           "gridcolor": "white",
           "linecolor": "white",
           "ticks": "",
           "title": {
            "standoff": 15
           },
           "zerolinecolor": "white",
           "zerolinewidth": 2
          }
         }
        },
        "title": {
         "text": "Company SaaS Deleted Users by Country"
        }
       }
      },
      "text/html": [
       "<div>                            <div id=\"3a760aa0-dc74-407a-8f74-3569f3d957b1\" class=\"plotly-graph-div\" style=\"height:525px; width:100%;\"></div>            <script type=\"text/javascript\">                require([\"plotly\"], function(Plotly) {                    window.PLOTLYENV=window.PLOTLYENV || {};                                    if (document.getElementById(\"3a760aa0-dc74-407a-8f74-3569f3d957b1\")) {                    Plotly.newPlot(                        \"3a760aa0-dc74-407a-8f74-3569f3d957b1\",                        [{\"autocolorscale\": false, \"colorbar\": {\"ticksuffix\": \"\", \"title\": {\"text\": \"Users\"}}, \"colorscale\": [[0.0, \"rgb(0,0,0)\"], [0.3333333333333333, \"rgb(230,0,0)\"], [0.6666666666666666, \"rgb(255,210,0)\"], [1.0, \"rgb(255,255,255)\"]], \"locationmode\": \"country names\", \"locations\": [\"United States\", \"United Kingdom\", \"Uganda\", \"Antarctica\", \"Chile\", \"Canada\", \"Australia\", \"France\", \"India\", \"Malaysia\", \"Argentina\", \"Italy\", \"Spain\", \"Egypt\", \"Japan\", \"Switzerland\", \"Vietnam\", \"Israel\", \"Rwanda\", \"Netherlands\", \"Brazil\", \"Germany\", \"Thailand\", \"Sweden\", \"Romania\", \"Russia\", \"Aland Islands\", \"Puerto Rico\", \"Poland\", \"Peru\", \"Norway\", \"Kenya\", \"Indonesia\", \"Hungary\", \"Ghana\", \"Ecuador\", \"Dominican Republic\", \"Jordan\"], \"marker\": {\"line\": {\"color\": \"#000000\", \"width\": 0.5}}, \"reversescale\": true, \"text\": [\"United States\", \"United Kingdom\", \"Uganda\", \"Antarctica\", \"Chile\", \"Canada\", \"Australia\", \"France\", \"India\", \"Malaysia\", \"Argentina\", \"Italy\", \"Spain\", \"Egypt\", \"Japan\", \"Switzerland\", \"Vietnam\", \"Israel\", \"Rwanda\", \"Netherlands\", \"Brazil\", \"Germany\", \"Thailand\", \"Sweden\", \"Romania\", \"Russia\", \"Aland Islands\", \"Puerto Rico\", \"Poland\", \"Peru\", \"Norway\", \"Kenya\", \"Indonesia\", \"Hungary\", \"Ghana\", \"Ecuador\", \"Dominican Republic\", \"Jordan\"], \"type\": \"choropleth\", \"z\": [114, 54, 18, 15, 14, 10, 6, 6, 5, 4, 4, 3, 3, 3, 3, 3, 2, 2, 2, 2, 2, 2, 1, 1, 1, 1, 1, 1, 1, 1, 1, 1, 1, 1, 1, 1, 1, 1]}],                        {\"geo\": {\"coastlinecolor\": \"#dadada\", \"lakecolor\": \"#eaeaea\", \"oceancolor\": \"#eaeaea\", \"projection\": {\"type\": \"kavrayskiy7\"}, \"resolution\": 110, \"scope\": \"world\", \"showcoastlines\": false, \"showcountries\": true, \"showocean\": true}, \"showlegend\": true, \"template\": {\"data\": {\"bar\": [{\"error_x\": {\"color\": \"#2a3f5f\"}, \"error_y\": {\"color\": \"#2a3f5f\"}, \"marker\": {\"line\": {\"color\": \"#E5ECF6\", \"width\": 0.5}}, \"type\": \"bar\"}], \"barpolar\": [{\"marker\": {\"line\": {\"color\": \"#E5ECF6\", \"width\": 0.5}}, \"type\": \"barpolar\"}], \"carpet\": [{\"aaxis\": {\"endlinecolor\": \"#2a3f5f\", \"gridcolor\": \"white\", \"linecolor\": \"white\", \"minorgridcolor\": \"white\", \"startlinecolor\": \"#2a3f5f\"}, \"baxis\": {\"endlinecolor\": \"#2a3f5f\", \"gridcolor\": \"white\", \"linecolor\": \"white\", \"minorgridcolor\": \"white\", \"startlinecolor\": \"#2a3f5f\"}, \"type\": \"carpet\"}], \"choropleth\": [{\"colorbar\": {\"outlinewidth\": 0, \"ticks\": \"\"}, \"type\": \"choropleth\"}], \"contour\": [{\"colorbar\": {\"outlinewidth\": 0, \"ticks\": \"\"}, \"colorscale\": [[0.0, \"#0d0887\"], [0.1111111111111111, \"#46039f\"], [0.2222222222222222, \"#7201a8\"], [0.3333333333333333, \"#9c179e\"], [0.4444444444444444, \"#bd3786\"], [0.5555555555555556, \"#d8576b\"], [0.6666666666666666, \"#ed7953\"], [0.7777777777777778, \"#fb9f3a\"], [0.8888888888888888, \"#fdca26\"], [1.0, \"#f0f921\"]], \"type\": \"contour\"}], \"contourcarpet\": [{\"colorbar\": {\"outlinewidth\": 0, \"ticks\": \"\"}, \"type\": \"contourcarpet\"}], \"heatmap\": [{\"colorbar\": {\"outlinewidth\": 0, \"ticks\": \"\"}, \"colorscale\": [[0.0, \"#0d0887\"], [0.1111111111111111, \"#46039f\"], [0.2222222222222222, \"#7201a8\"], [0.3333333333333333, \"#9c179e\"], [0.4444444444444444, \"#bd3786\"], [0.5555555555555556, \"#d8576b\"], [0.6666666666666666, \"#ed7953\"], [0.7777777777777778, \"#fb9f3a\"], [0.8888888888888888, \"#fdca26\"], [1.0, \"#f0f921\"]], \"type\": \"heatmap\"}], \"heatmapgl\": [{\"colorbar\": {\"outlinewidth\": 0, \"ticks\": \"\"}, \"colorscale\": [[0.0, \"#0d0887\"], [0.1111111111111111, \"#46039f\"], [0.2222222222222222, \"#7201a8\"], [0.3333333333333333, \"#9c179e\"], [0.4444444444444444, \"#bd3786\"], [0.5555555555555556, \"#d8576b\"], [0.6666666666666666, \"#ed7953\"], [0.7777777777777778, \"#fb9f3a\"], [0.8888888888888888, \"#fdca26\"], [1.0, \"#f0f921\"]], \"type\": \"heatmapgl\"}], \"histogram\": [{\"marker\": {\"colorbar\": {\"outlinewidth\": 0, \"ticks\": \"\"}}, \"type\": \"histogram\"}], \"histogram2d\": [{\"colorbar\": {\"outlinewidth\": 0, \"ticks\": \"\"}, \"colorscale\": [[0.0, \"#0d0887\"], [0.1111111111111111, \"#46039f\"], [0.2222222222222222, \"#7201a8\"], [0.3333333333333333, \"#9c179e\"], [0.4444444444444444, \"#bd3786\"], [0.5555555555555556, \"#d8576b\"], [0.6666666666666666, \"#ed7953\"], [0.7777777777777778, \"#fb9f3a\"], [0.8888888888888888, \"#fdca26\"], [1.0, \"#f0f921\"]], \"type\": \"histogram2d\"}], \"histogram2dcontour\": [{\"colorbar\": {\"outlinewidth\": 0, \"ticks\": \"\"}, \"colorscale\": [[0.0, \"#0d0887\"], [0.1111111111111111, \"#46039f\"], [0.2222222222222222, \"#7201a8\"], [0.3333333333333333, \"#9c179e\"], [0.4444444444444444, \"#bd3786\"], [0.5555555555555556, \"#d8576b\"], [0.6666666666666666, \"#ed7953\"], [0.7777777777777778, \"#fb9f3a\"], [0.8888888888888888, \"#fdca26\"], [1.0, \"#f0f921\"]], \"type\": \"histogram2dcontour\"}], \"mesh3d\": [{\"colorbar\": {\"outlinewidth\": 0, \"ticks\": \"\"}, \"type\": \"mesh3d\"}], \"parcoords\": [{\"line\": {\"colorbar\": {\"outlinewidth\": 0, \"ticks\": \"\"}}, \"type\": \"parcoords\"}], \"pie\": [{\"automargin\": true, \"type\": \"pie\"}], \"scatter\": [{\"marker\": {\"colorbar\": {\"outlinewidth\": 0, \"ticks\": \"\"}}, \"type\": \"scatter\"}], \"scatter3d\": [{\"line\": {\"colorbar\": {\"outlinewidth\": 0, \"ticks\": \"\"}}, \"marker\": {\"colorbar\": {\"outlinewidth\": 0, \"ticks\": \"\"}}, \"type\": \"scatter3d\"}], \"scattercarpet\": [{\"marker\": {\"colorbar\": {\"outlinewidth\": 0, \"ticks\": \"\"}}, \"type\": \"scattercarpet\"}], \"scattergeo\": [{\"marker\": {\"colorbar\": {\"outlinewidth\": 0, \"ticks\": \"\"}}, \"type\": \"scattergeo\"}], \"scattergl\": [{\"marker\": {\"colorbar\": {\"outlinewidth\": 0, \"ticks\": \"\"}}, \"type\": \"scattergl\"}], \"scattermapbox\": [{\"marker\": {\"colorbar\": {\"outlinewidth\": 0, \"ticks\": \"\"}}, \"type\": \"scattermapbox\"}], \"scatterpolar\": [{\"marker\": {\"colorbar\": {\"outlinewidth\": 0, \"ticks\": \"\"}}, \"type\": \"scatterpolar\"}], \"scatterpolargl\": [{\"marker\": {\"colorbar\": {\"outlinewidth\": 0, \"ticks\": \"\"}}, \"type\": \"scatterpolargl\"}], \"scatterternary\": [{\"marker\": {\"colorbar\": {\"outlinewidth\": 0, \"ticks\": \"\"}}, \"type\": \"scatterternary\"}], \"surface\": [{\"colorbar\": {\"outlinewidth\": 0, \"ticks\": \"\"}, \"colorscale\": [[0.0, \"#0d0887\"], [0.1111111111111111, \"#46039f\"], [0.2222222222222222, \"#7201a8\"], [0.3333333333333333, \"#9c179e\"], [0.4444444444444444, \"#bd3786\"], [0.5555555555555556, \"#d8576b\"], [0.6666666666666666, \"#ed7953\"], [0.7777777777777778, \"#fb9f3a\"], [0.8888888888888888, \"#fdca26\"], [1.0, \"#f0f921\"]], \"type\": \"surface\"}], \"table\": [{\"cells\": {\"fill\": {\"color\": \"#EBF0F8\"}, \"line\": {\"color\": \"white\"}}, \"header\": {\"fill\": {\"color\": \"#C8D4E3\"}, \"line\": {\"color\": \"white\"}}, \"type\": \"table\"}]}, \"layout\": {\"annotationdefaults\": {\"arrowcolor\": \"#2a3f5f\", \"arrowhead\": 0, \"arrowwidth\": 1}, \"autotypenumbers\": \"strict\", \"coloraxis\": {\"colorbar\": {\"outlinewidth\": 0, \"ticks\": \"\"}}, \"colorscale\": {\"diverging\": [[0, \"#8e0152\"], [0.1, \"#c51b7d\"], [0.2, \"#de77ae\"], [0.3, \"#f1b6da\"], [0.4, \"#fde0ef\"], [0.5, \"#f7f7f7\"], [0.6, \"#e6f5d0\"], [0.7, \"#b8e186\"], [0.8, \"#7fbc41\"], [0.9, \"#4d9221\"], [1, \"#276419\"]], \"sequential\": [[0.0, \"#0d0887\"], [0.1111111111111111, \"#46039f\"], [0.2222222222222222, \"#7201a8\"], [0.3333333333333333, \"#9c179e\"], [0.4444444444444444, \"#bd3786\"], [0.5555555555555556, \"#d8576b\"], [0.6666666666666666, \"#ed7953\"], [0.7777777777777778, \"#fb9f3a\"], [0.8888888888888888, \"#fdca26\"], [1.0, \"#f0f921\"]], \"sequentialminus\": [[0.0, \"#0d0887\"], [0.1111111111111111, \"#46039f\"], [0.2222222222222222, \"#7201a8\"], [0.3333333333333333, \"#9c179e\"], [0.4444444444444444, \"#bd3786\"], [0.5555555555555556, \"#d8576b\"], [0.6666666666666666, \"#ed7953\"], [0.7777777777777778, \"#fb9f3a\"], [0.8888888888888888, \"#fdca26\"], [1.0, \"#f0f921\"]]}, \"colorway\": [\"#636efa\", \"#EF553B\", \"#00cc96\", \"#ab63fa\", \"#FFA15A\", \"#19d3f3\", \"#FF6692\", \"#B6E880\", \"#FF97FF\", \"#FECB52\"], \"font\": {\"color\": \"#2a3f5f\"}, \"geo\": {\"bgcolor\": \"white\", \"lakecolor\": \"white\", \"landcolor\": \"#E5ECF6\", \"showlakes\": true, \"showland\": true, \"subunitcolor\": \"white\"}, \"hoverlabel\": {\"align\": \"left\"}, \"hovermode\": \"closest\", \"mapbox\": {\"style\": \"light\"}, \"paper_bgcolor\": \"white\", \"plot_bgcolor\": \"#E5ECF6\", \"polar\": {\"angularaxis\": {\"gridcolor\": \"white\", \"linecolor\": \"white\", \"ticks\": \"\"}, \"bgcolor\": \"#E5ECF6\", \"radialaxis\": {\"gridcolor\": \"white\", \"linecolor\": \"white\", \"ticks\": \"\"}}, \"scene\": {\"xaxis\": {\"backgroundcolor\": \"#E5ECF6\", \"gridcolor\": \"white\", \"gridwidth\": 2, \"linecolor\": \"white\", \"showbackground\": true, \"ticks\": \"\", \"zerolinecolor\": \"white\"}, \"yaxis\": {\"backgroundcolor\": \"#E5ECF6\", \"gridcolor\": \"white\", \"gridwidth\": 2, \"linecolor\": \"white\", \"showbackground\": true, \"ticks\": \"\", \"zerolinecolor\": \"white\"}, \"zaxis\": {\"backgroundcolor\": \"#E5ECF6\", \"gridcolor\": \"white\", \"gridwidth\": 2, \"linecolor\": \"white\", \"showbackground\": true, \"ticks\": \"\", \"zerolinecolor\": \"white\"}}, \"shapedefaults\": {\"line\": {\"color\": \"#2a3f5f\"}}, \"ternary\": {\"aaxis\": {\"gridcolor\": \"white\", \"linecolor\": \"white\", \"ticks\": \"\"}, \"baxis\": {\"gridcolor\": \"white\", \"linecolor\": \"white\", \"ticks\": \"\"}, \"bgcolor\": \"#E5ECF6\", \"caxis\": {\"gridcolor\": \"white\", \"linecolor\": \"white\", \"ticks\": \"\"}}, \"title\": {\"x\": 0.05}, \"xaxis\": {\"automargin\": true, \"gridcolor\": \"white\", \"linecolor\": \"white\", \"ticks\": \"\", \"title\": {\"standoff\": 15}, \"zerolinecolor\": \"white\", \"zerolinewidth\": 2}, \"yaxis\": {\"automargin\": true, \"gridcolor\": \"white\", \"linecolor\": \"white\", \"ticks\": \"\", \"title\": {\"standoff\": 15}, \"zerolinecolor\": \"white\", \"zerolinewidth\": 2}}}, \"title\": {\"text\": \"Company SaaS Deleted Users by Country\"}},                        {\"responsive\": true}                    ).then(function(){\n",
       "                            \n",
       "var gd = document.getElementById('3a760aa0-dc74-407a-8f74-3569f3d957b1');\n",
       "var x = new MutationObserver(function (mutations, observer) {{\n",
       "        var display = window.getComputedStyle(gd).display;\n",
       "        if (!display || display === 'none') {{\n",
       "            console.log([gd, 'removed!']);\n",
       "            Plotly.purge(gd);\n",
       "            observer.disconnect();\n",
       "        }}\n",
       "}});\n",
       "\n",
       "// Listen for the removal of the full notebook cells\n",
       "var notebookContainer = gd.closest('#notebook-container');\n",
       "if (notebookContainer) {{\n",
       "    x.observe(notebookContainer, {childList: true});\n",
       "}}\n",
       "\n",
       "// Listen for the clearing of the current output cell\n",
       "var outputEl = gd.closest('.output');\n",
       "if (outputEl) {{\n",
       "    x.observe(outputEl, {childList: true});\n",
       "}}\n",
       "\n",
       "                        })                };                });            </script>        </div>"
      ]
     },
     "metadata": {},
     "output_type": "display_data"
    }
   ],
   "source": [
    "# creating Deleted users fig with plotly\n",
    "fig = go.Figure(go.Choropleth(\n",
    "    locations = deleted['country_name'],\n",
    "    locationmode = \"country names\",\n",
    "    z = deleted['users'],\n",
    "    text = deleted['country_name'],\n",
    "    colorscale = 'hot',\n",
    "    autocolorscale=False,\n",
    "    reversescale=True,\n",
    "    marker_line_color='#000000',\n",
    "    marker_line_width=0.5,\n",
    "    colorbar_ticksuffix = '',\n",
    "    colorbar_title = 'Users',\n",
    "    )\n",
    ")\n",
    " \n",
    "# Further fig customization\n",
    "fig.update_layout(\n",
    "    title_text = 'Company SaaS Deleted Users by Country',\n",
    "    showlegend = True,\n",
    "    geo = dict(\n",
    "        scope='world',\n",
    "        resolution=110,\n",
    "        projection_type='kavrayskiy7',\n",
    "        showcoastlines=False,\n",
    "        showocean=True,\n",
    "        showcountries=True,\n",
    "        oceancolor='#eaeaea',\n",
    "        lakecolor='#eaeaea',\n",
    "        coastlinecolor='#dadada'\n",
    "    )\n",
    ")\n",
    " \n",
    "# display interactive image\n",
    "fig.write_image(f\"{graphs_dir}/Deleted users.png\")\n",
    "fig.show()"
   ]
  },
  {
   "cell_type": "markdown",
   "metadata": {},
   "source": [
    "### Combined tables EDA\n",
    "\n",
    "While individual table analisys is good for understanding the data bit by bit, a more comprehensive approach is required in order to provide greater insight. "
   ]
  },
  {
   "cell_type": "code",
   "execution_count": null,
   "metadata": {},
   "outputs": [],
   "source": [
    "# merging order: subs -> accs -> usrs"
   ]
  }
 ],
 "metadata": {
  "celltoolbar": "Raw Cell Format",
  "colab": {
   "collapsed_sections": [],
   "include_colab_link": true,
   "name": "DataAnalystChallenge.ipynb",
   "provenance": []
  },
  "kernelspec": {
   "display_name": "Python 3",
   "language": "python",
   "name": "python3"
  },
  "language_info": {
   "codemirror_mode": {
    "name": "ipython",
    "version": 3
   },
   "file_extension": ".py",
   "mimetype": "text/x-python",
   "name": "python",
   "nbconvert_exporter": "python",
   "pygments_lexer": "ipython3",
   "version": "3.7.9"
  }
 },
 "nbformat": 4,
 "nbformat_minor": 1
}
